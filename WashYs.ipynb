{
 "cells": [
  {
   "cell_type": "code",
   "execution_count": 1,
   "metadata": {},
   "outputs": [],
   "source": [
    "import numpy as np # linear algebra\n",
    "import pandas as pd # data processing, CSV file I/O (e.g. pd.read_csv)\n",
    "import matplotlib.pyplot as plt\n",
    "import os\n",
    "plt.style.use('dark_background')\n",
    "import seaborn as sns\n",
    "from IPython.display import Image, display\n",
    "from matplotlib.ticker import MaxNLocator\n",
    "#from fbprophet import Prophet\n",
    "import squarify"
   ]
  },
  {
   "cell_type": "code",
   "execution_count": 2,
   "metadata": {
    "scrolled": true
   },
   "outputs": [
    {
     "data": {
      "text/html": [
       "<div>\n",
       "<style scoped>\n",
       "    .dataframe tbody tr th:only-of-type {\n",
       "        vertical-align: middle;\n",
       "    }\n",
       "\n",
       "    .dataframe tbody tr th {\n",
       "        vertical-align: top;\n",
       "    }\n",
       "\n",
       "    .dataframe thead th {\n",
       "        text-align: right;\n",
       "    }\n",
       "</style>\n",
       "<table border=\"1\" class=\"dataframe\">\n",
       "  <thead>\n",
       "    <tr style=\"text-align: right;\">\n",
       "      <th></th>\n",
       "      <th>Unnamed: 0</th>\n",
       "      <th>Country</th>\n",
       "      <th>Year</th>\n",
       "      <th>Service Type_x</th>\n",
       "      <th>Expected_Value_Water</th>\n",
       "      <th>Service Type_y</th>\n",
       "      <th>Expected_Value_Sanitation</th>\n",
       "      <th>Service Type</th>\n",
       "      <th>Expected_Value_Hygiene</th>\n",
       "    </tr>\n",
       "  </thead>\n",
       "  <tbody>\n",
       "    <tr>\n",
       "      <th>0</th>\n",
       "      <td>0</td>\n",
       "      <td>Afghanistan</td>\n",
       "      <td>2005</td>\n",
       "      <td>Drinking water</td>\n",
       "      <td>1.555984</td>\n",
       "      <td>Sanitation</td>\n",
       "      <td>1.405571</td>\n",
       "      <td>Hygiene</td>\n",
       "      <td>1.802676</td>\n",
       "    </tr>\n",
       "    <tr>\n",
       "      <th>1</th>\n",
       "      <td>1</td>\n",
       "      <td>Afghanistan</td>\n",
       "      <td>2006</td>\n",
       "      <td>Drinking water</td>\n",
       "      <td>1.610704</td>\n",
       "      <td>Sanitation</td>\n",
       "      <td>1.440230</td>\n",
       "      <td>Hygiene</td>\n",
       "      <td>1.804166</td>\n",
       "    </tr>\n",
       "    <tr>\n",
       "      <th>2</th>\n",
       "      <td>2</td>\n",
       "      <td>Afghanistan</td>\n",
       "      <td>2008</td>\n",
       "      <td>Drinking water</td>\n",
       "      <td>1.726436</td>\n",
       "      <td>Sanitation</td>\n",
       "      <td>1.511591</td>\n",
       "      <td>Hygiene</td>\n",
       "      <td>1.807183</td>\n",
       "    </tr>\n",
       "    <tr>\n",
       "      <th>3</th>\n",
       "      <td>3</td>\n",
       "      <td>Afghanistan</td>\n",
       "      <td>2009</td>\n",
       "      <td>Drinking water</td>\n",
       "      <td>1.784809</td>\n",
       "      <td>Sanitation</td>\n",
       "      <td>1.547524</td>\n",
       "      <td>Hygiene</td>\n",
       "      <td>1.808702</td>\n",
       "    </tr>\n",
       "    <tr>\n",
       "      <th>4</th>\n",
       "      <td>4</td>\n",
       "      <td>Afghanistan</td>\n",
       "      <td>2010</td>\n",
       "      <td>Drinking water</td>\n",
       "      <td>1.843520</td>\n",
       "      <td>Sanitation</td>\n",
       "      <td>1.583627</td>\n",
       "      <td>Hygiene</td>\n",
       "      <td>1.810229</td>\n",
       "    </tr>\n",
       "  </tbody>\n",
       "</table>\n",
       "</div>"
      ],
      "text/plain": [
       "   Unnamed: 0      Country  Year  Service Type_x  Expected_Value_Water  \\\n",
       "0           0  Afghanistan  2005  Drinking water              1.555984   \n",
       "1           1  Afghanistan  2006  Drinking water              1.610704   \n",
       "2           2  Afghanistan  2008  Drinking water              1.726436   \n",
       "3           3  Afghanistan  2009  Drinking water              1.784809   \n",
       "4           4  Afghanistan  2010  Drinking water              1.843520   \n",
       "\n",
       "  Service Type_y  Expected_Value_Sanitation Service Type  \\\n",
       "0     Sanitation                   1.405571      Hygiene   \n",
       "1     Sanitation                   1.440230      Hygiene   \n",
       "2     Sanitation                   1.511591      Hygiene   \n",
       "3     Sanitation                   1.547524      Hygiene   \n",
       "4     Sanitation                   1.583627      Hygiene   \n",
       "\n",
       "   Expected_Value_Hygiene  \n",
       "0                1.802676  \n",
       "1                1.804166  \n",
       "2                1.807183  \n",
       "3                1.808702  \n",
       "4                1.810229  "
      ]
     },
     "execution_count": 2,
     "metadata": {},
     "output_type": "execute_result"
    }
   ],
   "source": [
    "df=pd.read_csv(\"washdash-expected.csv\")\n",
    "df.head()"
   ]
  },
  {
   "cell_type": "markdown",
   "metadata": {},
   "source": [
    "## other diseases"
   ]
  },
  {
   "cell_type": "code",
   "execution_count": 3,
   "metadata": {},
   "outputs": [
    {
     "name": "stderr",
     "output_type": "stream",
     "text": [
      "/home/vno/pythonprojects/python_projects_env/lib/python3.6/site-packages/IPython/core/interactiveshell.py:3051: DtypeWarning: Columns (7) have mixed types. Specify dtype option on import or set low_memory=False.\n",
      "  interactivity=interactivity, compiler=compiler, result=result)\n"
     ]
    },
    {
     "data": {
      "text/html": [
       "<div>\n",
       "<style scoped>\n",
       "    .dataframe tbody tr th:only-of-type {\n",
       "        vertical-align: middle;\n",
       "    }\n",
       "\n",
       "    .dataframe tbody tr th {\n",
       "        vertical-align: top;\n",
       "    }\n",
       "\n",
       "    .dataframe thead th {\n",
       "        text-align: right;\n",
       "    }\n",
       "</style>\n",
       "<table border=\"1\" class=\"dataframe\">\n",
       "  <thead>\n",
       "    <tr style=\"text-align: right;\">\n",
       "      <th></th>\n",
       "      <th>report_date</th>\n",
       "      <th>location</th>\n",
       "      <th>location_type</th>\n",
       "      <th>data_field</th>\n",
       "      <th>data_field_code</th>\n",
       "      <th>time_period</th>\n",
       "      <th>time_period_type</th>\n",
       "      <th>value</th>\n",
       "      <th>unit</th>\n",
       "    </tr>\n",
       "  </thead>\n",
       "  <tbody>\n",
       "    <tr>\n",
       "      <th>0</th>\n",
       "      <td>2016-03-19</td>\n",
       "      <td>Argentina-Buenos_Aires</td>\n",
       "      <td>province</td>\n",
       "      <td>cumulative_confirmed_local_cases</td>\n",
       "      <td>AR0001</td>\n",
       "      <td>NaN</td>\n",
       "      <td>NaN</td>\n",
       "      <td>0</td>\n",
       "      <td>cases</td>\n",
       "    </tr>\n",
       "    <tr>\n",
       "      <th>1</th>\n",
       "      <td>2016-03-19</td>\n",
       "      <td>Argentina-Buenos_Aires</td>\n",
       "      <td>province</td>\n",
       "      <td>cumulative_probable_local_cases</td>\n",
       "      <td>AR0002</td>\n",
       "      <td>NaN</td>\n",
       "      <td>NaN</td>\n",
       "      <td>0</td>\n",
       "      <td>cases</td>\n",
       "    </tr>\n",
       "    <tr>\n",
       "      <th>2</th>\n",
       "      <td>2016-03-19</td>\n",
       "      <td>Argentina-Buenos_Aires</td>\n",
       "      <td>province</td>\n",
       "      <td>cumulative_confirmed_imported_cases</td>\n",
       "      <td>AR0003</td>\n",
       "      <td>NaN</td>\n",
       "      <td>NaN</td>\n",
       "      <td>2</td>\n",
       "      <td>cases</td>\n",
       "    </tr>\n",
       "    <tr>\n",
       "      <th>3</th>\n",
       "      <td>2016-03-19</td>\n",
       "      <td>Argentina-Buenos_Aires</td>\n",
       "      <td>province</td>\n",
       "      <td>cumulative_probable_imported_cases</td>\n",
       "      <td>AR0004</td>\n",
       "      <td>NaN</td>\n",
       "      <td>NaN</td>\n",
       "      <td>1</td>\n",
       "      <td>cases</td>\n",
       "    </tr>\n",
       "    <tr>\n",
       "      <th>4</th>\n",
       "      <td>2016-03-19</td>\n",
       "      <td>Argentina-Buenos_Aires</td>\n",
       "      <td>province</td>\n",
       "      <td>cumulative_cases_under_study</td>\n",
       "      <td>AR0005</td>\n",
       "      <td>NaN</td>\n",
       "      <td>NaN</td>\n",
       "      <td>127</td>\n",
       "      <td>cases</td>\n",
       "    </tr>\n",
       "  </tbody>\n",
       "</table>\n",
       "</div>"
      ],
      "text/plain": [
       "  report_date                location location_type  \\\n",
       "0  2016-03-19  Argentina-Buenos_Aires      province   \n",
       "1  2016-03-19  Argentina-Buenos_Aires      province   \n",
       "2  2016-03-19  Argentina-Buenos_Aires      province   \n",
       "3  2016-03-19  Argentina-Buenos_Aires      province   \n",
       "4  2016-03-19  Argentina-Buenos_Aires      province   \n",
       "\n",
       "                            data_field data_field_code  time_period  \\\n",
       "0     cumulative_confirmed_local_cases          AR0001          NaN   \n",
       "1      cumulative_probable_local_cases          AR0002          NaN   \n",
       "2  cumulative_confirmed_imported_cases          AR0003          NaN   \n",
       "3   cumulative_probable_imported_cases          AR0004          NaN   \n",
       "4         cumulative_cases_under_study          AR0005          NaN   \n",
       "\n",
       "   time_period_type value   unit  \n",
       "0               NaN     0  cases  \n",
       "1               NaN     0  cases  \n",
       "2               NaN     2  cases  \n",
       "3               NaN     1  cases  \n",
       "4               NaN   127  cases  "
      ]
     },
     "execution_count": 3,
     "metadata": {},
     "output_type": "execute_result"
    }
   ],
   "source": [
    "zica = pd.read_csv(\"cdc_zika.csv\")\n",
    "ebola = pd.read_csv(\"ebola.csv\")\n",
    "swineflu = pd.read_csv('swineflu/h1n12009.csv', encoding = \"ISO-8859-1\")\n",
    "zica.head()\n",
    "# cases of swine flu in 2009, use for coronavirus\n",
    "# clean data\n",
    "# combine data\n",
    "# use x to predict y\n",
    "# add more country data"
   ]
  },
  {
   "cell_type": "code",
   "execution_count": 3,
   "metadata": {
    "scrolled": true
   },
   "outputs": [],
   "source": [
    "to_dropid = ['Unnamed: 0','Service Type_x','Service Type_y','Service Type']\n",
    "df.drop(to_dropid,inplace=True, axis=1)"
   ]
  },
  {
   "cell_type": "code",
   "execution_count": 7,
   "metadata": {
    "scrolled": true
   },
   "outputs": [],
   "source": [
    "diceases = pd.read_csv('hivtuberculosis.csv')"
   ]
  },
  {
   "cell_type": "code",
   "execution_count": 8,
   "metadata": {},
   "outputs": [],
   "source": [
    "hiv = pd.read_csv('malaria.csv')\n",
    "tuberculosis = pd.read_csv('tuberculosis.csv')\n",
    "hepatitb = pd.read_csv('hepatitb.csv')"
   ]
  },
  {
   "cell_type": "markdown",
   "metadata": {},
   "source": [
    "## Tuberculosis tidying data"
   ]
  },
  {
   "cell_type": "code",
   "execution_count": 9,
   "metadata": {},
   "outputs": [],
   "source": [
    "tuberculosis.columns = ['Country','2018','2017','2016','2015','2014','2013','2012','2011','2010']"
   ]
  },
  {
   "cell_type": "code",
   "execution_count": 10,
   "metadata": {},
   "outputs": [],
   "source": [
    "def getuncertanties(item):\n",
    "    if '[' in item:\n",
    "        return item[:item.find('[')]\n",
    "    else:\n",
    "        return item"
   ]
  },
  {
   "cell_type": "code",
   "execution_count": 11,
   "metadata": {},
   "outputs": [],
   "source": [
    "def split(item):\n",
    "    return item.str.split('[').str[0]"
   ]
  },
  {
   "cell_type": "code",
   "execution_count": 12,
   "metadata": {},
   "outputs": [],
   "source": [
    "tuberculosis = tuberculosis.apply(split).drop(tuberculosis.index[[0,1]])"
   ]
  },
  {
   "cell_type": "code",
   "execution_count": 13,
   "metadata": {},
   "outputs": [],
   "source": [
    "\n",
    "tuberculosis=pd.melt(tuberculosis, id_vars=['Country'], var_name='year', value_name='tuberculosis')"
   ]
  },
  {
   "cell_type": "code",
   "execution_count": 22,
   "metadata": {},
   "outputs": [],
   "source": [
    "tuberculosis['tuberculosis']=tuberculosis.tuberculosis.astype(float)\n",
    "tuberculosis['year']=tuberculosis['year'].astype(int)"
   ]
  },
  {
   "cell_type": "code",
   "execution_count": 23,
   "metadata": {
    "scrolled": true
   },
   "outputs": [
    {
     "data": {
      "text/html": [
       "<div>\n",
       "<style scoped>\n",
       "    .dataframe tbody tr th:only-of-type {\n",
       "        vertical-align: middle;\n",
       "    }\n",
       "\n",
       "    .dataframe tbody tr th {\n",
       "        vertical-align: top;\n",
       "    }\n",
       "\n",
       "    .dataframe thead th {\n",
       "        text-align: right;\n",
       "    }\n",
       "</style>\n",
       "<table border=\"1\" class=\"dataframe\">\n",
       "  <thead>\n",
       "    <tr style=\"text-align: right;\">\n",
       "      <th></th>\n",
       "      <th>Country</th>\n",
       "      <th>year</th>\n",
       "      <th>tuberculosis</th>\n",
       "    </tr>\n",
       "  </thead>\n",
       "  <tbody>\n",
       "    <tr>\n",
       "      <th>0</th>\n",
       "      <td>Afghanistan</td>\n",
       "      <td>2018</td>\n",
       "      <td>189.0</td>\n",
       "    </tr>\n",
       "    <tr>\n",
       "      <th>1</th>\n",
       "      <td>Albania</td>\n",
       "      <td>2018</td>\n",
       "      <td>18.0</td>\n",
       "    </tr>\n",
       "    <tr>\n",
       "      <th>2</th>\n",
       "      <td>Algeria</td>\n",
       "      <td>2018</td>\n",
       "      <td>69.0</td>\n",
       "    </tr>\n",
       "    <tr>\n",
       "      <th>3</th>\n",
       "      <td>Andorra</td>\n",
       "      <td>2018</td>\n",
       "      <td>3.0</td>\n",
       "    </tr>\n",
       "    <tr>\n",
       "      <th>4</th>\n",
       "      <td>Angola</td>\n",
       "      <td>2018</td>\n",
       "      <td>355.0</td>\n",
       "    </tr>\n",
       "    <tr>\n",
       "      <th>...</th>\n",
       "      <td>...</td>\n",
       "      <td>...</td>\n",
       "      <td>...</td>\n",
       "    </tr>\n",
       "    <tr>\n",
       "      <th>1741</th>\n",
       "      <td>Venezuela (Bolivarian Republic of)</td>\n",
       "      <td>2010</td>\n",
       "      <td>28.0</td>\n",
       "    </tr>\n",
       "    <tr>\n",
       "      <th>1742</th>\n",
       "      <td>Viet Nam</td>\n",
       "      <td>2010</td>\n",
       "      <td>231.0</td>\n",
       "    </tr>\n",
       "    <tr>\n",
       "      <th>1743</th>\n",
       "      <td>Yemen</td>\n",
       "      <td>2010</td>\n",
       "      <td>52.0</td>\n",
       "    </tr>\n",
       "    <tr>\n",
       "      <th>1744</th>\n",
       "      <td>Zambia</td>\n",
       "      <td>2010</td>\n",
       "      <td>495.0</td>\n",
       "    </tr>\n",
       "    <tr>\n",
       "      <th>1745</th>\n",
       "      <td>Zimbabwe</td>\n",
       "      <td>2010</td>\n",
       "      <td>416.0</td>\n",
       "    </tr>\n",
       "  </tbody>\n",
       "</table>\n",
       "<p>1744 rows × 3 columns</p>\n",
       "</div>"
      ],
      "text/plain": [
       "                                 Country  year  tuberculosis\n",
       "0                            Afghanistan  2018         189.0\n",
       "1                                Albania  2018          18.0\n",
       "2                                Algeria  2018          69.0\n",
       "3                                Andorra  2018           3.0\n",
       "4                                 Angola  2018         355.0\n",
       "...                                  ...   ...           ...\n",
       "1741  Venezuela (Bolivarian Republic of)  2010          28.0\n",
       "1742                            Viet Nam  2010         231.0\n",
       "1743                               Yemen  2010          52.0\n",
       "1744                              Zambia  2010         495.0\n",
       "1745                            Zimbabwe  2010         416.0\n",
       "\n",
       "[1744 rows x 3 columns]"
      ]
     },
     "execution_count": 23,
     "metadata": {},
     "output_type": "execute_result"
    }
   ],
   "source": [
    "tuberculosis.dropna()\n",
    "#tuberculosis['tuberculosis'].astype(str).astype(float)"
   ]
  },
  {
   "cell_type": "markdown",
   "metadata": {},
   "source": [
    "## Tuberculosis Incidences by Year"
   ]
  },
  {
   "cell_type": "code",
   "execution_count": 24,
   "metadata": {},
   "outputs": [
    {
     "data": {
      "text/plain": [
       "Text(0.5, 0, 'Year')"
      ]
     },
     "execution_count": 24,
     "metadata": {},
     "output_type": "execute_result"
    },
    {
     "data": {
      "image/png": "[encoded data removed]",
      "text/plain": [
       "<Figure size 720x432 with 1 Axes>"
      ]
     },
     "metadata": {},
     "output_type": "display_data"
    }
   ],
   "source": [
    "plt.style.use('dark_background')\n",
    "tuberculosis.groupby('year')['tuberculosis'].mean().plot(kind='bar', figsize=(10, 6))\n",
    "plt.suptitle('Mean of Tuberculosis incidences by year', fontsize=14)\n",
    "plt.ylabel('Tuberculosis incidences per 100000 people')\n",
    "plt.xlabel('Year') "
   ]
  },
  {
   "cell_type": "code",
   "execution_count": 47,
   "metadata": {
    "scrolled": true
   },
   "outputs": [
    {
     "data": {
      "text/html": [
       "<div>\n",
       "<style scoped>\n",
       "    .dataframe tbody tr th:only-of-type {\n",
       "        vertical-align: middle;\n",
       "    }\n",
       "\n",
       "    .dataframe tbody tr th {\n",
       "        vertical-align: top;\n",
       "    }\n",
       "\n",
       "    .dataframe thead th {\n",
       "        text-align: right;\n",
       "    }\n",
       "</style>\n",
       "<table border=\"1\" class=\"dataframe\">\n",
       "  <thead>\n",
       "    <tr style=\"text-align: right;\">\n",
       "      <th></th>\n",
       "      <th>Country</th>\n",
       "      <th>year</th>\n",
       "      <th>tuberculosis</th>\n",
       "    </tr>\n",
       "  </thead>\n",
       "  <tbody>\n",
       "    <tr>\n",
       "      <th>0</th>\n",
       "      <td>Afghanistan</td>\n",
       "      <td>2018</td>\n",
       "      <td>189.0</td>\n",
       "    </tr>\n",
       "    <tr>\n",
       "      <th>1</th>\n",
       "      <td>Albania</td>\n",
       "      <td>2018</td>\n",
       "      <td>18.0</td>\n",
       "    </tr>\n",
       "    <tr>\n",
       "      <th>2</th>\n",
       "      <td>Algeria</td>\n",
       "      <td>2018</td>\n",
       "      <td>69.0</td>\n",
       "    </tr>\n",
       "    <tr>\n",
       "      <th>3</th>\n",
       "      <td>Andorra</td>\n",
       "      <td>2018</td>\n",
       "      <td>3.0</td>\n",
       "    </tr>\n",
       "    <tr>\n",
       "      <th>4</th>\n",
       "      <td>Angola</td>\n",
       "      <td>2018</td>\n",
       "      <td>355.0</td>\n",
       "    </tr>\n",
       "    <tr>\n",
       "      <th>...</th>\n",
       "      <td>...</td>\n",
       "      <td>...</td>\n",
       "      <td>...</td>\n",
       "    </tr>\n",
       "    <tr>\n",
       "      <th>1741</th>\n",
       "      <td>Venezuela (Bolivarian Republic of)</td>\n",
       "      <td>2010</td>\n",
       "      <td>28.0</td>\n",
       "    </tr>\n",
       "    <tr>\n",
       "      <th>1742</th>\n",
       "      <td>Viet Nam</td>\n",
       "      <td>2010</td>\n",
       "      <td>231.0</td>\n",
       "    </tr>\n",
       "    <tr>\n",
       "      <th>1743</th>\n",
       "      <td>Yemen</td>\n",
       "      <td>2010</td>\n",
       "      <td>52.0</td>\n",
       "    </tr>\n",
       "    <tr>\n",
       "      <th>1744</th>\n",
       "      <td>Zambia</td>\n",
       "      <td>2010</td>\n",
       "      <td>495.0</td>\n",
       "    </tr>\n",
       "    <tr>\n",
       "      <th>1745</th>\n",
       "      <td>Zimbabwe</td>\n",
       "      <td>2010</td>\n",
       "      <td>416.0</td>\n",
       "    </tr>\n",
       "  </tbody>\n",
       "</table>\n",
       "<p>1746 rows × 3 columns</p>\n",
       "</div>"
      ],
      "text/plain": [
       "                                 Country  year  tuberculosis\n",
       "0                            Afghanistan  2018         189.0\n",
       "1                                Albania  2018          18.0\n",
       "2                                Algeria  2018          69.0\n",
       "3                                Andorra  2018           3.0\n",
       "4                                 Angola  2018         355.0\n",
       "...                                  ...   ...           ...\n",
       "1741  Venezuela (Bolivarian Republic of)  2010          28.0\n",
       "1742                            Viet Nam  2010         231.0\n",
       "1743                               Yemen  2010          52.0\n",
       "1744                              Zambia  2010         495.0\n",
       "1745                            Zimbabwe  2010         416.0\n",
       "\n",
       "[1746 rows x 3 columns]"
      ]
     },
     "execution_count": 47,
     "metadata": {},
     "output_type": "execute_result"
    }
   ],
   "source": [
    "tuberculosis.sort_values(by='tuberculosis', ascending=False)\n",
    "tuberculosis"
   ]
  },
  {
   "cell_type": "markdown",
   "metadata": {},
   "source": [
    "## Subsetting data to include only South East Asia"
   ]
  },
  {
   "cell_type": "code",
   "execution_count": 28,
   "metadata": {
    "scrolled": true
   },
   "outputs": [
    {
     "data": {
      "text/html": [
       "<div>\n",
       "<style scoped>\n",
       "    .dataframe tbody tr th:only-of-type {\n",
       "        vertical-align: middle;\n",
       "    }\n",
       "\n",
       "    .dataframe tbody tr th {\n",
       "        vertical-align: top;\n",
       "    }\n",
       "\n",
       "    .dataframe thead th {\n",
       "        text-align: right;\n",
       "    }\n",
       "</style>\n",
       "<table border=\"1\" class=\"dataframe\">\n",
       "  <thead>\n",
       "    <tr style=\"text-align: right;\">\n",
       "      <th></th>\n",
       "      <th>Country</th>\n",
       "      <th>Year</th>\n",
       "      <th>Expected_Value_Water</th>\n",
       "      <th>Expected_Value_Sanitation</th>\n",
       "      <th>Expected_Value_Hygiene</th>\n",
       "    </tr>\n",
       "  </thead>\n",
       "  <tbody>\n",
       "    <tr>\n",
       "      <th>145</th>\n",
       "      <td>Cambodia</td>\n",
       "      <td>2008</td>\n",
       "      <td>2.101690</td>\n",
       "      <td>1.087102</td>\n",
       "      <td>2.216109</td>\n",
       "    </tr>\n",
       "    <tr>\n",
       "      <th>146</th>\n",
       "      <td>Cambodia</td>\n",
       "      <td>2009</td>\n",
       "      <td>2.142178</td>\n",
       "      <td>1.181170</td>\n",
       "      <td>2.218498</td>\n",
       "    </tr>\n",
       "    <tr>\n",
       "      <th>147</th>\n",
       "      <td>Cambodia</td>\n",
       "      <td>2010</td>\n",
       "      <td>2.182664</td>\n",
       "      <td>1.275551</td>\n",
       "      <td>2.220920</td>\n",
       "    </tr>\n",
       "    <tr>\n",
       "      <th>148</th>\n",
       "      <td>Cambodia</td>\n",
       "      <td>2011</td>\n",
       "      <td>2.223147</td>\n",
       "      <td>1.370247</td>\n",
       "      <td>2.223375</td>\n",
       "    </tr>\n",
       "    <tr>\n",
       "      <th>149</th>\n",
       "      <td>Cambodia</td>\n",
       "      <td>2012</td>\n",
       "      <td>2.263625</td>\n",
       "      <td>1.465257</td>\n",
       "      <td>2.225863</td>\n",
       "    </tr>\n",
       "    <tr>\n",
       "      <th>150</th>\n",
       "      <td>Cambodia</td>\n",
       "      <td>2013</td>\n",
       "      <td>2.304092</td>\n",
       "      <td>1.560566</td>\n",
       "      <td>2.228378</td>\n",
       "    </tr>\n",
       "    <tr>\n",
       "      <th>151</th>\n",
       "      <td>Cambodia</td>\n",
       "      <td>2014</td>\n",
       "      <td>2.344559</td>\n",
       "      <td>1.656204</td>\n",
       "      <td>2.230933</td>\n",
       "    </tr>\n",
       "    <tr>\n",
       "      <th>152</th>\n",
       "      <td>Cambodia</td>\n",
       "      <td>2016</td>\n",
       "      <td>2.425470</td>\n",
       "      <td>1.848422</td>\n",
       "      <td>2.236143</td>\n",
       "    </tr>\n",
       "    <tr>\n",
       "      <th>153</th>\n",
       "      <td>Cambodia</td>\n",
       "      <td>2017</td>\n",
       "      <td>2.465925</td>\n",
       "      <td>1.931738</td>\n",
       "      <td>2.238791</td>\n",
       "    </tr>\n",
       "    <tr>\n",
       "      <th>364</th>\n",
       "      <td>Indonesia</td>\n",
       "      <td>2006</td>\n",
       "      <td>2.598264</td>\n",
       "      <td>1.945159</td>\n",
       "      <td>2.014169</td>\n",
       "    </tr>\n",
       "    <tr>\n",
       "      <th>365</th>\n",
       "      <td>Indonesia</td>\n",
       "      <td>2008</td>\n",
       "      <td>2.635034</td>\n",
       "      <td>2.048675</td>\n",
       "      <td>2.021933</td>\n",
       "    </tr>\n",
       "    <tr>\n",
       "      <th>366</th>\n",
       "      <td>Indonesia</td>\n",
       "      <td>2009</td>\n",
       "      <td>2.653056</td>\n",
       "      <td>2.099782</td>\n",
       "      <td>2.025817</td>\n",
       "    </tr>\n",
       "    <tr>\n",
       "      <th>367</th>\n",
       "      <td>Indonesia</td>\n",
       "      <td>2010</td>\n",
       "      <td>2.670761</td>\n",
       "      <td>2.150304</td>\n",
       "      <td>2.029609</td>\n",
       "    </tr>\n",
       "    <tr>\n",
       "      <th>368</th>\n",
       "      <td>Indonesia</td>\n",
       "      <td>2011</td>\n",
       "      <td>2.687857</td>\n",
       "      <td>2.199702</td>\n",
       "      <td>2.032919</td>\n",
       "    </tr>\n",
       "    <tr>\n",
       "      <th>369</th>\n",
       "      <td>Indonesia</td>\n",
       "      <td>2012</td>\n",
       "      <td>2.704744</td>\n",
       "      <td>2.248740</td>\n",
       "      <td>2.036230</td>\n",
       "    </tr>\n",
       "    <tr>\n",
       "      <th>370</th>\n",
       "      <td>Indonesia</td>\n",
       "      <td>2013</td>\n",
       "      <td>2.721417</td>\n",
       "      <td>2.297400</td>\n",
       "      <td>2.039531</td>\n",
       "    </tr>\n",
       "    <tr>\n",
       "      <th>371</th>\n",
       "      <td>Indonesia</td>\n",
       "      <td>2014</td>\n",
       "      <td>2.737885</td>\n",
       "      <td>2.345697</td>\n",
       "      <td>2.042837</td>\n",
       "    </tr>\n",
       "    <tr>\n",
       "      <th>372</th>\n",
       "      <td>Indonesia</td>\n",
       "      <td>2016</td>\n",
       "      <td>2.770185</td>\n",
       "      <td>2.441131</td>\n",
       "      <td>2.049419</td>\n",
       "    </tr>\n",
       "    <tr>\n",
       "      <th>373</th>\n",
       "      <td>Indonesia</td>\n",
       "      <td>2017</td>\n",
       "      <td>2.786007</td>\n",
       "      <td>2.488244</td>\n",
       "      <td>2.052676</td>\n",
       "    </tr>\n",
       "    <tr>\n",
       "      <th>524</th>\n",
       "      <td>Myanmar</td>\n",
       "      <td>2012</td>\n",
       "      <td>2.390700</td>\n",
       "      <td>2.326865</td>\n",
       "      <td>2.672706</td>\n",
       "    </tr>\n",
       "    <tr>\n",
       "      <th>525</th>\n",
       "      <td>Myanmar</td>\n",
       "      <td>2013</td>\n",
       "      <td>2.429895</td>\n",
       "      <td>2.318578</td>\n",
       "      <td>2.673221</td>\n",
       "    </tr>\n",
       "    <tr>\n",
       "      <th>526</th>\n",
       "      <td>Myanmar</td>\n",
       "      <td>2014</td>\n",
       "      <td>2.469429</td>\n",
       "      <td>2.310306</td>\n",
       "      <td>2.673742</td>\n",
       "    </tr>\n",
       "    <tr>\n",
       "      <th>527</th>\n",
       "      <td>Myanmar</td>\n",
       "      <td>2016</td>\n",
       "      <td>2.523574</td>\n",
       "      <td>2.294000</td>\n",
       "      <td>2.674907</td>\n",
       "    </tr>\n",
       "    <tr>\n",
       "      <th>528</th>\n",
       "      <td>Myanmar</td>\n",
       "      <td>2017</td>\n",
       "      <td>2.547131</td>\n",
       "      <td>2.285972</td>\n",
       "      <td>2.675554</td>\n",
       "    </tr>\n",
       "    <tr>\n",
       "      <th>579</th>\n",
       "      <td>Philippines</td>\n",
       "      <td>2011</td>\n",
       "      <td>2.826379</td>\n",
       "      <td>2.503945</td>\n",
       "      <td>2.586613</td>\n",
       "    </tr>\n",
       "    <tr>\n",
       "      <th>580</th>\n",
       "      <td>Philippines</td>\n",
       "      <td>2012</td>\n",
       "      <td>2.837216</td>\n",
       "      <td>2.524662</td>\n",
       "      <td>2.587145</td>\n",
       "    </tr>\n",
       "    <tr>\n",
       "      <th>581</th>\n",
       "      <td>Philippines</td>\n",
       "      <td>2013</td>\n",
       "      <td>2.848025</td>\n",
       "      <td>2.545408</td>\n",
       "      <td>2.587680</td>\n",
       "    </tr>\n",
       "    <tr>\n",
       "      <th>582</th>\n",
       "      <td>Philippines</td>\n",
       "      <td>2014</td>\n",
       "      <td>2.858804</td>\n",
       "      <td>2.566177</td>\n",
       "      <td>2.588212</td>\n",
       "    </tr>\n",
       "    <tr>\n",
       "      <th>583</th>\n",
       "      <td>Philippines</td>\n",
       "      <td>2016</td>\n",
       "      <td>2.880276</td>\n",
       "      <td>2.607789</td>\n",
       "      <td>2.589282</td>\n",
       "    </tr>\n",
       "    <tr>\n",
       "      <th>584</th>\n",
       "      <td>Philippines</td>\n",
       "      <td>2017</td>\n",
       "      <td>2.889947</td>\n",
       "      <td>2.628653</td>\n",
       "      <td>2.589862</td>\n",
       "    </tr>\n",
       "    <tr>\n",
       "      <th>693</th>\n",
       "      <td>Thailand</td>\n",
       "      <td>2012</td>\n",
       "      <td>2.966718</td>\n",
       "      <td>2.959868</td>\n",
       "      <td>2.685826</td>\n",
       "    </tr>\n",
       "    <tr>\n",
       "      <th>694</th>\n",
       "      <td>Thailand</td>\n",
       "      <td>2013</td>\n",
       "      <td>2.973489</td>\n",
       "      <td>2.968154</td>\n",
       "      <td>2.685573</td>\n",
       "    </tr>\n",
       "    <tr>\n",
       "      <th>695</th>\n",
       "      <td>Thailand</td>\n",
       "      <td>2014</td>\n",
       "      <td>2.980098</td>\n",
       "      <td>2.973072</td>\n",
       "      <td>2.685319</td>\n",
       "    </tr>\n",
       "    <tr>\n",
       "      <th>696</th>\n",
       "      <td>Thailand</td>\n",
       "      <td>2016</td>\n",
       "      <td>2.985532</td>\n",
       "      <td>2.983385</td>\n",
       "      <td>2.684810</td>\n",
       "    </tr>\n",
       "    <tr>\n",
       "      <th>697</th>\n",
       "      <td>Thailand</td>\n",
       "      <td>2017</td>\n",
       "      <td>2.999307</td>\n",
       "      <td>2.986947</td>\n",
       "      <td>2.684556</td>\n",
       "    </tr>\n",
       "  </tbody>\n",
       "</table>\n",
       "</div>"
      ],
      "text/plain": [
       "         Country  Year  Expected_Value_Water  Expected_Value_Sanitation  \\\n",
       "145     Cambodia  2008              2.101690                   1.087102   \n",
       "146     Cambodia  2009              2.142178                   1.181170   \n",
       "147     Cambodia  2010              2.182664                   1.275551   \n",
       "148     Cambodia  2011              2.223147                   1.370247   \n",
       "149     Cambodia  2012              2.263625                   1.465257   \n",
       "150     Cambodia  2013              2.304092                   1.560566   \n",
       "151     Cambodia  2014              2.344559                   1.656204   \n",
       "152     Cambodia  2016              2.425470                   1.848422   \n",
       "153     Cambodia  2017              2.465925                   1.931738   \n",
       "364    Indonesia  2006              2.598264                   1.945159   \n",
       "365    Indonesia  2008              2.635034                   2.048675   \n",
       "366    Indonesia  2009              2.653056                   2.099782   \n",
       "367    Indonesia  2010              2.670761                   2.150304   \n",
       "368    Indonesia  2011              2.687857                   2.199702   \n",
       "369    Indonesia  2012              2.704744                   2.248740   \n",
       "370    Indonesia  2013              2.721417                   2.297400   \n",
       "371    Indonesia  2014              2.737885                   2.345697   \n",
       "372    Indonesia  2016              2.770185                   2.441131   \n",
       "373    Indonesia  2017              2.786007                   2.488244   \n",
       "524      Myanmar  2012              2.390700                   2.326865   \n",
       "525      Myanmar  2013              2.429895                   2.318578   \n",
       "526      Myanmar  2014              2.469429                   2.310306   \n",
       "527      Myanmar  2016              2.523574                   2.294000   \n",
       "528      Myanmar  2017              2.547131                   2.285972   \n",
       "579  Philippines  2011              2.826379                   2.503945   \n",
       "580  Philippines  2012              2.837216                   2.524662   \n",
       "581  Philippines  2013              2.848025                   2.545408   \n",
       "582  Philippines  2014              2.858804                   2.566177   \n",
       "583  Philippines  2016              2.880276                   2.607789   \n",
       "584  Philippines  2017              2.889947                   2.628653   \n",
       "693     Thailand  2012              2.966718                   2.959868   \n",
       "694     Thailand  2013              2.973489                   2.968154   \n",
       "695     Thailand  2014              2.980098                   2.973072   \n",
       "696     Thailand  2016              2.985532                   2.983385   \n",
       "697     Thailand  2017              2.999307                   2.986947   \n",
       "\n",
       "     Expected_Value_Hygiene  \n",
       "145                2.216109  \n",
       "146                2.218498  \n",
       "147                2.220920  \n",
       "148                2.223375  \n",
       "149                2.225863  \n",
       "150                2.228378  \n",
       "151                2.230933  \n",
       "152                2.236143  \n",
       "153                2.238791  \n",
       "364                2.014169  \n",
       "365                2.021933  \n",
       "366                2.025817  \n",
       "367                2.029609  \n",
       "368                2.032919  \n",
       "369                2.036230  \n",
       "370                2.039531  \n",
       "371                2.042837  \n",
       "372                2.049419  \n",
       "373                2.052676  \n",
       "524                2.672706  \n",
       "525                2.673221  \n",
       "526                2.673742  \n",
       "527                2.674907  \n",
       "528                2.675554  \n",
       "579                2.586613  \n",
       "580                2.587145  \n",
       "581                2.587680  \n",
       "582                2.588212  \n",
       "583                2.589282  \n",
       "584                2.589862  \n",
       "693                2.685826  \n",
       "694                2.685573  \n",
       "695                2.685319  \n",
       "696                2.684810  \n",
       "697                2.684556  "
      ]
     },
     "execution_count": 28,
     "metadata": {},
     "output_type": "execute_result"
    }
   ],
   "source": [
    "#tuberculosis['tuberculosis'].astype(int)\n",
    "tuberculosis.to_csv('TB_Y_cleaned.csv')\n",
    "seatb=tuberculosis[tuberculosis['Country'].isin(['Indonesia', 'Malaysia','Maynmar','Laos','Thailand','Vietnam','Singapore','Cambodia','East Timor','Brunei','Philippines','Myanmar'])]\n",
    "seatb.head()\n",
    "seawash=df[df['Country'].isin(['Indonesia', 'Malaysia','Maynmar','Laos','Thailand','Vietnam','Singapore','Cambodia','East Timor','Brunei','Philippines','Myanmar'])]\n",
    "seawash"
   ]
  },
  {
   "cell_type": "markdown",
   "metadata": {},
   "source": [
    "## Medians of Tuberculosis Incidences in South East Asia"
   ]
  },
  {
   "cell_type": "code",
   "execution_count": 29,
   "metadata": {
    "scrolled": true
   },
   "outputs": [
    {
     "data": {
      "text/plain": [
       "Text(0.5, 0, 'year')"
      ]
     },
     "execution_count": 29,
     "metadata": {},
     "output_type": "execute_result"
    },
    {
     "data": {
      "image/png": "[encoded data removed]",
      "text/plain": [
       "<Figure size 720x432 with 1 Axes>"
      ]
     },
     "metadata": {},
     "output_type": "display_data"
    }
   ],
   "source": [
    "seatb.groupby('year')['tuberculosis'].median().plot(kind='bar', figsize=(10, 6))\n",
    "plt.suptitle('Medians of Tuberculosis Incidences in South East Asia', fontsize=14)\n",
    "plt.ylabel('# of Incidences per 100000')\n",
    "plt.xlabel('year')"
   ]
  },
  {
   "cell_type": "markdown",
   "metadata": {},
   "source": [
    "## Tuberculosis Incidences By Country and Year in South East Asia"
   ]
  },
  {
   "cell_type": "code",
   "execution_count": 46,
   "metadata": {
    "scrolled": false
   },
   "outputs": [
    {
     "data": {
      "application/vnd.plotly.v1+json": {
       "config": {
        "plotlyServerURL": "https://plot.ly"
       },
       "data": [
        {
         "alignmentgroup": "True",
         "hoverlabel": {
          "namelength": 0
         },
         "hovertemplate": "Country=Cambodia<br>Tuberculosis=%{text}<br>Year=%{y}",
         "legendgroup": "Cambodia",
         "marker": {
          "color": "#636efa"
         },
         "name": "Cambodia",
         "offsetgroup": "Cambodia",
         "orientation": "h",
         "showlegend": true,
         "text": [
          302,
          326,
          347,
          367,
          384,
          399,
          412,
          425,
          438
         ],
         "textposition": "outside",
         "texttemplate": "%{text:.2s}",
         "type": "bar",
         "x": [
          302,
          326,
          347,
          367,
          384,
          399,
          412,
          425,
          438
         ],
         "xaxis": "x",
         "y": [
          2018,
          2017,
          2016,
          2015,
          2014,
          2013,
          2012,
          2011,
          2010
         ],
         "yaxis": "y"
        },
        {
         "alignmentgroup": "True",
         "hoverlabel": {
          "namelength": 0
         },
         "hovertemplate": "Country=Indonesia<br>Tuberculosis=%{text}<br>Year=%{y}",
         "legendgroup": "Indonesia",
         "marker": {
          "color": "#EF553B"
         },
         "name": "Indonesia",
         "offsetgroup": "Indonesia",
         "orientation": "h",
         "showlegend": true,
         "text": [
          316,
          319,
          322,
          325,
          329,
          332,
          335,
          338,
          342
         ],
         "textposition": "outside",
         "texttemplate": "%{text:.2s}",
         "type": "bar",
         "x": [
          316,
          319,
          322,
          325,
          329,
          332,
          335,
          338,
          342
         ],
         "xaxis": "x",
         "y": [
          2018,
          2017,
          2016,
          2015,
          2014,
          2013,
          2012,
          2011,
          2010
         ],
         "yaxis": "y"
        },
        {
         "alignmentgroup": "True",
         "hoverlabel": {
          "namelength": 0
         },
         "hovertemplate": "Country=Malaysia<br>Tuberculosis=%{text}<br>Year=%{y}",
         "legendgroup": "Malaysia",
         "marker": {
          "color": "#00cc96"
         },
         "name": "Malaysia",
         "offsetgroup": "Malaysia",
         "orientation": "h",
         "showlegend": true,
         "text": [
          92,
          94,
          94,
          90,
          93,
          91,
          86,
          80,
          75
         ],
         "textposition": "outside",
         "texttemplate": "%{text:.2s}",
         "type": "bar",
         "x": [
          92,
          94,
          94,
          90,
          93,
          91,
          86,
          80,
          75
         ],
         "xaxis": "x",
         "y": [
          2018,
          2017,
          2016,
          2015,
          2014,
          2013,
          2012,
          2011,
          2010
         ],
         "yaxis": "y"
        },
        {
         "alignmentgroup": "True",
         "hoverlabel": {
          "namelength": 0
         },
         "hovertemplate": "Country=Myanmar<br>Tuberculosis=%{text}<br>Year=%{y}",
         "legendgroup": "Myanmar",
         "marker": {
          "color": "#ab63fa"
         },
         "name": "Myanmar",
         "offsetgroup": "Myanmar",
         "orientation": "h",
         "showlegend": true,
         "text": [
          338,
          355,
          372,
          391,
          411,
          431,
          453,
          476,
          500
         ],
         "textposition": "outside",
         "texttemplate": "%{text:.2s}",
         "type": "bar",
         "x": [
          338,
          355,
          372,
          391,
          411,
          431,
          453,
          476,
          500
         ],
         "xaxis": "x",
         "y": [
          2018,
          2017,
          2016,
          2015,
          2014,
          2013,
          2012,
          2011,
          2010
         ],
         "yaxis": "y"
        },
        {
         "alignmentgroup": "True",
         "hoverlabel": {
          "namelength": 0
         },
         "hovertemplate": "Country=Philippines<br>Tuberculosis=%{text}<br>Year=%{y}",
         "legendgroup": "Philippines",
         "marker": {
          "color": "#FFA15A"
         },
         "name": "Philippines",
         "offsetgroup": "Philippines",
         "orientation": "h",
         "showlegend": true,
         "text": [
          554,
          554,
          554,
          550,
          546,
          543,
          539,
          535,
          531
         ],
         "textposition": "outside",
         "texttemplate": "%{text:.2s}",
         "type": "bar",
         "x": [
          554,
          554,
          554,
          550,
          546,
          543,
          539,
          535,
          531
         ],
         "xaxis": "x",
         "y": [
          2018,
          2017,
          2016,
          2015,
          2014,
          2013,
          2012,
          2011,
          2010
         ],
         "yaxis": "y"
        },
        {
         "alignmentgroup": "True",
         "hoverlabel": {
          "namelength": 0
         },
         "hovertemplate": "Country=Singapore<br>Tuberculosis=%{text}<br>Year=%{y}",
         "legendgroup": "Singapore",
         "marker": {
          "color": "#19d3f3"
         },
         "name": "Singapore",
         "offsetgroup": "Singapore",
         "orientation": "h",
         "showlegend": true,
         "text": [
          47,
          47,
          50,
          45,
          45,
          46,
          49,
          36,
          35
         ],
         "textposition": "outside",
         "texttemplate": "%{text:.2s}",
         "type": "bar",
         "x": [
          47,
          47,
          50,
          45,
          45,
          46,
          49,
          36,
          35
         ],
         "xaxis": "x",
         "y": [
          2018,
          2017,
          2016,
          2015,
          2014,
          2013,
          2012,
          2011,
          2010
         ],
         "yaxis": "y"
        },
        {
         "alignmentgroup": "True",
         "hoverlabel": {
          "namelength": 0
         },
         "hovertemplate": "Country=Thailand<br>Tuberculosis=%{text}<br>Year=%{y}",
         "legendgroup": "Thailand",
         "marker": {
          "color": "#FF6692"
         },
         "name": "Thailand",
         "offsetgroup": "Thailand",
         "orientation": "h",
         "showlegend": true,
         "text": [
          153,
          156,
          160,
          163,
          167,
          170,
          172,
          176,
          181
         ],
         "textposition": "outside",
         "texttemplate": "%{text:.2s}",
         "type": "bar",
         "x": [
          153,
          156,
          160,
          163,
          167,
          170,
          172,
          176,
          181
         ],
         "xaxis": "x",
         "y": [
          2018,
          2017,
          2016,
          2015,
          2014,
          2013,
          2012,
          2011,
          2010
         ],
         "yaxis": "y"
        }
       ],
       "layout": {
        "barmode": "relative",
        "height": 600,
        "legend": {
         "title": {
          "text": "Country"
         },
         "tracegroupgap": 0
        },
        "template": {
         "data": {
          "bar": [
           {
            "error_x": {
             "color": "#2a3f5f"
            },
            "error_y": {
             "color": "#2a3f5f"
            },
            "marker": {
             "line": {
              "color": "#E5ECF6",
              "width": 0.5
             }
            },
            "type": "bar"
           }
          ],
          "barpolar": [
           {
            "marker": {
             "line": {
              "color": "#E5ECF6",
              "width": 0.5
             }
            },
            "type": "barpolar"
           }
          ],
          "carpet": [
           {
            "aaxis": {
             "endlinecolor": "#2a3f5f",
             "gridcolor": "white",
             "linecolor": "white",
             "minorgridcolor": "white",
             "startlinecolor": "#2a3f5f"
            },
            "baxis": {
             "endlinecolor": "#2a3f5f",
             "gridcolor": "white",
             "linecolor": "white",
             "minorgridcolor": "white",
             "startlinecolor": "#2a3f5f"
            },
            "type": "carpet"
           }
          ],
          "choropleth": [
           {
            "colorbar": {
             "outlinewidth": 0,
             "ticks": ""
            },
            "type": "choropleth"
           }
          ],
          "contour": [
           {
            "colorbar": {
             "outlinewidth": 0,
             "ticks": ""
            },
            "colorscale": [
             [
              0,
              "#0d0887"
             ],
             [
              0.1111111111111111,
              "#46039f"
             ],
             [
              0.2222222222222222,
              "#7201a8"
             ],
             [
              0.3333333333333333,
              "#9c179e"
             ],
             [
              0.4444444444444444,
              "#bd3786"
             ],
             [
              0.5555555555555556,
              "#d8576b"
             ],
             [
              0.6666666666666666,
              "#ed7953"
             ],
             [
              0.7777777777777778,
              "#fb9f3a"
             ],
             [
              0.8888888888888888,
              "#fdca26"
             ],
             [
              1,
              "#f0f921"
             ]
            ],
            "type": "contour"
           }
          ],
          "contourcarpet": [
           {
            "colorbar": {
             "outlinewidth": 0,
             "ticks": ""
            },
            "type": "contourcarpet"
           }
          ],
          "heatmap": [
           {
            "colorbar": {
             "outlinewidth": 0,
             "ticks": ""
            },
            "colorscale": [
             [
              0,
              "#0d0887"
             ],
             [
              0.1111111111111111,
              "#46039f"
             ],
             [
              0.2222222222222222,
              "#7201a8"
             ],
             [
              0.3333333333333333,
              "#9c179e"
             ],
             [
              0.4444444444444444,
              "#bd3786"
             ],
             [
              0.5555555555555556,
              "#d8576b"
             ],
             [
              0.6666666666666666,
              "#ed7953"
             ],
             [
              0.7777777777777778,
              "#fb9f3a"
             ],
             [
              0.8888888888888888,
              "#fdca26"
             ],
             [
              1,
              "#f0f921"
             ]
            ],
            "type": "heatmap"
           }
          ],
          "heatmapgl": [
           {
            "colorbar": {
             "outlinewidth": 0,
             "ticks": ""
            },
            "colorscale": [
             [
              0,
              "#0d0887"
             ],
             [
              0.1111111111111111,
              "#46039f"
             ],
             [
              0.2222222222222222,
              "#7201a8"
             ],
             [
              0.3333333333333333,
              "#9c179e"
             ],
             [
              0.4444444444444444,
              "#bd3786"
             ],
             [
              0.5555555555555556,
              "#d8576b"
             ],
             [
              0.6666666666666666,
              "#ed7953"
             ],
             [
              0.7777777777777778,
              "#fb9f3a"
             ],
             [
              0.8888888888888888,
              "#fdca26"
             ],
             [
              1,
              "#f0f921"
             ]
            ],
            "type": "heatmapgl"
           }
          ],
          "histogram": [
           {
            "marker": {
             "colorbar": {
              "outlinewidth": 0,
              "ticks": ""
             }
            },
            "type": "histogram"
           }
          ],
          "histogram2d": [
           {
            "colorbar": {
             "outlinewidth": 0,
             "ticks": ""
            },
            "colorscale": [
             [
              0,
              "#0d0887"
             ],
             [
              0.1111111111111111,
              "#46039f"
             ],
             [
              0.2222222222222222,
              "#7201a8"
             ],
             [
              0.3333333333333333,
              "#9c179e"
             ],
             [
              0.4444444444444444,
              "#bd3786"
             ],
             [
              0.5555555555555556,
              "#d8576b"
             ],
             [
              0.6666666666666666,
              "#ed7953"
             ],
             [
              0.7777777777777778,
              "#fb9f3a"
             ],
             [
              0.8888888888888888,
              "#fdca26"
             ],
             [
              1,
              "#f0f921"
             ]
            ],
            "type": "histogram2d"
           }
          ],
          "histogram2dcontour": [
           {
            "colorbar": {
             "outlinewidth": 0,
             "ticks": ""
            },
            "colorscale": [
             [
              0,
              "#0d0887"
             ],
             [
              0.1111111111111111,
              "#46039f"
             ],
             [
              0.2222222222222222,
              "#7201a8"
             ],
             [
              0.3333333333333333,
              "#9c179e"
             ],
             [
              0.4444444444444444,
              "#bd3786"
             ],
             [
              0.5555555555555556,
              "#d8576b"
             ],
             [
              0.6666666666666666,
              "#ed7953"
             ],
             [
              0.7777777777777778,
              "#fb9f3a"
             ],
             [
              0.8888888888888888,
              "#fdca26"
             ],
             [
              1,
              "#f0f921"
             ]
            ],
            "type": "histogram2dcontour"
           }
          ],
          "mesh3d": [
           {
            "colorbar": {
             "outlinewidth": 0,
             "ticks": ""
            },
            "type": "mesh3d"
           }
          ],
          "parcoords": [
           {
            "line": {
             "colorbar": {
              "outlinewidth": 0,
              "ticks": ""
             }
            },
            "type": "parcoords"
           }
          ],
          "pie": [
           {
            "automargin": true,
            "type": "pie"
           }
          ],
          "scatter": [
           {
            "marker": {
             "colorbar": {
              "outlinewidth": 0,
              "ticks": ""
             }
            },
            "type": "scatter"
           }
          ],
          "scatter3d": [
           {
            "line": {
             "colorbar": {
              "outlinewidth": 0,
              "ticks": ""
             }
            },
            "marker": {
             "colorbar": {
              "outlinewidth": 0,
              "ticks": ""
             }
            },
            "type": "scatter3d"
           }
          ],
          "scattercarpet": [
           {
            "marker": {
             "colorbar": {
              "outlinewidth": 0,
              "ticks": ""
             }
            },
            "type": "scattercarpet"
           }
          ],
          "scattergeo": [
           {
            "marker": {
             "colorbar": {
              "outlinewidth": 0,
              "ticks": ""
             }
            },
            "type": "scattergeo"
           }
          ],
          "scattergl": [
           {
            "marker": {
             "colorbar": {
              "outlinewidth": 0,
              "ticks": ""
             }
            },
            "type": "scattergl"
           }
          ],
          "scattermapbox": [
           {
            "marker": {
             "colorbar": {
              "outlinewidth": 0,
              "ticks": ""
             }
            },
            "type": "scattermapbox"
           }
          ],
          "scatterpolar": [
           {
            "marker": {
             "colorbar": {
              "outlinewidth": 0,
              "ticks": ""
             }
            },
            "type": "scatterpolar"
           }
          ],
          "scatterpolargl": [
           {
            "marker": {
             "colorbar": {
              "outlinewidth": 0,
              "ticks": ""
             }
            },
            "type": "scatterpolargl"
           }
          ],
          "scatterternary": [
           {
            "marker": {
             "colorbar": {
              "outlinewidth": 0,
              "ticks": ""
             }
            },
            "type": "scatterternary"
           }
          ],
          "surface": [
           {
            "colorbar": {
             "outlinewidth": 0,
             "ticks": ""
            },
            "colorscale": [
             [
              0,
              "#0d0887"
             ],
             [
              0.1111111111111111,
              "#46039f"
             ],
             [
              0.2222222222222222,
              "#7201a8"
             ],
             [
              0.3333333333333333,
              "#9c179e"
             ],
             [
              0.4444444444444444,
              "#bd3786"
             ],
             [
              0.5555555555555556,
              "#d8576b"
             ],
             [
              0.6666666666666666,
              "#ed7953"
             ],
             [
              0.7777777777777778,
              "#fb9f3a"
             ],
             [
              0.8888888888888888,
              "#fdca26"
             ],
             [
              1,
              "#f0f921"
             ]
            ],
            "type": "surface"
           }
          ],
          "table": [
           {
            "cells": {
             "fill": {
              "color": "#EBF0F8"
             },
             "line": {
              "color": "white"
             }
            },
            "header": {
             "fill": {
              "color": "#C8D4E3"
             },
             "line": {
              "color": "white"
             }
            },
            "type": "table"
           }
          ]
         },
         "layout": {
          "annotationdefaults": {
           "arrowcolor": "#2a3f5f",
           "arrowhead": 0,
           "arrowwidth": 1
          },
          "coloraxis": {
           "colorbar": {
            "outlinewidth": 0,
            "ticks": ""
           }
          },
          "colorscale": {
           "diverging": [
            [
             0,
             "#8e0152"
            ],
            [
             0.1,
             "#c51b7d"
            ],
            [
             0.2,
             "#de77ae"
            ],
            [
             0.3,
             "#f1b6da"
            ],
            [
             0.4,
             "#fde0ef"
            ],
            [
             0.5,
             "#f7f7f7"
            ],
            [
             0.6,
             "#e6f5d0"
            ],
            [
             0.7,
             "#b8e186"
            ],
            [
             0.8,
             "#7fbc41"
            ],
            [
             0.9,
             "#4d9221"
            ],
            [
             1,
             "#276419"
            ]
           ],
           "sequential": [
            [
             0,
             "#0d0887"
            ],
            [
             0.1111111111111111,
             "#46039f"
            ],
            [
             0.2222222222222222,
             "#7201a8"
            ],
            [
             0.3333333333333333,
             "#9c179e"
            ],
            [
             0.4444444444444444,
             "#bd3786"
            ],
            [
             0.5555555555555556,
             "#d8576b"
            ],
            [
             0.6666666666666666,
             "#ed7953"
            ],
            [
             0.7777777777777778,
             "#fb9f3a"
            ],
            [
             0.8888888888888888,
             "#fdca26"
            ],
            [
             1,
             "#f0f921"
            ]
           ],
           "sequentialminus": [
            [
             0,
             "#0d0887"
            ],
            [
             0.1111111111111111,
             "#46039f"
            ],
            [
             0.2222222222222222,
             "#7201a8"
            ],
            [
             0.3333333333333333,
             "#9c179e"
            ],
            [
             0.4444444444444444,
             "#bd3786"
            ],
            [
             0.5555555555555556,
             "#d8576b"
            ],
            [
             0.6666666666666666,
             "#ed7953"
            ],
            [
             0.7777777777777778,
             "#fb9f3a"
            ],
            [
             0.8888888888888888,
             "#fdca26"
            ],
            [
             1,
             "#f0f921"
            ]
           ]
          },
          "colorway": [
           "#636efa",
           "#EF553B",
           "#00cc96",
           "#ab63fa",
           "#FFA15A",
           "#19d3f3",
           "#FF6692",
           "#B6E880",
           "#FF97FF",
           "#FECB52"
          ],
          "font": {
           "color": "#2a3f5f"
          },
          "geo": {
           "bgcolor": "white",
           "lakecolor": "white",
           "landcolor": "#E5ECF6",
           "showlakes": true,
           "showland": true,
           "subunitcolor": "white"
          },
          "hoverlabel": {
           "align": "left"
          },
          "hovermode": "closest",
          "mapbox": {
           "style": "light"
          },
          "paper_bgcolor": "white",
          "plot_bgcolor": "#E5ECF6",
          "polar": {
           "angularaxis": {
            "gridcolor": "white",
            "linecolor": "white",
            "ticks": ""
           },
           "bgcolor": "#E5ECF6",
           "radialaxis": {
            "gridcolor": "white",
            "linecolor": "white",
            "ticks": ""
           }
          },
          "scene": {
           "xaxis": {
            "backgroundcolor": "#E5ECF6",
            "gridcolor": "white",
            "gridwidth": 2,
            "linecolor": "white",
            "showbackground": true,
            "ticks": "",
            "zerolinecolor": "white"
           },
           "yaxis": {
            "backgroundcolor": "#E5ECF6",
            "gridcolor": "white",
            "gridwidth": 2,
            "linecolor": "white",
            "showbackground": true,
            "ticks": "",
            "zerolinecolor": "white"
           },
           "zaxis": {
            "backgroundcolor": "#E5ECF6",
            "gridcolor": "white",
            "gridwidth": 2,
            "linecolor": "white",
            "showbackground": true,
            "ticks": "",
            "zerolinecolor": "white"
           }
          },
          "shapedefaults": {
           "line": {
            "color": "#2a3f5f"
           }
          },
          "ternary": {
           "aaxis": {
            "gridcolor": "white",
            "linecolor": "white",
            "ticks": ""
           },
           "baxis": {
            "gridcolor": "white",
            "linecolor": "white",
            "ticks": ""
           },
           "bgcolor": "#E5ECF6",
           "caxis": {
            "gridcolor": "white",
            "linecolor": "white",
            "ticks": ""
           }
          },
          "title": {
           "x": 0.05
          },
          "xaxis": {
           "automargin": true,
           "gridcolor": "white",
           "linecolor": "white",
           "ticks": "",
           "title": {
            "standoff": 15
           },
           "zerolinecolor": "white",
           "zerolinewidth": 2
          },
          "yaxis": {
           "automargin": true,
           "gridcolor": "white",
           "linecolor": "white",
           "ticks": "",
           "title": {
            "standoff": 15
           },
           "zerolinecolor": "white",
           "zerolinewidth": 2
          }
         }
        },
        "title": {
         "text": "Tuberculosis Incidences by Country and Year in South East Asia"
        },
        "uniformtext": {
         "minsize": 8,
         "mode": "hide"
        },
        "xaxis": {
         "anchor": "y",
         "domain": [
          0,
          1
         ],
         "title": {
          "text": "Tuberculosis"
         }
        },
        "yaxis": {
         "anchor": "x",
         "domain": [
          0,
          1
         ],
         "title": {
          "text": "Year"
         }
        }
       }
      },
      "text/html": [
       "<div>\n",
       "        \n",
       "        \n",
       "            <div id=\"8f25b65e-5c3e-45e1-8f2d-b2530fed32a8\" class=\"plotly-graph-div\" style=\"height:600px; width:100%;\"></div>\n",
       "            <script type=\"text/javascript\">\n",
       "                require([\"plotly\"], function(Plotly) {\n",
       "                    window.PLOTLYENV=window.PLOTLYENV || {};\n",
       "                    \n",
       "                if (document.getElementById(\"8f25b65e-5c3e-45e1-8f2d-b2530fed32a8\")) {\n",
       "                    Plotly.newPlot(\n",
       "                        '8f25b65e-5c3e-45e1-8f2d-b2530fed32a8',\n",
       "                        [{\"alignmentgroup\": \"True\", \"hoverlabel\": {\"namelength\": 0}, \"hovertemplate\": \"Country=Cambodia<br>Tuberculosis=%{text}<br>Year=%{y}\", \"legendgroup\": \"Cambodia\", \"marker\": {\"color\": \"#636efa\"}, \"name\": \"Cambodia\", \"offsetgroup\": \"Cambodia\", \"orientation\": \"h\", \"showlegend\": true, \"text\": [302.0, 326.0, 347.0, 367.0, 384.0, 399.0, 412.0, 425.0, 438.0], \"textposition\": \"outside\", \"texttemplate\": \"%{text:.2s}\", \"type\": \"bar\", \"x\": [302.0, 326.0, 347.0, 367.0, 384.0, 399.0, 412.0, 425.0, 438.0], \"xaxis\": \"x\", \"y\": [2018, 2017, 2016, 2015, 2014, 2013, 2012, 2011, 2010], \"yaxis\": \"y\"}, {\"alignmentgroup\": \"True\", \"hoverlabel\": {\"namelength\": 0}, \"hovertemplate\": \"Country=Indonesia<br>Tuberculosis=%{text}<br>Year=%{y}\", \"legendgroup\": \"Indonesia\", \"marker\": {\"color\": \"#EF553B\"}, \"name\": \"Indonesia\", \"offsetgroup\": \"Indonesia\", \"orientation\": \"h\", \"showlegend\": true, \"text\": [316.0, 319.0, 322.0, 325.0, 329.0, 332.0, 335.0, 338.0, 342.0], \"textposition\": \"outside\", \"texttemplate\": \"%{text:.2s}\", \"type\": \"bar\", \"x\": [316.0, 319.0, 322.0, 325.0, 329.0, 332.0, 335.0, 338.0, 342.0], \"xaxis\": \"x\", \"y\": [2018, 2017, 2016, 2015, 2014, 2013, 2012, 2011, 2010], \"yaxis\": \"y\"}, {\"alignmentgroup\": \"True\", \"hoverlabel\": {\"namelength\": 0}, \"hovertemplate\": \"Country=Malaysia<br>Tuberculosis=%{text}<br>Year=%{y}\", \"legendgroup\": \"Malaysia\", \"marker\": {\"color\": \"#00cc96\"}, \"name\": \"Malaysia\", \"offsetgroup\": \"Malaysia\", \"orientation\": \"h\", \"showlegend\": true, \"text\": [92.0, 94.0, 94.0, 90.0, 93.0, 91.0, 86.0, 80.0, 75.0], \"textposition\": \"outside\", \"texttemplate\": \"%{text:.2s}\", \"type\": \"bar\", \"x\": [92.0, 94.0, 94.0, 90.0, 93.0, 91.0, 86.0, 80.0, 75.0], \"xaxis\": \"x\", \"y\": [2018, 2017, 2016, 2015, 2014, 2013, 2012, 2011, 2010], \"yaxis\": \"y\"}, {\"alignmentgroup\": \"True\", \"hoverlabel\": {\"namelength\": 0}, \"hovertemplate\": \"Country=Myanmar<br>Tuberculosis=%{text}<br>Year=%{y}\", \"legendgroup\": \"Myanmar\", \"marker\": {\"color\": \"#ab63fa\"}, \"name\": \"Myanmar\", \"offsetgroup\": \"Myanmar\", \"orientation\": \"h\", \"showlegend\": true, \"text\": [338.0, 355.0, 372.0, 391.0, 411.0, 431.0, 453.0, 476.0, 500.0], \"textposition\": \"outside\", \"texttemplate\": \"%{text:.2s}\", \"type\": \"bar\", \"x\": [338.0, 355.0, 372.0, 391.0, 411.0, 431.0, 453.0, 476.0, 500.0], \"xaxis\": \"x\", \"y\": [2018, 2017, 2016, 2015, 2014, 2013, 2012, 2011, 2010], \"yaxis\": \"y\"}, {\"alignmentgroup\": \"True\", \"hoverlabel\": {\"namelength\": 0}, \"hovertemplate\": \"Country=Philippines<br>Tuberculosis=%{text}<br>Year=%{y}\", \"legendgroup\": \"Philippines\", \"marker\": {\"color\": \"#FFA15A\"}, \"name\": \"Philippines\", \"offsetgroup\": \"Philippines\", \"orientation\": \"h\", \"showlegend\": true, \"text\": [554.0, 554.0, 554.0, 550.0, 546.0, 543.0, 539.0, 535.0, 531.0], \"textposition\": \"outside\", \"texttemplate\": \"%{text:.2s}\", \"type\": \"bar\", \"x\": [554.0, 554.0, 554.0, 550.0, 546.0, 543.0, 539.0, 535.0, 531.0], \"xaxis\": \"x\", \"y\": [2018, 2017, 2016, 2015, 2014, 2013, 2012, 2011, 2010], \"yaxis\": \"y\"}, {\"alignmentgroup\": \"True\", \"hoverlabel\": {\"namelength\": 0}, \"hovertemplate\": \"Country=Singapore<br>Tuberculosis=%{text}<br>Year=%{y}\", \"legendgroup\": \"Singapore\", \"marker\": {\"color\": \"#19d3f3\"}, \"name\": \"Singapore\", \"offsetgroup\": \"Singapore\", \"orientation\": \"h\", \"showlegend\": true, \"text\": [47.0, 47.0, 50.0, 45.0, 45.0, 46.0, 49.0, 36.0, 35.0], \"textposition\": \"outside\", \"texttemplate\": \"%{text:.2s}\", \"type\": \"bar\", \"x\": [47.0, 47.0, 50.0, 45.0, 45.0, 46.0, 49.0, 36.0, 35.0], \"xaxis\": \"x\", \"y\": [2018, 2017, 2016, 2015, 2014, 2013, 2012, 2011, 2010], \"yaxis\": \"y\"}, {\"alignmentgroup\": \"True\", \"hoverlabel\": {\"namelength\": 0}, \"hovertemplate\": \"Country=Thailand<br>Tuberculosis=%{text}<br>Year=%{y}\", \"legendgroup\": \"Thailand\", \"marker\": {\"color\": \"#FF6692\"}, \"name\": \"Thailand\", \"offsetgroup\": \"Thailand\", \"orientation\": \"h\", \"showlegend\": true, \"text\": [153.0, 156.0, 160.0, 163.0, 167.0, 170.0, 172.0, 176.0, 181.0], \"textposition\": \"outside\", \"texttemplate\": \"%{text:.2s}\", \"type\": \"bar\", \"x\": [153.0, 156.0, 160.0, 163.0, 167.0, 170.0, 172.0, 176.0, 181.0], \"xaxis\": \"x\", \"y\": [2018, 2017, 2016, 2015, 2014, 2013, 2012, 2011, 2010], \"yaxis\": \"y\"}],\n",
       "                        {\"barmode\": \"relative\", \"height\": 600, \"legend\": {\"title\": {\"text\": \"Country\"}, \"tracegroupgap\": 0}, \"template\": {\"data\": {\"bar\": [{\"error_x\": {\"color\": \"#2a3f5f\"}, \"error_y\": {\"color\": \"#2a3f5f\"}, \"marker\": {\"line\": {\"color\": \"#E5ECF6\", \"width\": 0.5}}, \"type\": \"bar\"}], \"barpolar\": [{\"marker\": {\"line\": {\"color\": \"#E5ECF6\", \"width\": 0.5}}, \"type\": \"barpolar\"}], \"carpet\": [{\"aaxis\": {\"endlinecolor\": \"#2a3f5f\", \"gridcolor\": \"white\", \"linecolor\": \"white\", \"minorgridcolor\": \"white\", \"startlinecolor\": \"#2a3f5f\"}, \"baxis\": {\"endlinecolor\": \"#2a3f5f\", \"gridcolor\": \"white\", \"linecolor\": \"white\", \"minorgridcolor\": \"white\", \"startlinecolor\": \"#2a3f5f\"}, \"type\": \"carpet\"}], \"choropleth\": [{\"colorbar\": {\"outlinewidth\": 0, \"ticks\": \"\"}, \"type\": \"choropleth\"}], \"contour\": [{\"colorbar\": {\"outlinewidth\": 0, \"ticks\": \"\"}, \"colorscale\": [[0.0, \"#0d0887\"], [0.1111111111111111, \"#46039f\"], [0.2222222222222222, \"#7201a8\"], [0.3333333333333333, \"#9c179e\"], [0.4444444444444444, \"#bd3786\"], [0.5555555555555556, \"#d8576b\"], [0.6666666666666666, \"#ed7953\"], [0.7777777777777778, \"#fb9f3a\"], [0.8888888888888888, \"#fdca26\"], [1.0, \"#f0f921\"]], \"type\": \"contour\"}], \"contourcarpet\": [{\"colorbar\": {\"outlinewidth\": 0, \"ticks\": \"\"}, \"type\": \"contourcarpet\"}], \"heatmap\": [{\"colorbar\": {\"outlinewidth\": 0, \"ticks\": \"\"}, \"colorscale\": [[0.0, \"#0d0887\"], [0.1111111111111111, \"#46039f\"], [0.2222222222222222, \"#7201a8\"], [0.3333333333333333, \"#9c179e\"], [0.4444444444444444, \"#bd3786\"], [0.5555555555555556, \"#d8576b\"], [0.6666666666666666, \"#ed7953\"], [0.7777777777777778, \"#fb9f3a\"], [0.8888888888888888, \"#fdca26\"], [1.0, \"#f0f921\"]], \"type\": \"heatmap\"}], \"heatmapgl\": [{\"colorbar\": {\"outlinewidth\": 0, \"ticks\": \"\"}, \"colorscale\": [[0.0, \"#0d0887\"], [0.1111111111111111, \"#46039f\"], [0.2222222222222222, \"#7201a8\"], [0.3333333333333333, \"#9c179e\"], [0.4444444444444444, \"#bd3786\"], [0.5555555555555556, \"#d8576b\"], [0.6666666666666666, \"#ed7953\"], [0.7777777777777778, \"#fb9f3a\"], [0.8888888888888888, \"#fdca26\"], [1.0, \"#f0f921\"]], \"type\": \"heatmapgl\"}], \"histogram\": [{\"marker\": {\"colorbar\": {\"outlinewidth\": 0, \"ticks\": \"\"}}, \"type\": \"histogram\"}], \"histogram2d\": [{\"colorbar\": {\"outlinewidth\": 0, \"ticks\": \"\"}, \"colorscale\": [[0.0, \"#0d0887\"], [0.1111111111111111, \"#46039f\"], [0.2222222222222222, \"#7201a8\"], [0.3333333333333333, \"#9c179e\"], [0.4444444444444444, \"#bd3786\"], [0.5555555555555556, \"#d8576b\"], [0.6666666666666666, \"#ed7953\"], [0.7777777777777778, \"#fb9f3a\"], [0.8888888888888888, \"#fdca26\"], [1.0, \"#f0f921\"]], \"type\": \"histogram2d\"}], \"histogram2dcontour\": [{\"colorbar\": {\"outlinewidth\": 0, \"ticks\": \"\"}, \"colorscale\": [[0.0, \"#0d0887\"], [0.1111111111111111, \"#46039f\"], [0.2222222222222222, \"#7201a8\"], [0.3333333333333333, \"#9c179e\"], [0.4444444444444444, \"#bd3786\"], [0.5555555555555556, \"#d8576b\"], [0.6666666666666666, \"#ed7953\"], [0.7777777777777778, \"#fb9f3a\"], [0.8888888888888888, \"#fdca26\"], [1.0, \"#f0f921\"]], \"type\": \"histogram2dcontour\"}], \"mesh3d\": [{\"colorbar\": {\"outlinewidth\": 0, \"ticks\": \"\"}, \"type\": \"mesh3d\"}], \"parcoords\": [{\"line\": {\"colorbar\": {\"outlinewidth\": 0, \"ticks\": \"\"}}, \"type\": \"parcoords\"}], \"pie\": [{\"automargin\": true, \"type\": \"pie\"}], \"scatter\": [{\"marker\": {\"colorbar\": {\"outlinewidth\": 0, \"ticks\": \"\"}}, \"type\": \"scatter\"}], \"scatter3d\": [{\"line\": {\"colorbar\": {\"outlinewidth\": 0, \"ticks\": \"\"}}, \"marker\": {\"colorbar\": {\"outlinewidth\": 0, \"ticks\": \"\"}}, \"type\": \"scatter3d\"}], \"scattercarpet\": [{\"marker\": {\"colorbar\": {\"outlinewidth\": 0, \"ticks\": \"\"}}, \"type\": \"scattercarpet\"}], \"scattergeo\": [{\"marker\": {\"colorbar\": {\"outlinewidth\": 0, \"ticks\": \"\"}}, \"type\": \"scattergeo\"}], \"scattergl\": [{\"marker\": {\"colorbar\": {\"outlinewidth\": 0, \"ticks\": \"\"}}, \"type\": \"scattergl\"}], \"scattermapbox\": [{\"marker\": {\"colorbar\": {\"outlinewidth\": 0, \"ticks\": \"\"}}, \"type\": \"scattermapbox\"}], \"scatterpolar\": [{\"marker\": {\"colorbar\": {\"outlinewidth\": 0, \"ticks\": \"\"}}, \"type\": \"scatterpolar\"}], \"scatterpolargl\": [{\"marker\": {\"colorbar\": {\"outlinewidth\": 0, \"ticks\": \"\"}}, \"type\": \"scatterpolargl\"}], \"scatterternary\": [{\"marker\": {\"colorbar\": {\"outlinewidth\": 0, \"ticks\": \"\"}}, \"type\": \"scatterternary\"}], \"surface\": [{\"colorbar\": {\"outlinewidth\": 0, \"ticks\": \"\"}, \"colorscale\": [[0.0, \"#0d0887\"], [0.1111111111111111, \"#46039f\"], [0.2222222222222222, \"#7201a8\"], [0.3333333333333333, \"#9c179e\"], [0.4444444444444444, \"#bd3786\"], [0.5555555555555556, \"#d8576b\"], [0.6666666666666666, \"#ed7953\"], [0.7777777777777778, \"#fb9f3a\"], [0.8888888888888888, \"#fdca26\"], [1.0, \"#f0f921\"]], \"type\": \"surface\"}], \"table\": [{\"cells\": {\"fill\": {\"color\": \"#EBF0F8\"}, \"line\": {\"color\": \"white\"}}, \"header\": {\"fill\": {\"color\": \"#C8D4E3\"}, \"line\": {\"color\": \"white\"}}, \"type\": \"table\"}]}, \"layout\": {\"annotationdefaults\": {\"arrowcolor\": \"#2a3f5f\", \"arrowhead\": 0, \"arrowwidth\": 1}, \"coloraxis\": {\"colorbar\": {\"outlinewidth\": 0, \"ticks\": \"\"}}, \"colorscale\": {\"diverging\": [[0, \"#8e0152\"], [0.1, \"#c51b7d\"], [0.2, \"#de77ae\"], [0.3, \"#f1b6da\"], [0.4, \"#fde0ef\"], [0.5, \"#f7f7f7\"], [0.6, \"#e6f5d0\"], [0.7, \"#b8e186\"], [0.8, \"#7fbc41\"], [0.9, \"#4d9221\"], [1, \"#276419\"]], \"sequential\": [[0.0, \"#0d0887\"], [0.1111111111111111, \"#46039f\"], [0.2222222222222222, \"#7201a8\"], [0.3333333333333333, \"#9c179e\"], [0.4444444444444444, \"#bd3786\"], [0.5555555555555556, \"#d8576b\"], [0.6666666666666666, \"#ed7953\"], [0.7777777777777778, \"#fb9f3a\"], [0.8888888888888888, \"#fdca26\"], [1.0, \"#f0f921\"]], \"sequentialminus\": [[0.0, \"#0d0887\"], [0.1111111111111111, \"#46039f\"], [0.2222222222222222, \"#7201a8\"], [0.3333333333333333, \"#9c179e\"], [0.4444444444444444, \"#bd3786\"], [0.5555555555555556, \"#d8576b\"], [0.6666666666666666, \"#ed7953\"], [0.7777777777777778, \"#fb9f3a\"], [0.8888888888888888, \"#fdca26\"], [1.0, \"#f0f921\"]]}, \"colorway\": [\"#636efa\", \"#EF553B\", \"#00cc96\", \"#ab63fa\", \"#FFA15A\", \"#19d3f3\", \"#FF6692\", \"#B6E880\", \"#FF97FF\", \"#FECB52\"], \"font\": {\"color\": \"#2a3f5f\"}, \"geo\": {\"bgcolor\": \"white\", \"lakecolor\": \"white\", \"landcolor\": \"#E5ECF6\", \"showlakes\": true, \"showland\": true, \"subunitcolor\": \"white\"}, \"hoverlabel\": {\"align\": \"left\"}, \"hovermode\": \"closest\", \"mapbox\": {\"style\": \"light\"}, \"paper_bgcolor\": \"white\", \"plot_bgcolor\": \"#E5ECF6\", \"polar\": {\"angularaxis\": {\"gridcolor\": \"white\", \"linecolor\": \"white\", \"ticks\": \"\"}, \"bgcolor\": \"#E5ECF6\", \"radialaxis\": {\"gridcolor\": \"white\", \"linecolor\": \"white\", \"ticks\": \"\"}}, \"scene\": {\"xaxis\": {\"backgroundcolor\": \"#E5ECF6\", \"gridcolor\": \"white\", \"gridwidth\": 2, \"linecolor\": \"white\", \"showbackground\": true, \"ticks\": \"\", \"zerolinecolor\": \"white\"}, \"yaxis\": {\"backgroundcolor\": \"#E5ECF6\", \"gridcolor\": \"white\", \"gridwidth\": 2, \"linecolor\": \"white\", \"showbackground\": true, \"ticks\": \"\", \"zerolinecolor\": \"white\"}, \"zaxis\": {\"backgroundcolor\": \"#E5ECF6\", \"gridcolor\": \"white\", \"gridwidth\": 2, \"linecolor\": \"white\", \"showbackground\": true, \"ticks\": \"\", \"zerolinecolor\": \"white\"}}, \"shapedefaults\": {\"line\": {\"color\": \"#2a3f5f\"}}, \"ternary\": {\"aaxis\": {\"gridcolor\": \"white\", \"linecolor\": \"white\", \"ticks\": \"\"}, \"baxis\": {\"gridcolor\": \"white\", \"linecolor\": \"white\", \"ticks\": \"\"}, \"bgcolor\": \"#E5ECF6\", \"caxis\": {\"gridcolor\": \"white\", \"linecolor\": \"white\", \"ticks\": \"\"}}, \"title\": {\"x\": 0.05}, \"xaxis\": {\"automargin\": true, \"gridcolor\": \"white\", \"linecolor\": \"white\", \"ticks\": \"\", \"title\": {\"standoff\": 15}, \"zerolinecolor\": \"white\", \"zerolinewidth\": 2}, \"yaxis\": {\"automargin\": true, \"gridcolor\": \"white\", \"linecolor\": \"white\", \"ticks\": \"\", \"title\": {\"standoff\": 15}, \"zerolinecolor\": \"white\", \"zerolinewidth\": 2}}}, \"title\": {\"text\": \"Tuberculosis Incidences by Country and Year in South East Asia\"}, \"uniformtext\": {\"minsize\": 8, \"mode\": \"hide\"}, \"xaxis\": {\"anchor\": \"y\", \"domain\": [0.0, 1.0], \"title\": {\"text\": \"Tuberculosis\"}}, \"yaxis\": {\"anchor\": \"x\", \"domain\": [0.0, 1.0], \"title\": {\"text\": \"Year\"}}},\n",
       "                        {\"responsive\": true}\n",
       "                    ).then(function(){\n",
       "                            \n",
       "var gd = document.getElementById('8f25b65e-5c3e-45e1-8f2d-b2530fed32a8');\n",
       "var x = new MutationObserver(function (mutations, observer) {{\n",
       "        var display = window.getComputedStyle(gd).display;\n",
       "        if (!display || display === 'none') {{\n",
       "            console.log([gd, 'removed!']);\n",
       "            Plotly.purge(gd);\n",
       "            observer.disconnect();\n",
       "        }}\n",
       "}});\n",
       "\n",
       "// Listen for the removal of the full notebook cells\n",
       "var notebookContainer = gd.closest('#notebook-container');\n",
       "if (notebookContainer) {{\n",
       "    x.observe(notebookContainer, {childList: true});\n",
       "}}\n",
       "\n",
       "// Listen for the clearing of the current output cell\n",
       "var outputEl = gd.closest('.output');\n",
       "if (outputEl) {{\n",
       "    x.observe(outputEl, {childList: true});\n",
       "}}\n",
       "\n",
       "                        })\n",
       "                };\n",
       "                });\n",
       "            </script>\n",
       "        </div>"
      ]
     },
     "metadata": {},
     "output_type": "display_data"
    }
   ],
   "source": [
    "plt.style.use('dark_background')\n",
    "import plotly.express as px\n",
    "fig = px.bar(seatb, x=\"Tuberculosis\", y=\"Year\", color='Country', orientation='h',\n",
    "             hover_data=[],\n",
    "             height=600,\n",
    "             title='Tuberculosis Incidences by Country and Year in South East Asia', text='Tuberculosis')\n",
    "\n",
    "fig.update_traces(texttemplate='%{text:.2s}', textposition='outside')\n",
    "fig.update_layout(uniformtext_minsize=8, uniformtext_mode='hide')\n",
    "fig.show()\n"
   ]
  },
  {
   "cell_type": "markdown",
   "metadata": {},
   "source": [
    "## Merged Tuberculosis with WASH for South East Asian Countries\n"
   ]
  },
  {
   "cell_type": "code",
   "execution_count": 79,
   "metadata": {
    "scrolled": false
   },
   "outputs": [
    {
     "data": {
      "text/plain": [
       "Country                       object\n",
       "Year                           int64\n",
       "Tuberculosis                 float64\n",
       "Expected_Value_Water         float64\n",
       "Expected_Value_Sanitation    float64\n",
       "Expected_Value_Hygiene       float64\n",
       "dtype: object"
      ]
     },
     "execution_count": 79,
     "metadata": {},
     "output_type": "execute_result"
    }
   ],
   "source": [
    "seatb.columns=['Country','Year','Tuberculosis']\n",
    "seatbmerge=pd.merge(seatb, seawash, how='right', left_on=['Year','Country'], right_on = ['Year', 'Country'])\n",
    "seatb.dtypes\n",
    "seawash.dtypes\n",
    "seatbmerge\n",
    "#seatbmerge['yoypercent']=\n",
    "seatbmerge.dtypes\n",
    "#seawash.dtypes\n",
    "#seatb.dtypes"
   ]
  },
  {
   "cell_type": "markdown",
   "metadata": {},
   "source": [
    "## Corrolelogram of Tuberculosis with Expected Values of WASH"
   ]
  },
  {
   "cell_type": "code",
   "execution_count": 52,
   "metadata": {},
   "outputs": [
    {
     "data": {
      "image/png": "[encoded data removed]",
      "text/plain": [
       "<Figure size 432x288 with 2 Axes>"
      ]
     },
     "metadata": {},
     "output_type": "display_data"
    }
   ],
   "source": [
    "corr = seatbmerge.corr()\n",
    "ax = sns.heatmap(\n",
    "    corr, \n",
    "    vmin=-1, vmax=1, center=0,\n",
    "    cmap=sns.diverging_palette(20, 220, n=200),\n",
    "    square=True\n",
    ")\n",
    "ax.set_xticklabels(\n",
    "    ax.get_xticklabels(),\n",
    "    rotation=45,\n",
    "    horizontalalignment='right'\n",
    ");\n"
   ]
  },
  {
   "cell_type": "code",
   "execution_count": 59,
   "metadata": {},
   "outputs": [
    {
     "data": {
      "text/plain": [
       "-0.3401256317533386"
      ]
     },
     "execution_count": 59,
     "metadata": {},
     "output_type": "execute_result"
    }
   ],
   "source": [
    "seatbmerge['Expected_Value_Water'].corr(seatbmerge['Tuberculosis'])\n",
    "seatbmerge['Expected_Value_Sanitation'].corr(seatbmerge['Tuberculosis'])\n",
    "seatbmerge['Expected_Value_Hygiene'].corr(seatbmerge['Tuberculosis'])"
   ]
  },
  {
   "cell_type": "markdown",
   "metadata": {},
   "source": [
    "## Wash Levels in South East Asia from 2006-2017"
   ]
  },
  {
   "cell_type": "code",
   "execution_count": 38,
   "metadata": {},
   "outputs": [
    {
     "data": {
      "text/plain": [
       "Text(0.5, 0, 'Year')"
      ]
     },
     "execution_count": 38,
     "metadata": {},
     "output_type": "execute_result"
    },
    {
     "data": {
      "image/png": "[encoded data removed]",
      "text/plain": [
       "<Figure size 720x432 with 1 Axes>"
      ]
     },
     "metadata": {},
     "output_type": "display_data"
    }
   ],
   "source": [
    "seawash.groupby('Year')['Expected_Value_Water', 'Expected_Value_Sanitation', 'Expected_Value_Hygiene'].median().plot(kind='bar', figsize=(10, 6))\n",
    "plt.suptitle('Medians of Wash Levels in South East Asia', fontsize=14)\n",
    "plt.ylabel('Expected Value')\n",
    "plt.xlabel('Year')"
   ]
  },
  {
   "cell_type": "code",
   "execution_count": 24,
   "metadata": {
    "scrolled": true
   },
   "outputs": [
    {
     "data": {
      "text/html": [
       "<div>\n",
       "<style scoped>\n",
       "    .dataframe tbody tr th:only-of-type {\n",
       "        vertical-align: middle;\n",
       "    }\n",
       "\n",
       "    .dataframe tbody tr th {\n",
       "        vertical-align: top;\n",
       "    }\n",
       "\n",
       "    .dataframe thead th {\n",
       "        text-align: right;\n",
       "    }\n",
       "</style>\n",
       "<table border=\"1\" class=\"dataframe\">\n",
       "  <thead>\n",
       "    <tr style=\"text-align: right;\">\n",
       "      <th></th>\n",
       "      <th>Country</th>\n",
       "      <th>Hepatitis B prevalence &lt; 5 yr(%)</th>\n",
       "    </tr>\n",
       "  </thead>\n",
       "  <tbody>\n",
       "    <tr>\n",
       "      <th>2</th>\n",
       "      <td>Afghanistan</td>\n",
       "      <td>0.50</td>\n",
       "    </tr>\n",
       "    <tr>\n",
       "      <th>3</th>\n",
       "      <td>Albania</td>\n",
       "      <td>1.29</td>\n",
       "    </tr>\n",
       "    <tr>\n",
       "      <th>4</th>\n",
       "      <td>Algeria</td>\n",
       "      <td>0.22</td>\n",
       "    </tr>\n",
       "    <tr>\n",
       "      <th>5</th>\n",
       "      <td>Andorra</td>\n",
       "      <td>0.08</td>\n",
       "    </tr>\n",
       "    <tr>\n",
       "      <th>6</th>\n",
       "      <td>Angola</td>\n",
       "      <td>4.85</td>\n",
       "    </tr>\n",
       "    <tr>\n",
       "      <th>...</th>\n",
       "      <td>...</td>\n",
       "      <td>...</td>\n",
       "    </tr>\n",
       "    <tr>\n",
       "      <th>191</th>\n",
       "      <td>Venezuela (Bolivarian Republic of)</td>\n",
       "      <td>0.62</td>\n",
       "    </tr>\n",
       "    <tr>\n",
       "      <th>192</th>\n",
       "      <td>Viet Nam</td>\n",
       "      <td>1.20</td>\n",
       "    </tr>\n",
       "    <tr>\n",
       "      <th>193</th>\n",
       "      <td>Yemen</td>\n",
       "      <td>2.54</td>\n",
       "    </tr>\n",
       "    <tr>\n",
       "      <th>194</th>\n",
       "      <td>Zambia</td>\n",
       "      <td>1.84</td>\n",
       "    </tr>\n",
       "    <tr>\n",
       "      <th>195</th>\n",
       "      <td>Zimbabwe</td>\n",
       "      <td>4.38</td>\n",
       "    </tr>\n",
       "  </tbody>\n",
       "</table>\n",
       "<p>194 rows × 2 columns</p>\n",
       "</div>"
      ],
      "text/plain": [
       "                                Country Hepatitis B prevalence < 5 yr(%)\n",
       "2                           Afghanistan                            0.50 \n",
       "3                               Albania                            1.29 \n",
       "4                               Algeria                            0.22 \n",
       "5                               Andorra                            0.08 \n",
       "6                                Angola                            4.85 \n",
       "..                                  ...                              ...\n",
       "191  Venezuela (Bolivarian Republic of)                            0.62 \n",
       "192                            Viet Nam                            1.20 \n",
       "193                               Yemen                            2.54 \n",
       "194                              Zambia                            1.84 \n",
       "195                            Zimbabwe                            4.38 \n",
       "\n",
       "[194 rows x 2 columns]"
      ]
     },
     "execution_count": 24,
     "metadata": {},
     "output_type": "execute_result"
    }
   ],
   "source": [
    "heapatitb = hepatitb.apply(split).drop(hepatitb.index[[0,1]])\n",
    "heapatitb.columns=['Country','Hepatitis B prevalence < 5 yr(%)']\n",
    "heapatitb"
   ]
  },
  {
   "cell_type": "markdown",
   "metadata": {},
   "source": [
    "## Population Density"
   ]
  },
  {
   "cell_type": "code",
   "execution_count": 180,
   "metadata": {},
   "outputs": [
    {
     "data": {
      "text/plain": [
       "0       44.7040820390283\n",
       "1       106.314635036496\n",
       "2       15.1055341892902\n",
       "3                280.395\n",
       "4       179.678723404255\n",
       "              ...       \n",
       "2411    50.7620843086558\n",
       "2412    50.7586283354254\n",
       "2413    50.7620843086558\n",
       "2414    45.4691766291018\n",
       "2415    59.6362362611782\n",
       "Name: population, Length: 2376, dtype: object"
      ]
     },
     "execution_count": 180,
     "metadata": {},
     "output_type": "execute_result"
    }
   ],
   "source": [
    "dfpd=pd.read_csv('population_density_cleaned.csv')\n",
    "to_dropid = ['Unnamed: 0']\n",
    "dfpd.drop(to_dropid,inplace=True, axis=1)\n",
    "dfpd.columns = ['Country','2010','2011','2012','2013','2014','2015','2016','2017','2018']\n",
    "dfpd=pd.melt(dfpd, id_vars=['Country'], var_name='Year', value_name='population')\n",
    "dfpd\n",
    "dfpd=dfpd.dropna()\n",
    "dfpd['Year']=dfpd['Year'].astype(int)\n",
    "dfpd['population']"
   ]
  },
  {
   "cell_type": "code",
   "execution_count": 181,
   "metadata": {},
   "outputs": [],
   "source": [
    "def split(item):\n",
    "    return item.str.split('.').str[0]\n",
    "\n",
    "def getuncertanties(item):\n",
    "    if '.' in item:\n",
    "        return item[:item.find('')]\n",
    "    else:\n",
    "        return item"
   ]
  },
  {
   "cell_type": "code",
   "execution_count": 182,
   "metadata": {
    "scrolled": true
   },
   "outputs": [
    {
     "data": {
      "text/html": [
       "<div>\n",
       "<style scoped>\n",
       "    .dataframe tbody tr th:only-of-type {\n",
       "        vertical-align: middle;\n",
       "    }\n",
       "\n",
       "    .dataframe tbody tr th {\n",
       "        vertical-align: top;\n",
       "    }\n",
       "\n",
       "    .dataframe thead th {\n",
       "        text-align: right;\n",
       "    }\n",
       "</style>\n",
       "<table border=\"1\" class=\"dataframe\">\n",
       "  <thead>\n",
       "    <tr style=\"text-align: right;\">\n",
       "      <th></th>\n",
       "      <th>Country</th>\n",
       "      <th>Year</th>\n",
       "      <th>Tuberculosis</th>\n",
       "      <th>Expected_Value_Water</th>\n",
       "      <th>Expected_Value_Sanitation</th>\n",
       "      <th>Expected_Value_Hygiene</th>\n",
       "      <th>population</th>\n",
       "    </tr>\n",
       "  </thead>\n",
       "  <tbody>\n",
       "    <tr>\n",
       "      <th>0</th>\n",
       "      <td>Cambodia</td>\n",
       "      <td>2017</td>\n",
       "      <td>326.0</td>\n",
       "      <td>2.465925</td>\n",
       "      <td>1.931738</td>\n",
       "      <td>2.238791</td>\n",
       "      <td>90</td>\n",
       "    </tr>\n",
       "    <tr>\n",
       "      <th>1</th>\n",
       "      <td>Indonesia</td>\n",
       "      <td>2017</td>\n",
       "      <td>319.0</td>\n",
       "      <td>2.786007</td>\n",
       "      <td>2.488244</td>\n",
       "      <td>2.052676</td>\n",
       "      <td>146</td>\n",
       "    </tr>\n",
       "    <tr>\n",
       "      <th>2</th>\n",
       "      <td>Myanmar</td>\n",
       "      <td>2017</td>\n",
       "      <td>355.0</td>\n",
       "      <td>2.547131</td>\n",
       "      <td>2.285972</td>\n",
       "      <td>2.675554</td>\n",
       "      <td>81</td>\n",
       "    </tr>\n",
       "    <tr>\n",
       "      <th>3</th>\n",
       "      <td>Philippines</td>\n",
       "      <td>2017</td>\n",
       "      <td>554.0</td>\n",
       "      <td>2.889947</td>\n",
       "      <td>2.628653</td>\n",
       "      <td>2.589862</td>\n",
       "      <td>352</td>\n",
       "    </tr>\n",
       "    <tr>\n",
       "      <th>4</th>\n",
       "      <td>Thailand</td>\n",
       "      <td>2017</td>\n",
       "      <td>156.0</td>\n",
       "      <td>2.999307</td>\n",
       "      <td>2.986947</td>\n",
       "      <td>2.684556</td>\n",
       "      <td>135</td>\n",
       "    </tr>\n",
       "    <tr>\n",
       "      <th>5</th>\n",
       "      <td>Cambodia</td>\n",
       "      <td>2016</td>\n",
       "      <td>347.0</td>\n",
       "      <td>2.425470</td>\n",
       "      <td>1.848422</td>\n",
       "      <td>2.236143</td>\n",
       "      <td>89</td>\n",
       "    </tr>\n",
       "    <tr>\n",
       "      <th>6</th>\n",
       "      <td>Indonesia</td>\n",
       "      <td>2016</td>\n",
       "      <td>322.0</td>\n",
       "      <td>2.770185</td>\n",
       "      <td>2.441131</td>\n",
       "      <td>2.049419</td>\n",
       "      <td>144</td>\n",
       "    </tr>\n",
       "    <tr>\n",
       "      <th>7</th>\n",
       "      <td>Myanmar</td>\n",
       "      <td>2016</td>\n",
       "      <td>372.0</td>\n",
       "      <td>2.523574</td>\n",
       "      <td>2.294000</td>\n",
       "      <td>2.674907</td>\n",
       "      <td>81</td>\n",
       "    </tr>\n",
       "    <tr>\n",
       "      <th>8</th>\n",
       "      <td>Philippines</td>\n",
       "      <td>2016</td>\n",
       "      <td>554.0</td>\n",
       "      <td>2.880276</td>\n",
       "      <td>2.607789</td>\n",
       "      <td>2.589282</td>\n",
       "      <td>347</td>\n",
       "    </tr>\n",
       "    <tr>\n",
       "      <th>9</th>\n",
       "      <td>Thailand</td>\n",
       "      <td>2016</td>\n",
       "      <td>160.0</td>\n",
       "      <td>2.985532</td>\n",
       "      <td>2.983385</td>\n",
       "      <td>2.684810</td>\n",
       "      <td>135</td>\n",
       "    </tr>\n",
       "    <tr>\n",
       "      <th>10</th>\n",
       "      <td>Cambodia</td>\n",
       "      <td>2014</td>\n",
       "      <td>384.0</td>\n",
       "      <td>2.344559</td>\n",
       "      <td>1.656204</td>\n",
       "      <td>2.230933</td>\n",
       "      <td>86</td>\n",
       "    </tr>\n",
       "    <tr>\n",
       "      <th>11</th>\n",
       "      <td>Indonesia</td>\n",
       "      <td>2014</td>\n",
       "      <td>329.0</td>\n",
       "      <td>2.737885</td>\n",
       "      <td>2.345697</td>\n",
       "      <td>2.042837</td>\n",
       "      <td>140</td>\n",
       "    </tr>\n",
       "    <tr>\n",
       "      <th>12</th>\n",
       "      <td>Myanmar</td>\n",
       "      <td>2014</td>\n",
       "      <td>411.0</td>\n",
       "      <td>2.469429</td>\n",
       "      <td>2.310306</td>\n",
       "      <td>2.673742</td>\n",
       "      <td>80</td>\n",
       "    </tr>\n",
       "    <tr>\n",
       "      <th>13</th>\n",
       "      <td>Philippines</td>\n",
       "      <td>2014</td>\n",
       "      <td>546.0</td>\n",
       "      <td>2.858804</td>\n",
       "      <td>2.566177</td>\n",
       "      <td>2.588212</td>\n",
       "      <td>337</td>\n",
       "    </tr>\n",
       "    <tr>\n",
       "      <th>14</th>\n",
       "      <td>Thailand</td>\n",
       "      <td>2014</td>\n",
       "      <td>167.0</td>\n",
       "      <td>2.980098</td>\n",
       "      <td>2.973072</td>\n",
       "      <td>2.685319</td>\n",
       "      <td>133</td>\n",
       "    </tr>\n",
       "    <tr>\n",
       "      <th>15</th>\n",
       "      <td>Cambodia</td>\n",
       "      <td>2013</td>\n",
       "      <td>399.0</td>\n",
       "      <td>2.304092</td>\n",
       "      <td>1.560566</td>\n",
       "      <td>2.228378</td>\n",
       "      <td>85</td>\n",
       "    </tr>\n",
       "    <tr>\n",
       "      <th>16</th>\n",
       "      <td>Indonesia</td>\n",
       "      <td>2013</td>\n",
       "      <td>332.0</td>\n",
       "      <td>2.721417</td>\n",
       "      <td>2.297400</td>\n",
       "      <td>2.039531</td>\n",
       "      <td>138</td>\n",
       "    </tr>\n",
       "    <tr>\n",
       "      <th>17</th>\n",
       "      <td>Myanmar</td>\n",
       "      <td>2013</td>\n",
       "      <td>431.0</td>\n",
       "      <td>2.429895</td>\n",
       "      <td>2.318578</td>\n",
       "      <td>2.673221</td>\n",
       "      <td>79</td>\n",
       "    </tr>\n",
       "    <tr>\n",
       "      <th>18</th>\n",
       "      <td>Philippines</td>\n",
       "      <td>2013</td>\n",
       "      <td>543.0</td>\n",
       "      <td>2.848025</td>\n",
       "      <td>2.545408</td>\n",
       "      <td>2.587680</td>\n",
       "      <td>331</td>\n",
       "    </tr>\n",
       "    <tr>\n",
       "      <th>19</th>\n",
       "      <td>Thailand</td>\n",
       "      <td>2013</td>\n",
       "      <td>170.0</td>\n",
       "      <td>2.973489</td>\n",
       "      <td>2.968154</td>\n",
       "      <td>2.685573</td>\n",
       "      <td>133</td>\n",
       "    </tr>\n",
       "    <tr>\n",
       "      <th>20</th>\n",
       "      <td>Cambodia</td>\n",
       "      <td>2012</td>\n",
       "      <td>412.0</td>\n",
       "      <td>2.263625</td>\n",
       "      <td>1.465257</td>\n",
       "      <td>2.225863</td>\n",
       "      <td>83</td>\n",
       "    </tr>\n",
       "    <tr>\n",
       "      <th>21</th>\n",
       "      <td>Indonesia</td>\n",
       "      <td>2012</td>\n",
       "      <td>335.0</td>\n",
       "      <td>2.704744</td>\n",
       "      <td>2.248740</td>\n",
       "      <td>2.036230</td>\n",
       "      <td>137</td>\n",
       "    </tr>\n",
       "    <tr>\n",
       "      <th>22</th>\n",
       "      <td>Myanmar</td>\n",
       "      <td>2012</td>\n",
       "      <td>453.0</td>\n",
       "      <td>2.390700</td>\n",
       "      <td>2.326865</td>\n",
       "      <td>2.672706</td>\n",
       "      <td>78</td>\n",
       "    </tr>\n",
       "    <tr>\n",
       "      <th>23</th>\n",
       "      <td>Philippines</td>\n",
       "      <td>2012</td>\n",
       "      <td>539.0</td>\n",
       "      <td>2.837216</td>\n",
       "      <td>2.524662</td>\n",
       "      <td>2.587145</td>\n",
       "      <td>326</td>\n",
       "    </tr>\n",
       "    <tr>\n",
       "      <th>24</th>\n",
       "      <td>Thailand</td>\n",
       "      <td>2012</td>\n",
       "      <td>172.0</td>\n",
       "      <td>2.966718</td>\n",
       "      <td>2.959868</td>\n",
       "      <td>2.685826</td>\n",
       "      <td>132</td>\n",
       "    </tr>\n",
       "    <tr>\n",
       "      <th>25</th>\n",
       "      <td>Cambodia</td>\n",
       "      <td>2011</td>\n",
       "      <td>425.0</td>\n",
       "      <td>2.223147</td>\n",
       "      <td>1.370247</td>\n",
       "      <td>2.223375</td>\n",
       "      <td>82</td>\n",
       "    </tr>\n",
       "    <tr>\n",
       "      <th>26</th>\n",
       "      <td>Indonesia</td>\n",
       "      <td>2011</td>\n",
       "      <td>338.0</td>\n",
       "      <td>2.687857</td>\n",
       "      <td>2.199702</td>\n",
       "      <td>2.032919</td>\n",
       "      <td>135</td>\n",
       "    </tr>\n",
       "    <tr>\n",
       "      <th>27</th>\n",
       "      <td>Philippines</td>\n",
       "      <td>2011</td>\n",
       "      <td>535.0</td>\n",
       "      <td>2.826379</td>\n",
       "      <td>2.503945</td>\n",
       "      <td>2.586613</td>\n",
       "      <td>320</td>\n",
       "    </tr>\n",
       "    <tr>\n",
       "      <th>28</th>\n",
       "      <td>Cambodia</td>\n",
       "      <td>2010</td>\n",
       "      <td>438.0</td>\n",
       "      <td>2.182664</td>\n",
       "      <td>1.275551</td>\n",
       "      <td>2.220920</td>\n",
       "      <td>81</td>\n",
       "    </tr>\n",
       "    <tr>\n",
       "      <th>29</th>\n",
       "      <td>Indonesia</td>\n",
       "      <td>2010</td>\n",
       "      <td>342.0</td>\n",
       "      <td>2.670761</td>\n",
       "      <td>2.150304</td>\n",
       "      <td>2.029609</td>\n",
       "      <td>133</td>\n",
       "    </tr>\n",
       "    <tr>\n",
       "      <th>30</th>\n",
       "      <td>Cambodia</td>\n",
       "      <td>2008</td>\n",
       "      <td>NaN</td>\n",
       "      <td>2.101690</td>\n",
       "      <td>1.087102</td>\n",
       "      <td>2.216109</td>\n",
       "      <td>NaN</td>\n",
       "    </tr>\n",
       "    <tr>\n",
       "      <th>31</th>\n",
       "      <td>Cambodia</td>\n",
       "      <td>2009</td>\n",
       "      <td>NaN</td>\n",
       "      <td>2.142178</td>\n",
       "      <td>1.181170</td>\n",
       "      <td>2.218498</td>\n",
       "      <td>NaN</td>\n",
       "    </tr>\n",
       "    <tr>\n",
       "      <th>32</th>\n",
       "      <td>Indonesia</td>\n",
       "      <td>2006</td>\n",
       "      <td>NaN</td>\n",
       "      <td>2.598264</td>\n",
       "      <td>1.945159</td>\n",
       "      <td>2.014169</td>\n",
       "      <td>NaN</td>\n",
       "    </tr>\n",
       "    <tr>\n",
       "      <th>33</th>\n",
       "      <td>Indonesia</td>\n",
       "      <td>2008</td>\n",
       "      <td>NaN</td>\n",
       "      <td>2.635034</td>\n",
       "      <td>2.048675</td>\n",
       "      <td>2.021933</td>\n",
       "      <td>NaN</td>\n",
       "    </tr>\n",
       "    <tr>\n",
       "      <th>34</th>\n",
       "      <td>Indonesia</td>\n",
       "      <td>2009</td>\n",
       "      <td>NaN</td>\n",
       "      <td>2.653056</td>\n",
       "      <td>2.099782</td>\n",
       "      <td>2.025817</td>\n",
       "      <td>NaN</td>\n",
       "    </tr>\n",
       "  </tbody>\n",
       "</table>\n",
       "</div>"
      ],
      "text/plain": [
       "        Country  Year  Tuberculosis  Expected_Value_Water  \\\n",
       "0      Cambodia  2017         326.0              2.465925   \n",
       "1     Indonesia  2017         319.0              2.786007   \n",
       "2       Myanmar  2017         355.0              2.547131   \n",
       "3   Philippines  2017         554.0              2.889947   \n",
       "4      Thailand  2017         156.0              2.999307   \n",
       "5      Cambodia  2016         347.0              2.425470   \n",
       "6     Indonesia  2016         322.0              2.770185   \n",
       "7       Myanmar  2016         372.0              2.523574   \n",
       "8   Philippines  2016         554.0              2.880276   \n",
       "9      Thailand  2016         160.0              2.985532   \n",
       "10     Cambodia  2014         384.0              2.344559   \n",
       "11    Indonesia  2014         329.0              2.737885   \n",
       "12      Myanmar  2014         411.0              2.469429   \n",
       "13  Philippines  2014         546.0              2.858804   \n",
       "14     Thailand  2014         167.0              2.980098   \n",
       "15     Cambodia  2013         399.0              2.304092   \n",
       "16    Indonesia  2013         332.0              2.721417   \n",
       "17      Myanmar  2013         431.0              2.429895   \n",
       "18  Philippines  2013         543.0              2.848025   \n",
       "19     Thailand  2013         170.0              2.973489   \n",
       "20     Cambodia  2012         412.0              2.263625   \n",
       "21    Indonesia  2012         335.0              2.704744   \n",
       "22      Myanmar  2012         453.0              2.390700   \n",
       "23  Philippines  2012         539.0              2.837216   \n",
       "24     Thailand  2012         172.0              2.966718   \n",
       "25     Cambodia  2011         425.0              2.223147   \n",
       "26    Indonesia  2011         338.0              2.687857   \n",
       "27  Philippines  2011         535.0              2.826379   \n",
       "28     Cambodia  2010         438.0              2.182664   \n",
       "29    Indonesia  2010         342.0              2.670761   \n",
       "30     Cambodia  2008           NaN              2.101690   \n",
       "31     Cambodia  2009           NaN              2.142178   \n",
       "32    Indonesia  2006           NaN              2.598264   \n",
       "33    Indonesia  2008           NaN              2.635034   \n",
       "34    Indonesia  2009           NaN              2.653056   \n",
       "\n",
       "    Expected_Value_Sanitation  Expected_Value_Hygiene population  \n",
       "0                    1.931738                2.238791         90  \n",
       "1                    2.488244                2.052676        146  \n",
       "2                    2.285972                2.675554         81  \n",
       "3                    2.628653                2.589862        352  \n",
       "4                    2.986947                2.684556        135  \n",
       "5                    1.848422                2.236143         89  \n",
       "6                    2.441131                2.049419        144  \n",
       "7                    2.294000                2.674907         81  \n",
       "8                    2.607789                2.589282        347  \n",
       "9                    2.983385                2.684810        135  \n",
       "10                   1.656204                2.230933         86  \n",
       "11                   2.345697                2.042837        140  \n",
       "12                   2.310306                2.673742         80  \n",
       "13                   2.566177                2.588212        337  \n",
       "14                   2.973072                2.685319        133  \n",
       "15                   1.560566                2.228378         85  \n",
       "16                   2.297400                2.039531        138  \n",
       "17                   2.318578                2.673221         79  \n",
       "18                   2.545408                2.587680        331  \n",
       "19                   2.968154                2.685573        133  \n",
       "20                   1.465257                2.225863         83  \n",
       "21                   2.248740                2.036230        137  \n",
       "22                   2.326865                2.672706         78  \n",
       "23                   2.524662                2.587145        326  \n",
       "24                   2.959868                2.685826        132  \n",
       "25                   1.370247                2.223375         82  \n",
       "26                   2.199702                2.032919        135  \n",
       "27                   2.503945                2.586613        320  \n",
       "28                   1.275551                2.220920         81  \n",
       "29                   2.150304                2.029609        133  \n",
       "30                   1.087102                2.216109        NaN  \n",
       "31                   1.181170                2.218498        NaN  \n",
       "32                   1.945159                2.014169        NaN  \n",
       "33                   2.048675                2.021933        NaN  \n",
       "34                   2.099782                2.025817        NaN  "
      ]
     },
     "execution_count": 182,
     "metadata": {},
     "output_type": "execute_result"
    }
   ],
   "source": [
    "dfpd['population']=split(dfpd['population'])\n",
    "dfpd['population']=dfpd.population.astype(str)\n",
    "sea=dfpd[dfpd['Country'].isin(['Indonesia', 'Malaysia','Maynmar','Laos','Thailand','Vietnam','Singapore','Cambodia','East Timor','Brunei','Philippines','Myanmar'])]\n",
    "sea\n",
    "\n",
    "seatbmergepd=pd.merge(seatbmerge, sea, how='left', left_on=['Year','Country'], right_on = ['Year', 'Country'])\n",
    "seatbmergepd"
   ]
  },
  {
   "cell_type": "code",
   "execution_count": 185,
   "metadata": {},
   "outputs": [],
   "source": [
    "#dfpd[\"population\"] = dfpd.population.convert_objects(convert_numeric=True)\n",
    "seatbmergepd[\"population\"] = pd.to_numeric(seatbmergepd.population, errors='coerce')\n",
    "seatbmergepd.dtypes\n",
    "seatbmergepd = seatbmergepd[seatbmergepd['population'].notna()]"
   ]
  },
  {
   "cell_type": "code",
   "execution_count": 194,
   "metadata": {},
   "outputs": [
    {
     "data": {
      "application/vnd.plotly.v1+json": {
       "config": {
        "plotlyServerURL": "https://plot.ly"
       },
       "data": [
        {
         "hoverlabel": {
          "namelength": 0
         },
         "hovertemplate": "<b>%{hovertext}</b><br><br>Country=Cambodia<br>Year=2017<br>Tuberculosis=%{x}<br>Expected_Value_Water=%{y}<br>population=%{marker.size}",
         "hovertext": [
          "Cambodia"
         ],
         "legendgroup": "Cambodia",
         "marker": {
          "color": "#636efa",
          "size": [
           90
          ],
          "sizemode": "area",
          "sizeref": 0.17382716049382715,
          "symbol": "circle"
         },
         "mode": "markers",
         "name": "Cambodia",
         "showlegend": true,
         "type": "scatter",
         "x": [
          326
         ],
         "xaxis": "x",
         "y": [
          2.4659253000000003
         ],
         "yaxis": "y"
        },
        {
         "hoverlabel": {
          "namelength": 0
         },
         "hovertemplate": "<b>%{hovertext}</b><br><br>Country=Indonesia<br>Year=2017<br>Tuberculosis=%{x}<br>Expected_Value_Water=%{y}<br>population=%{marker.size}",
         "hovertext": [
          "Indonesia"
         ],
         "legendgroup": "Indonesia",
         "marker": {
          "color": "#EF553B",
          "size": [
           146
          ],
          "sizemode": "area",
          "sizeref": 0.17382716049382715,
          "symbol": "circle"
         },
         "mode": "markers",
         "name": "Indonesia",
         "showlegend": true,
         "type": "scatter",
         "x": [
          319
         ],
         "xaxis": "x2",
         "y": [
          2.7860067
         ],
         "yaxis": "y2"
        },
        {
         "hoverlabel": {
          "namelength": 0
         },
         "hovertemplate": "<b>%{hovertext}</b><br><br>Country=Myanmar<br>Year=2017<br>Tuberculosis=%{x}<br>Expected_Value_Water=%{y}<br>population=%{marker.size}",
         "hovertext": [
          "Myanmar"
         ],
         "legendgroup": "Myanmar",
         "marker": {
          "color": "#00cc96",
          "size": [
           81
          ],
          "sizemode": "area",
          "sizeref": 0.17382716049382715,
          "symbol": "circle"
         },
         "mode": "markers",
         "name": "Myanmar",
         "showlegend": true,
         "type": "scatter",
         "x": [
          355
         ],
         "xaxis": "x3",
         "y": [
          2.5471306
         ],
         "yaxis": "y3"
        },
        {
         "hoverlabel": {
          "namelength": 0
         },
         "hovertemplate": "<b>%{hovertext}</b><br><br>Country=Philippines<br>Year=2017<br>Tuberculosis=%{x}<br>Expected_Value_Water=%{y}<br>population=%{marker.size}",
         "hovertext": [
          "Philippines"
         ],
         "legendgroup": "Philippines",
         "marker": {
          "color": "#ab63fa",
          "size": [
           352
          ],
          "sizemode": "area",
          "sizeref": 0.17382716049382715,
          "symbol": "circle"
         },
         "mode": "markers",
         "name": "Philippines",
         "showlegend": true,
         "type": "scatter",
         "x": [
          554
         ],
         "xaxis": "x4",
         "y": [
          2.8899471
         ],
         "yaxis": "y4"
        },
        {
         "hoverlabel": {
          "namelength": 0
         },
         "hovertemplate": "<b>%{hovertext}</b><br><br>Country=Thailand<br>Year=2017<br>Tuberculosis=%{x}<br>Expected_Value_Water=%{y}<br>population=%{marker.size}",
         "hovertext": [
          "Thailand"
         ],
         "legendgroup": "Thailand",
         "marker": {
          "color": "#FFA15A",
          "size": [
           135
          ],
          "sizemode": "area",
          "sizeref": 0.17382716049382715,
          "symbol": "circle"
         },
         "mode": "markers",
         "name": "Thailand",
         "showlegend": true,
         "type": "scatter",
         "x": [
          156
         ],
         "xaxis": "x5",
         "y": [
          2.9993071
         ],
         "yaxis": "y5"
        }
       ],
       "frames": [
        {
         "data": [
          {
           "hoverlabel": {
            "namelength": 0
           },
           "hovertemplate": "<b>%{hovertext}</b><br><br>Country=Cambodia<br>Year=2017<br>Tuberculosis=%{x}<br>Expected_Value_Water=%{y}<br>population=%{marker.size}",
           "hovertext": [
            "Cambodia"
           ],
           "legendgroup": "Cambodia",
           "marker": {
            "color": "#636efa",
            "size": [
             90
            ],
            "sizemode": "area",
            "sizeref": 0.17382716049382715,
            "symbol": "circle"
           },
           "mode": "markers",
           "name": "Cambodia",
           "showlegend": true,
           "type": "scatter",
           "x": [
            326
           ],
           "xaxis": "x",
           "y": [
            2.4659253000000003
           ],
           "yaxis": "y"
          },
          {
           "hoverlabel": {
            "namelength": 0
           },
           "hovertemplate": "<b>%{hovertext}</b><br><br>Country=Indonesia<br>Year=2017<br>Tuberculosis=%{x}<br>Expected_Value_Water=%{y}<br>population=%{marker.size}",
           "hovertext": [
            "Indonesia"
           ],
           "legendgroup": "Indonesia",
           "marker": {
            "color": "#EF553B",
            "size": [
             146
            ],
            "sizemode": "area",
            "sizeref": 0.17382716049382715,
            "symbol": "circle"
           },
           "mode": "markers",
           "name": "Indonesia",
           "showlegend": true,
           "type": "scatter",
           "x": [
            319
           ],
           "xaxis": "x2",
           "y": [
            2.7860067
           ],
           "yaxis": "y2"
          },
          {
           "hoverlabel": {
            "namelength": 0
           },
           "hovertemplate": "<b>%{hovertext}</b><br><br>Country=Myanmar<br>Year=2017<br>Tuberculosis=%{x}<br>Expected_Value_Water=%{y}<br>population=%{marker.size}",
           "hovertext": [
            "Myanmar"
           ],
           "legendgroup": "Myanmar",
           "marker": {
            "color": "#00cc96",
            "size": [
             81
            ],
            "sizemode": "area",
            "sizeref": 0.17382716049382715,
            "symbol": "circle"
           },
           "mode": "markers",
           "name": "Myanmar",
           "showlegend": true,
           "type": "scatter",
           "x": [
            355
           ],
           "xaxis": "x3",
           "y": [
            2.5471306
           ],
           "yaxis": "y3"
          },
          {
           "hoverlabel": {
            "namelength": 0
           },
           "hovertemplate": "<b>%{hovertext}</b><br><br>Country=Philippines<br>Year=2017<br>Tuberculosis=%{x}<br>Expected_Value_Water=%{y}<br>population=%{marker.size}",
           "hovertext": [
            "Philippines"
           ],
           "legendgroup": "Philippines",
           "marker": {
            "color": "#ab63fa",
            "size": [
             352
            ],
            "sizemode": "area",
            "sizeref": 0.17382716049382715,
            "symbol": "circle"
           },
           "mode": "markers",
           "name": "Philippines",
           "showlegend": true,
           "type": "scatter",
           "x": [
            554
           ],
           "xaxis": "x4",
           "y": [
            2.8899471
           ],
           "yaxis": "y4"
          },
          {
           "hoverlabel": {
            "namelength": 0
           },
           "hovertemplate": "<b>%{hovertext}</b><br><br>Country=Thailand<br>Year=2017<br>Tuberculosis=%{x}<br>Expected_Value_Water=%{y}<br>population=%{marker.size}",
           "hovertext": [
            "Thailand"
           ],
           "legendgroup": "Thailand",
           "marker": {
            "color": "#FFA15A",
            "size": [
             135
            ],
            "sizemode": "area",
            "sizeref": 0.17382716049382715,
            "symbol": "circle"
           },
           "mode": "markers",
           "name": "Thailand",
           "showlegend": true,
           "type": "scatter",
           "x": [
            156
           ],
           "xaxis": "x5",
           "y": [
            2.9993071
           ],
           "yaxis": "y5"
          }
         ],
         "name": "2017"
        },
        {
         "data": [
          {
           "hoverlabel": {
            "namelength": 0
           },
           "hovertemplate": "<b>%{hovertext}</b><br><br>Country=Cambodia<br>Year=2016<br>Tuberculosis=%{x}<br>Expected_Value_Water=%{y}<br>population=%{marker.size}",
           "hovertext": [
            "Cambodia"
           ],
           "legendgroup": "Cambodia",
           "marker": {
            "color": "#636efa",
            "size": [
             89
            ],
            "sizemode": "area",
            "sizeref": 0.17382716049382715,
            "symbol": "circle"
           },
           "mode": "markers",
           "name": "Cambodia",
           "showlegend": true,
           "type": "scatter",
           "x": [
            347
           ],
           "xaxis": "x",
           "y": [
            2.4254701
           ],
           "yaxis": "y"
          },
          {
           "hoverlabel": {
            "namelength": 0
           },
           "hovertemplate": "<b>%{hovertext}</b><br><br>Country=Indonesia<br>Year=2016<br>Tuberculosis=%{x}<br>Expected_Value_Water=%{y}<br>population=%{marker.size}",
           "hovertext": [
            "Indonesia"
           ],
           "legendgroup": "Indonesia",
           "marker": {
            "color": "#EF553B",
            "size": [
             144
            ],
            "sizemode": "area",
            "sizeref": 0.17382716049382715,
            "symbol": "circle"
           },
           "mode": "markers",
           "name": "Indonesia",
           "showlegend": true,
           "type": "scatter",
           "x": [
            322
           ],
           "xaxis": "x2",
           "y": [
            2.7701849999999997
           ],
           "yaxis": "y2"
          },
          {
           "hoverlabel": {
            "namelength": 0
           },
           "hovertemplate": "<b>%{hovertext}</b><br><br>Country=Myanmar<br>Year=2016<br>Tuberculosis=%{x}<br>Expected_Value_Water=%{y}<br>population=%{marker.size}",
           "hovertext": [
            "Myanmar"
           ],
           "legendgroup": "Myanmar",
           "marker": {
            "color": "#00cc96",
            "size": [
             81
            ],
            "sizemode": "area",
            "sizeref": 0.17382716049382715,
            "symbol": "circle"
           },
           "mode": "markers",
           "name": "Myanmar",
           "showlegend": true,
           "type": "scatter",
           "x": [
            372
           ],
           "xaxis": "x3",
           "y": [
            2.5235738
           ],
           "yaxis": "y3"
          },
          {
           "hoverlabel": {
            "namelength": 0
           },
           "hovertemplate": "<b>%{hovertext}</b><br><br>Country=Philippines<br>Year=2016<br>Tuberculosis=%{x}<br>Expected_Value_Water=%{y}<br>population=%{marker.size}",
           "hovertext": [
            "Philippines"
           ],
           "legendgroup": "Philippines",
           "marker": {
            "color": "#ab63fa",
            "size": [
             347
            ],
            "sizemode": "area",
            "sizeref": 0.17382716049382715,
            "symbol": "circle"
           },
           "mode": "markers",
           "name": "Philippines",
           "showlegend": true,
           "type": "scatter",
           "x": [
            554
           ],
           "xaxis": "x4",
           "y": [
            2.8802756
           ],
           "yaxis": "y4"
          },
          {
           "hoverlabel": {
            "namelength": 0
           },
           "hovertemplate": "<b>%{hovertext}</b><br><br>Country=Thailand<br>Year=2016<br>Tuberculosis=%{x}<br>Expected_Value_Water=%{y}<br>population=%{marker.size}",
           "hovertext": [
            "Thailand"
           ],
           "legendgroup": "Thailand",
           "marker": {
            "color": "#FFA15A",
            "size": [
             135
            ],
            "sizemode": "area",
            "sizeref": 0.17382716049382715,
            "symbol": "circle"
           },
           "mode": "markers",
           "name": "Thailand",
           "showlegend": true,
           "type": "scatter",
           "x": [
            160
           ],
           "xaxis": "x5",
           "y": [
            2.9855317
           ],
           "yaxis": "y5"
          }
         ],
         "name": "2016"
        },
        {
         "data": [
          {
           "hoverlabel": {
            "namelength": 0
           },
           "hovertemplate": "<b>%{hovertext}</b><br><br>Country=Cambodia<br>Year=2014<br>Tuberculosis=%{x}<br>Expected_Value_Water=%{y}<br>population=%{marker.size}",
           "hovertext": [
            "Cambodia"
           ],
           "legendgroup": "Cambodia",
           "marker": {
            "color": "#636efa",
            "size": [
             86
            ],
            "sizemode": "area",
            "sizeref": 0.17382716049382715,
            "symbol": "circle"
           },
           "mode": "markers",
           "name": "Cambodia",
           "showlegend": true,
           "type": "scatter",
           "x": [
            384
           ],
           "xaxis": "x",
           "y": [
            2.3445594
           ],
           "yaxis": "y"
          },
          {
           "hoverlabel": {
            "namelength": 0
           },
           "hovertemplate": "<b>%{hovertext}</b><br><br>Country=Indonesia<br>Year=2014<br>Tuberculosis=%{x}<br>Expected_Value_Water=%{y}<br>population=%{marker.size}",
           "hovertext": [
            "Indonesia"
           ],
           "legendgroup": "Indonesia",
           "marker": {
            "color": "#EF553B",
            "size": [
             140
            ],
            "sizemode": "area",
            "sizeref": 0.17382716049382715,
            "symbol": "circle"
           },
           "mode": "markers",
           "name": "Indonesia",
           "showlegend": true,
           "type": "scatter",
           "x": [
            329
           ],
           "xaxis": "x2",
           "y": [
            2.7378854
           ],
           "yaxis": "y2"
          },
          {
           "hoverlabel": {
            "namelength": 0
           },
           "hovertemplate": "<b>%{hovertext}</b><br><br>Country=Myanmar<br>Year=2014<br>Tuberculosis=%{x}<br>Expected_Value_Water=%{y}<br>population=%{marker.size}",
           "hovertext": [
            "Myanmar"
           ],
           "legendgroup": "Myanmar",
           "marker": {
            "color": "#00cc96",
            "size": [
             80
            ],
            "sizemode": "area",
            "sizeref": 0.17382716049382715,
            "symbol": "circle"
           },
           "mode": "markers",
           "name": "Myanmar",
           "showlegend": true,
           "type": "scatter",
           "x": [
            411
           ],
           "xaxis": "x3",
           "y": [
            2.4694287999999998
           ],
           "yaxis": "y3"
          },
          {
           "hoverlabel": {
            "namelength": 0
           },
           "hovertemplate": "<b>%{hovertext}</b><br><br>Country=Philippines<br>Year=2014<br>Tuberculosis=%{x}<br>Expected_Value_Water=%{y}<br>population=%{marker.size}",
           "hovertext": [
            "Philippines"
           ],
           "legendgroup": "Philippines",
           "marker": {
            "color": "#ab63fa",
            "size": [
             337
            ],
            "sizemode": "area",
            "sizeref": 0.17382716049382715,
            "symbol": "circle"
           },
           "mode": "markers",
           "name": "Philippines",
           "showlegend": true,
           "type": "scatter",
           "x": [
            546
           ],
           "xaxis": "x4",
           "y": [
            2.8588037999999996
           ],
           "yaxis": "y4"
          },
          {
           "hoverlabel": {
            "namelength": 0
           },
           "hovertemplate": "<b>%{hovertext}</b><br><br>Country=Thailand<br>Year=2014<br>Tuberculosis=%{x}<br>Expected_Value_Water=%{y}<br>population=%{marker.size}",
           "hovertext": [
            "Thailand"
           ],
           "legendgroup": "Thailand",
           "marker": {
            "color": "#FFA15A",
            "size": [
             133
            ],
            "sizemode": "area",
            "sizeref": 0.17382716049382715,
            "symbol": "circle"
           },
           "mode": "markers",
           "name": "Thailand",
           "showlegend": true,
           "type": "scatter",
           "x": [
            167
           ],
           "xaxis": "x5",
           "y": [
            2.9800976
           ],
           "yaxis": "y5"
          }
         ],
         "name": "2014"
        },
        {
         "data": [
          {
           "hoverlabel": {
            "namelength": 0
           },
           "hovertemplate": "<b>%{hovertext}</b><br><br>Country=Cambodia<br>Year=2013<br>Tuberculosis=%{x}<br>Expected_Value_Water=%{y}<br>population=%{marker.size}",
           "hovertext": [
            "Cambodia"
           ],
           "legendgroup": "Cambodia",
           "marker": {
            "color": "#636efa",
            "size": [
             85
            ],
            "sizemode": "area",
            "sizeref": 0.17382716049382715,
            "symbol": "circle"
           },
           "mode": "markers",
           "name": "Cambodia",
           "showlegend": true,
           "type": "scatter",
           "x": [
            399
           ],
           "xaxis": "x",
           "y": [
            2.3040924999999994
           ],
           "yaxis": "y"
          },
          {
           "hoverlabel": {
            "namelength": 0
           },
           "hovertemplate": "<b>%{hovertext}</b><br><br>Country=Indonesia<br>Year=2013<br>Tuberculosis=%{x}<br>Expected_Value_Water=%{y}<br>population=%{marker.size}",
           "hovertext": [
            "Indonesia"
           ],
           "legendgroup": "Indonesia",
           "marker": {
            "color": "#EF553B",
            "size": [
             138
            ],
            "sizemode": "area",
            "sizeref": 0.17382716049382715,
            "symbol": "circle"
           },
           "mode": "markers",
           "name": "Indonesia",
           "showlegend": true,
           "type": "scatter",
           "x": [
            332
           ],
           "xaxis": "x2",
           "y": [
            2.7214165
           ],
           "yaxis": "y2"
          },
          {
           "hoverlabel": {
            "namelength": 0
           },
           "hovertemplate": "<b>%{hovertext}</b><br><br>Country=Myanmar<br>Year=2013<br>Tuberculosis=%{x}<br>Expected_Value_Water=%{y}<br>population=%{marker.size}",
           "hovertext": [
            "Myanmar"
           ],
           "legendgroup": "Myanmar",
           "marker": {
            "color": "#00cc96",
            "size": [
             79
            ],
            "sizemode": "area",
            "sizeref": 0.17382716049382715,
            "symbol": "circle"
           },
           "mode": "markers",
           "name": "Myanmar",
           "showlegend": true,
           "type": "scatter",
           "x": [
            431
           ],
           "xaxis": "x3",
           "y": [
            2.4298954000000004
           ],
           "yaxis": "y3"
          },
          {
           "hoverlabel": {
            "namelength": 0
           },
           "hovertemplate": "<b>%{hovertext}</b><br><br>Country=Philippines<br>Year=2013<br>Tuberculosis=%{x}<br>Expected_Value_Water=%{y}<br>population=%{marker.size}",
           "hovertext": [
            "Philippines"
           ],
           "legendgroup": "Philippines",
           "marker": {
            "color": "#ab63fa",
            "size": [
             331
            ],
            "sizemode": "area",
            "sizeref": 0.17382716049382715,
            "symbol": "circle"
           },
           "mode": "markers",
           "name": "Philippines",
           "showlegend": true,
           "type": "scatter",
           "x": [
            543
           ],
           "xaxis": "x4",
           "y": [
            2.8480252999999998
           ],
           "yaxis": "y4"
          },
          {
           "hoverlabel": {
            "namelength": 0
           },
           "hovertemplate": "<b>%{hovertext}</b><br><br>Country=Thailand<br>Year=2013<br>Tuberculosis=%{x}<br>Expected_Value_Water=%{y}<br>population=%{marker.size}",
           "hovertext": [
            "Thailand"
           ],
           "legendgroup": "Thailand",
           "marker": {
            "color": "#FFA15A",
            "size": [
             133
            ],
            "sizemode": "area",
            "sizeref": 0.17382716049382715,
            "symbol": "circle"
           },
           "mode": "markers",
           "name": "Thailand",
           "showlegend": true,
           "type": "scatter",
           "x": [
            170
           ],
           "xaxis": "x5",
           "y": [
            2.9734893
           ],
           "yaxis": "y5"
          }
         ],
         "name": "2013"
        },
        {
         "data": [
          {
           "hoverlabel": {
            "namelength": 0
           },
           "hovertemplate": "<b>%{hovertext}</b><br><br>Country=Cambodia<br>Year=2012<br>Tuberculosis=%{x}<br>Expected_Value_Water=%{y}<br>population=%{marker.size}",
           "hovertext": [
            "Cambodia"
           ],
           "legendgroup": "Cambodia",
           "marker": {
            "color": "#636efa",
            "size": [
             83
            ],
            "sizemode": "area",
            "sizeref": 0.17382716049382715,
            "symbol": "circle"
           },
           "mode": "markers",
           "name": "Cambodia",
           "showlegend": true,
           "type": "scatter",
           "x": [
            412
           ],
           "xaxis": "x",
           "y": [
            2.2636252
           ],
           "yaxis": "y"
          },
          {
           "hoverlabel": {
            "namelength": 0
           },
           "hovertemplate": "<b>%{hovertext}</b><br><br>Country=Indonesia<br>Year=2012<br>Tuberculosis=%{x}<br>Expected_Value_Water=%{y}<br>population=%{marker.size}",
           "hovertext": [
            "Indonesia"
           ],
           "legendgroup": "Indonesia",
           "marker": {
            "color": "#EF553B",
            "size": [
             137
            ],
            "sizemode": "area",
            "sizeref": 0.17382716049382715,
            "symbol": "circle"
           },
           "mode": "markers",
           "name": "Indonesia",
           "showlegend": true,
           "type": "scatter",
           "x": [
            335
           ],
           "xaxis": "x2",
           "y": [
            2.7047441
           ],
           "yaxis": "y2"
          },
          {
           "hoverlabel": {
            "namelength": 0
           },
           "hovertemplate": "<b>%{hovertext}</b><br><br>Country=Myanmar<br>Year=2012<br>Tuberculosis=%{x}<br>Expected_Value_Water=%{y}<br>population=%{marker.size}",
           "hovertext": [
            "Myanmar"
           ],
           "legendgroup": "Myanmar",
           "marker": {
            "color": "#00cc96",
            "size": [
             78
            ],
            "sizemode": "area",
            "sizeref": 0.17382716049382715,
            "symbol": "circle"
           },
           "mode": "markers",
           "name": "Myanmar",
           "showlegend": true,
           "type": "scatter",
           "x": [
            453
           ],
           "xaxis": "x3",
           "y": [
            2.3907001999999995
           ],
           "yaxis": "y3"
          },
          {
           "hoverlabel": {
            "namelength": 0
           },
           "hovertemplate": "<b>%{hovertext}</b><br><br>Country=Philippines<br>Year=2012<br>Tuberculosis=%{x}<br>Expected_Value_Water=%{y}<br>population=%{marker.size}",
           "hovertext": [
            "Philippines"
           ],
           "legendgroup": "Philippines",
           "marker": {
            "color": "#ab63fa",
            "size": [
             326
            ],
            "sizemode": "area",
            "sizeref": 0.17382716049382715,
            "symbol": "circle"
           },
           "mode": "markers",
           "name": "Philippines",
           "showlegend": true,
           "type": "scatter",
           "x": [
            539
           ],
           "xaxis": "x4",
           "y": [
            2.8372159
           ],
           "yaxis": "y4"
          },
          {
           "hoverlabel": {
            "namelength": 0
           },
           "hovertemplate": "<b>%{hovertext}</b><br><br>Country=Thailand<br>Year=2012<br>Tuberculosis=%{x}<br>Expected_Value_Water=%{y}<br>population=%{marker.size}",
           "hovertext": [
            "Thailand"
           ],
           "legendgroup": "Thailand",
           "marker": {
            "color": "#FFA15A",
            "size": [
             132
            ],
            "sizemode": "area",
            "sizeref": 0.17382716049382715,
            "symbol": "circle"
           },
           "mode": "markers",
           "name": "Thailand",
           "showlegend": true,
           "type": "scatter",
           "x": [
            172
           ],
           "xaxis": "x5",
           "y": [
            2.9667181
           ],
           "yaxis": "y5"
          }
         ],
         "name": "2012"
        },
        {
         "data": [
          {
           "hoverlabel": {
            "namelength": 0
           },
           "hovertemplate": "<b>%{hovertext}</b><br><br>Country=Cambodia<br>Year=2011<br>Tuberculosis=%{x}<br>Expected_Value_Water=%{y}<br>population=%{marker.size}",
           "hovertext": [
            "Cambodia"
           ],
           "legendgroup": "Cambodia",
           "marker": {
            "color": "#636efa",
            "size": [
             82
            ],
            "sizemode": "area",
            "sizeref": 0.17382716049382715,
            "symbol": "circle"
           },
           "mode": "markers",
           "name": "Cambodia",
           "showlegend": true,
           "type": "scatter",
           "x": [
            425
           ],
           "xaxis": "x",
           "y": [
            2.2231467
           ],
           "yaxis": "y"
          },
          {
           "hoverlabel": {
            "namelength": 0
           },
           "hovertemplate": "<b>%{hovertext}</b><br><br>Country=Indonesia<br>Year=2011<br>Tuberculosis=%{x}<br>Expected_Value_Water=%{y}<br>population=%{marker.size}",
           "hovertext": [
            "Indonesia"
           ],
           "legendgroup": "Indonesia",
           "marker": {
            "color": "#EF553B",
            "size": [
             135
            ],
            "sizemode": "area",
            "sizeref": 0.17382716049382715,
            "symbol": "circle"
           },
           "mode": "markers",
           "name": "Indonesia",
           "showlegend": true,
           "type": "scatter",
           "x": [
            338
           ],
           "xaxis": "x2",
           "y": [
            2.6878567
           ],
           "yaxis": "y2"
          },
          {
           "hoverlabel": {
            "namelength": 0
           },
           "hovertemplate": "<b>%{hovertext}</b><br><br>Country=Philippines<br>Year=2011<br>Tuberculosis=%{x}<br>Expected_Value_Water=%{y}<br>population=%{marker.size}",
           "hovertext": [
            "Philippines"
           ],
           "legendgroup": "Philippines",
           "marker": {
            "color": "#ab63fa",
            "size": [
             320
            ],
            "sizemode": "area",
            "sizeref": 0.17382716049382715,
            "symbol": "circle"
           },
           "mode": "markers",
           "name": "Philippines",
           "showlegend": true,
           "type": "scatter",
           "x": [
            535
           ],
           "xaxis": "x4",
           "y": [
            2.8263787
           ],
           "yaxis": "y4"
          }
         ],
         "name": "2011"
        },
        {
         "data": [
          {
           "hoverlabel": {
            "namelength": 0
           },
           "hovertemplate": "<b>%{hovertext}</b><br><br>Country=Cambodia<br>Year=2010<br>Tuberculosis=%{x}<br>Expected_Value_Water=%{y}<br>population=%{marker.size}",
           "hovertext": [
            "Cambodia"
           ],
           "legendgroup": "Cambodia",
           "marker": {
            "color": "#636efa",
            "size": [
             81
            ],
            "sizemode": "area",
            "sizeref": 0.17382716049382715,
            "symbol": "circle"
           },
           "mode": "markers",
           "name": "Cambodia",
           "showlegend": true,
           "type": "scatter",
           "x": [
            438
           ],
           "xaxis": "x",
           "y": [
            2.1826637000000004
           ],
           "yaxis": "y"
          },
          {
           "hoverlabel": {
            "namelength": 0
           },
           "hovertemplate": "<b>%{hovertext}</b><br><br>Country=Indonesia<br>Year=2010<br>Tuberculosis=%{x}<br>Expected_Value_Water=%{y}<br>population=%{marker.size}",
           "hovertext": [
            "Indonesia"
           ],
           "legendgroup": "Indonesia",
           "marker": {
            "color": "#EF553B",
            "size": [
             133
            ],
            "sizemode": "area",
            "sizeref": 0.17382716049382715,
            "symbol": "circle"
           },
           "mode": "markers",
           "name": "Indonesia",
           "showlegend": true,
           "type": "scatter",
           "x": [
            342
           ],
           "xaxis": "x2",
           "y": [
            2.6707609
           ],
           "yaxis": "y2"
          }
         ],
         "name": "2010"
        }
       ],
       "layout": {
        "annotations": [
         {
          "font": {},
          "showarrow": false,
          "text": "Country=Cambodia",
          "x": 0.09200000000000001,
          "xanchor": "center",
          "xref": "paper",
          "y": 1,
          "yanchor": "bottom",
          "yref": "paper"
         },
         {
          "font": {},
          "showarrow": false,
          "text": "Country=Indonesia",
          "x": 0.29600000000000004,
          "xanchor": "center",
          "xref": "paper",
          "y": 1,
          "yanchor": "bottom",
          "yref": "paper"
         },
         {
          "font": {},
          "showarrow": false,
          "text": "Country=Myanmar",
          "x": 0.5,
          "xanchor": "center",
          "xref": "paper",
          "y": 1,
          "yanchor": "bottom",
          "yref": "paper"
         },
         {
          "font": {},
          "showarrow": false,
          "text": "Country=Philippines",
          "x": 0.7040000000000002,
          "xanchor": "center",
          "xref": "paper",
          "y": 1,
          "yanchor": "bottom",
          "yref": "paper"
         },
         {
          "font": {},
          "showarrow": false,
          "text": "Country=Thailand",
          "x": 0.908,
          "xanchor": "center",
          "xref": "paper",
          "y": 1,
          "yanchor": "bottom",
          "yref": "paper"
         }
        ],
        "legend": {
         "itemsizing": "constant",
         "title": {
          "text": "Country"
         },
         "tracegroupgap": 0
        },
        "margin": {
         "t": 60
        },
        "sliders": [
         {
          "active": 0,
          "currentvalue": {
           "prefix": "Year="
          },
          "len": 0.9,
          "pad": {
           "b": 10,
           "t": 60
          },
          "steps": [
           {
            "args": [
             [
              "2017"
             ],
             {
              "frame": {
               "duration": 0,
               "redraw": false
              },
              "fromcurrent": true,
              "mode": "immediate",
              "transition": {
               "duration": 0,
               "easing": "linear"
              }
             }
            ],
            "label": "2017",
            "method": "animate"
           },
           {
            "args": [
             [
              "2016"
             ],
             {
              "frame": {
               "duration": 0,
               "redraw": false
              },
              "fromcurrent": true,
              "mode": "immediate",
              "transition": {
               "duration": 0,
               "easing": "linear"
              }
             }
            ],
            "label": "2016",
            "method": "animate"
           },
           {
            "args": [
             [
              "2014"
             ],
             {
              "frame": {
               "duration": 0,
               "redraw": false
              },
              "fromcurrent": true,
              "mode": "immediate",
              "transition": {
               "duration": 0,
               "easing": "linear"
              }
             }
            ],
            "label": "2014",
            "method": "animate"
           },
           {
            "args": [
             [
              "2013"
             ],
             {
              "frame": {
               "duration": 0,
               "redraw": false
              },
              "fromcurrent": true,
              "mode": "immediate",
              "transition": {
               "duration": 0,
               "easing": "linear"
              }
             }
            ],
            "label": "2013",
            "method": "animate"
           },
           {
            "args": [
             [
              "2012"
             ],
             {
              "frame": {
               "duration": 0,
               "redraw": false
              },
              "fromcurrent": true,
              "mode": "immediate",
              "transition": {
               "duration": 0,
               "easing": "linear"
              }
             }
            ],
            "label": "2012",
            "method": "animate"
           },
           {
            "args": [
             [
              "2011"
             ],
             {
              "frame": {
               "duration": 0,
               "redraw": false
              },
              "fromcurrent": true,
              "mode": "immediate",
              "transition": {
               "duration": 0,
               "easing": "linear"
              }
             }
            ],
            "label": "2011",
            "method": "animate"
           },
           {
            "args": [
             [
              "2010"
             ],
             {
              "frame": {
               "duration": 0,
               "redraw": false
              },
              "fromcurrent": true,
              "mode": "immediate",
              "transition": {
               "duration": 0,
               "easing": "linear"
              }
             }
            ],
            "label": "2010",
            "method": "animate"
           }
          ],
          "x": 0.1,
          "xanchor": "left",
          "y": 0,
          "yanchor": "top"
         }
        ],
        "template": {
         "data": {
          "bar": [
           {
            "error_x": {
             "color": "#2a3f5f"
            },
            "error_y": {
             "color": "#2a3f5f"
            },
            "marker": {
             "line": {
              "color": "#E5ECF6",
              "width": 0.5
             }
            },
            "type": "bar"
           }
          ],
          "barpolar": [
           {
            "marker": {
             "line": {
              "color": "#E5ECF6",
              "width": 0.5
             }
            },
            "type": "barpolar"
           }
          ],
          "carpet": [
           {
            "aaxis": {
             "endlinecolor": "#2a3f5f",
             "gridcolor": "white",
             "linecolor": "white",
             "minorgridcolor": "white",
             "startlinecolor": "#2a3f5f"
            },
            "baxis": {
             "endlinecolor": "#2a3f5f",
             "gridcolor": "white",
             "linecolor": "white",
             "minorgridcolor": "white",
             "startlinecolor": "#2a3f5f"
            },
            "type": "carpet"
           }
          ],
          "choropleth": [
           {
            "colorbar": {
             "outlinewidth": 0,
             "ticks": ""
            },
            "type": "choropleth"
           }
          ],
          "contour": [
           {
            "colorbar": {
             "outlinewidth": 0,
             "ticks": ""
            },
            "colorscale": [
             [
              0,
              "#0d0887"
             ],
             [
              0.1111111111111111,
              "#46039f"
             ],
             [
              0.2222222222222222,
              "#7201a8"
             ],
             [
              0.3333333333333333,
              "#9c179e"
             ],
             [
              0.4444444444444444,
              "#bd3786"
             ],
             [
              0.5555555555555556,
              "#d8576b"
             ],
             [
              0.6666666666666666,
              "#ed7953"
             ],
             [
              0.7777777777777778,
              "#fb9f3a"
             ],
             [
              0.8888888888888888,
              "#fdca26"
             ],
             [
              1,
              "#f0f921"
             ]
            ],
            "type": "contour"
           }
          ],
          "contourcarpet": [
           {
            "colorbar": {
             "outlinewidth": 0,
             "ticks": ""
            },
            "type": "contourcarpet"
           }
          ],
          "heatmap": [
           {
            "colorbar": {
             "outlinewidth": 0,
             "ticks": ""
            },
            "colorscale": [
             [
              0,
              "#0d0887"
             ],
             [
              0.1111111111111111,
              "#46039f"
             ],
             [
              0.2222222222222222,
              "#7201a8"
             ],
             [
              0.3333333333333333,
              "#9c179e"
             ],
             [
              0.4444444444444444,
              "#bd3786"
             ],
             [
              0.5555555555555556,
              "#d8576b"
             ],
             [
              0.6666666666666666,
              "#ed7953"
             ],
             [
              0.7777777777777778,
              "#fb9f3a"
             ],
             [
              0.8888888888888888,
              "#fdca26"
             ],
             [
              1,
              "#f0f921"
             ]
            ],
            "type": "heatmap"
           }
          ],
          "heatmapgl": [
           {
            "colorbar": {
             "outlinewidth": 0,
             "ticks": ""
            },
            "colorscale": [
             [
              0,
              "#0d0887"
             ],
             [
              0.1111111111111111,
              "#46039f"
             ],
             [
              0.2222222222222222,
              "#7201a8"
             ],
             [
              0.3333333333333333,
              "#9c179e"
             ],
             [
              0.4444444444444444,
              "#bd3786"
             ],
             [
              0.5555555555555556,
              "#d8576b"
             ],
             [
              0.6666666666666666,
              "#ed7953"
             ],
             [
              0.7777777777777778,
              "#fb9f3a"
             ],
             [
              0.8888888888888888,
              "#fdca26"
             ],
             [
              1,
              "#f0f921"
             ]
            ],
            "type": "heatmapgl"
           }
          ],
          "histogram": [
           {
            "marker": {
             "colorbar": {
              "outlinewidth": 0,
              "ticks": ""
             }
            },
            "type": "histogram"
           }
          ],
          "histogram2d": [
           {
            "colorbar": {
             "outlinewidth": 0,
             "ticks": ""
            },
            "colorscale": [
             [
              0,
              "#0d0887"
             ],
             [
              0.1111111111111111,
              "#46039f"
             ],
             [
              0.2222222222222222,
              "#7201a8"
             ],
             [
              0.3333333333333333,
              "#9c179e"
             ],
             [
              0.4444444444444444,
              "#bd3786"
             ],
             [
              0.5555555555555556,
              "#d8576b"
             ],
             [
              0.6666666666666666,
              "#ed7953"
             ],
             [
              0.7777777777777778,
              "#fb9f3a"
             ],
             [
              0.8888888888888888,
              "#fdca26"
             ],
             [
              1,
              "#f0f921"
             ]
            ],
            "type": "histogram2d"
           }
          ],
          "histogram2dcontour": [
           {
            "colorbar": {
             "outlinewidth": 0,
             "ticks": ""
            },
            "colorscale": [
             [
              0,
              "#0d0887"
             ],
             [
              0.1111111111111111,
              "#46039f"
             ],
             [
              0.2222222222222222,
              "#7201a8"
             ],
             [
              0.3333333333333333,
              "#9c179e"
             ],
             [
              0.4444444444444444,
              "#bd3786"
             ],
             [
              0.5555555555555556,
              "#d8576b"
             ],
             [
              0.6666666666666666,
              "#ed7953"
             ],
             [
              0.7777777777777778,
              "#fb9f3a"
             ],
             [
              0.8888888888888888,
              "#fdca26"
             ],
             [
              1,
              "#f0f921"
             ]
            ],
            "type": "histogram2dcontour"
           }
          ],
          "mesh3d": [
           {
            "colorbar": {
             "outlinewidth": 0,
             "ticks": ""
            },
            "type": "mesh3d"
           }
          ],
          "parcoords": [
           {
            "line": {
             "colorbar": {
              "outlinewidth": 0,
              "ticks": ""
             }
            },
            "type": "parcoords"
           }
          ],
          "pie": [
           {
            "automargin": true,
            "type": "pie"
           }
          ],
          "scatter": [
           {
            "marker": {
             "colorbar": {
              "outlinewidth": 0,
              "ticks": ""
             }
            },
            "type": "scatter"
           }
          ],
          "scatter3d": [
           {
            "line": {
             "colorbar": {
              "outlinewidth": 0,
              "ticks": ""
             }
            },
            "marker": {
             "colorbar": {
              "outlinewidth": 0,
              "ticks": ""
             }
            },
            "type": "scatter3d"
           }
          ],
          "scattercarpet": [
           {
            "marker": {
             "colorbar": {
              "outlinewidth": 0,
              "ticks": ""
             }
            },
            "type": "scattercarpet"
           }
          ],
          "scattergeo": [
           {
            "marker": {
             "colorbar": {
              "outlinewidth": 0,
              "ticks": ""
             }
            },
            "type": "scattergeo"
           }
          ],
          "scattergl": [
           {
            "marker": {
             "colorbar": {
              "outlinewidth": 0,
              "ticks": ""
             }
            },
            "type": "scattergl"
           }
          ],
          "scattermapbox": [
           {
            "marker": {
             "colorbar": {
              "outlinewidth": 0,
              "ticks": ""
             }
            },
            "type": "scattermapbox"
           }
          ],
          "scatterpolar": [
           {
            "marker": {
             "colorbar": {
              "outlinewidth": 0,
              "ticks": ""
             }
            },
            "type": "scatterpolar"
           }
          ],
          "scatterpolargl": [
           {
            "marker": {
             "colorbar": {
              "outlinewidth": 0,
              "ticks": ""
             }
            },
            "type": "scatterpolargl"
           }
          ],
          "scatterternary": [
           {
            "marker": {
             "colorbar": {
              "outlinewidth": 0,
              "ticks": ""
             }
            },
            "type": "scatterternary"
           }
          ],
          "surface": [
           {
            "colorbar": {
             "outlinewidth": 0,
             "ticks": ""
            },
            "colorscale": [
             [
              0,
              "#0d0887"
             ],
             [
              0.1111111111111111,
              "#46039f"
             ],
             [
              0.2222222222222222,
              "#7201a8"
             ],
             [
              0.3333333333333333,
              "#9c179e"
             ],
             [
              0.4444444444444444,
              "#bd3786"
             ],
             [
              0.5555555555555556,
              "#d8576b"
             ],
             [
              0.6666666666666666,
              "#ed7953"
             ],
             [
              0.7777777777777778,
              "#fb9f3a"
             ],
             [
              0.8888888888888888,
              "#fdca26"
             ],
             [
              1,
              "#f0f921"
             ]
            ],
            "type": "surface"
           }
          ],
          "table": [
           {
            "cells": {
             "fill": {
              "color": "#EBF0F8"
             },
             "line": {
              "color": "white"
             }
            },
            "header": {
             "fill": {
              "color": "#C8D4E3"
             },
             "line": {
              "color": "white"
             }
            },
            "type": "table"
           }
          ]
         },
         "layout": {
          "annotationdefaults": {
           "arrowcolor": "#2a3f5f",
           "arrowhead": 0,
           "arrowwidth": 1
          },
          "coloraxis": {
           "colorbar": {
            "outlinewidth": 0,
            "ticks": ""
           }
          },
          "colorscale": {
           "diverging": [
            [
             0,
             "#8e0152"
            ],
            [
             0.1,
             "#c51b7d"
            ],
            [
             0.2,
             "#de77ae"
            ],
            [
             0.3,
             "#f1b6da"
            ],
            [
             0.4,
             "#fde0ef"
            ],
            [
             0.5,
             "#f7f7f7"
            ],
            [
             0.6,
             "#e6f5d0"
            ],
            [
             0.7,
             "#b8e186"
            ],
            [
             0.8,
             "#7fbc41"
            ],
            [
             0.9,
             "#4d9221"
            ],
            [
             1,
             "#276419"
            ]
           ],
           "sequential": [
            [
             0,
             "#0d0887"
            ],
            [
             0.1111111111111111,
             "#46039f"
            ],
            [
             0.2222222222222222,
             "#7201a8"
            ],
            [
             0.3333333333333333,
             "#9c179e"
            ],
            [
             0.4444444444444444,
             "#bd3786"
            ],
            [
             0.5555555555555556,
             "#d8576b"
            ],
            [
             0.6666666666666666,
             "#ed7953"
            ],
            [
             0.7777777777777778,
             "#fb9f3a"
            ],
            [
             0.8888888888888888,
             "#fdca26"
            ],
            [
             1,
             "#f0f921"
            ]
           ],
           "sequentialminus": [
            [
             0,
             "#0d0887"
            ],
            [
             0.1111111111111111,
             "#46039f"
            ],
            [
             0.2222222222222222,
             "#7201a8"
            ],
            [
             0.3333333333333333,
             "#9c179e"
            ],
            [
             0.4444444444444444,
             "#bd3786"
            ],
            [
             0.5555555555555556,
             "#d8576b"
            ],
            [
             0.6666666666666666,
             "#ed7953"
            ],
            [
             0.7777777777777778,
             "#fb9f3a"
            ],
            [
             0.8888888888888888,
             "#fdca26"
            ],
            [
             1,
             "#f0f921"
            ]
           ]
          },
          "colorway": [
           "#636efa",
           "#EF553B",
           "#00cc96",
           "#ab63fa",
           "#FFA15A",
           "#19d3f3",
           "#FF6692",
           "#B6E880",
           "#FF97FF",
           "#FECB52"
          ],
          "font": {
           "color": "#2a3f5f"
          },
          "geo": {
           "bgcolor": "white",
           "lakecolor": "white",
           "landcolor": "#E5ECF6",
           "showlakes": true,
           "showland": true,
           "subunitcolor": "white"
          },
          "hoverlabel": {
           "align": "left"
          },
          "hovermode": "closest",
          "mapbox": {
           "style": "light"
          },
          "paper_bgcolor": "white",
          "plot_bgcolor": "#E5ECF6",
          "polar": {
           "angularaxis": {
            "gridcolor": "white",
            "linecolor": "white",
            "ticks": ""
           },
           "bgcolor": "#E5ECF6",
           "radialaxis": {
            "gridcolor": "white",
            "linecolor": "white",
            "ticks": ""
           }
          },
          "scene": {
           "xaxis": {
            "backgroundcolor": "#E5ECF6",
            "gridcolor": "white",
            "gridwidth": 2,
            "linecolor": "white",
            "showbackground": true,
            "ticks": "",
            "zerolinecolor": "white"
           },
           "yaxis": {
            "backgroundcolor": "#E5ECF6",
            "gridcolor": "white",
            "gridwidth": 2,
            "linecolor": "white",
            "showbackground": true,
            "ticks": "",
            "zerolinecolor": "white"
           },
           "zaxis": {
            "backgroundcolor": "#E5ECF6",
            "gridcolor": "white",
            "gridwidth": 2,
            "linecolor": "white",
            "showbackground": true,
            "ticks": "",
            "zerolinecolor": "white"
           }
          },
          "shapedefaults": {
           "line": {
            "color": "#2a3f5f"
           }
          },
          "ternary": {
           "aaxis": {
            "gridcolor": "white",
            "linecolor": "white",
            "ticks": ""
           },
           "baxis": {
            "gridcolor": "white",
            "linecolor": "white",
            "ticks": ""
           },
           "bgcolor": "#E5ECF6",
           "caxis": {
            "gridcolor": "white",
            "linecolor": "white",
            "ticks": ""
           }
          },
          "title": {
           "x": 0.05
          },
          "xaxis": {
           "automargin": true,
           "gridcolor": "white",
           "linecolor": "white",
           "ticks": "",
           "title": {
            "standoff": 15
           },
           "zerolinecolor": "white",
           "zerolinewidth": 2
          },
          "yaxis": {
           "automargin": true,
           "gridcolor": "white",
           "linecolor": "white",
           "ticks": "",
           "title": {
            "standoff": 15
           },
           "zerolinecolor": "white",
           "zerolinewidth": 2
          }
         }
        },
        "updatemenus": [
         {
          "buttons": [
           {
            "args": [
             null,
             {
              "frame": {
               "duration": 500,
               "redraw": false
              },
              "fromcurrent": true,
              "mode": "immediate",
              "transition": {
               "duration": 500,
               "easing": "linear"
              }
             }
            ],
            "label": "&#9654;",
            "method": "animate"
           },
           {
            "args": [
             [
              null
             ],
             {
              "frame": {
               "duration": 0,
               "redraw": false
              },
              "fromcurrent": true,
              "mode": "immediate",
              "transition": {
               "duration": 0,
               "easing": "linear"
              }
             }
            ],
            "label": "&#9724;",
            "method": "animate"
           }
          ],
          "direction": "left",
          "pad": {
           "r": 10,
           "t": 70
          },
          "showactive": false,
          "type": "buttons",
          "x": 0.1,
          "xanchor": "right",
          "y": 0,
          "yanchor": "top"
         }
        ],
        "xaxis": {
         "anchor": "y",
         "domain": [
          0,
          0.18400000000000002
         ],
         "title": {
          "text": "Tuberculosis"
         },
         "type": "log"
        },
        "xaxis2": {
         "anchor": "y2",
         "domain": [
          0.20400000000000001,
          0.388
         ],
         "matches": "x",
         "title": {
          "text": "Tuberculosis"
         },
         "type": "log"
        },
        "xaxis3": {
         "anchor": "y3",
         "domain": [
          0.40800000000000003,
          0.5920000000000001
         ],
         "matches": "x",
         "title": {
          "text": "Tuberculosis"
         },
         "type": "log"
        },
        "xaxis4": {
         "anchor": "y4",
         "domain": [
          0.6120000000000001,
          0.7960000000000002
         ],
         "matches": "x",
         "title": {
          "text": "Tuberculosis"
         },
         "type": "log"
        },
        "xaxis5": {
         "anchor": "y5",
         "domain": [
          0.8160000000000001,
          1
         ],
         "matches": "x",
         "title": {
          "text": "Tuberculosis"
         },
         "type": "log"
        },
        "yaxis": {
         "anchor": "x",
         "domain": [
          0,
          1
         ],
         "title": {
          "text": "Expected_Value_Water"
         }
        },
        "yaxis2": {
         "anchor": "x2",
         "domain": [
          0,
          1
         ],
         "matches": "y",
         "showticklabels": false
        },
        "yaxis3": {
         "anchor": "x3",
         "domain": [
          0,
          1
         ],
         "matches": "y",
         "showticklabels": false
        },
        "yaxis4": {
         "anchor": "x4",
         "domain": [
          0,
          1
         ],
         "matches": "y",
         "showticklabels": false
        },
        "yaxis5": {
         "anchor": "x5",
         "domain": [
          0,
          1
         ],
         "matches": "y",
         "showticklabels": false
        }
       }
      },
      "text/html": [
       "<div>\n",
       "        \n",
       "        \n",
       "            <div id=\"70369b47-1dc1-4050-91f7-fa0244df51a4\" class=\"plotly-graph-div\" style=\"height:525px; width:100%;\"></div>\n",
       "            <script type=\"text/javascript\">\n",
       "                require([\"plotly\"], function(Plotly) {\n",
       "                    window.PLOTLYENV=window.PLOTLYENV || {};\n",
       "                    \n",
       "                if (document.getElementById(\"70369b47-1dc1-4050-91f7-fa0244df51a4\")) {\n",
       "                    Plotly.newPlot(\n",
       "                        '70369b47-1dc1-4050-91f7-fa0244df51a4',\n",
       "                        [{\"hoverlabel\": {\"namelength\": 0}, \"hovertemplate\": \"<b>%{hovertext}</b><br><br>Country=Cambodia<br>Year=2017<br>Tuberculosis=%{x}<br>Expected_Value_Water=%{y}<br>population=%{marker.size}\", \"hovertext\": [\"Cambodia\"], \"legendgroup\": \"Cambodia\", \"marker\": {\"color\": \"#636efa\", \"size\": [90.0], \"sizemode\": \"area\", \"sizeref\": 0.17382716049382715, \"symbol\": \"circle\"}, \"mode\": \"markers\", \"name\": \"Cambodia\", \"showlegend\": true, \"type\": \"scatter\", \"x\": [326.0], \"xaxis\": \"x\", \"y\": [2.4659253000000003], \"yaxis\": \"y\"}, {\"hoverlabel\": {\"namelength\": 0}, \"hovertemplate\": \"<b>%{hovertext}</b><br><br>Country=Indonesia<br>Year=2017<br>Tuberculosis=%{x}<br>Expected_Value_Water=%{y}<br>population=%{marker.size}\", \"hovertext\": [\"Indonesia\"], \"legendgroup\": \"Indonesia\", \"marker\": {\"color\": \"#EF553B\", \"size\": [146.0], \"sizemode\": \"area\", \"sizeref\": 0.17382716049382715, \"symbol\": \"circle\"}, \"mode\": \"markers\", \"name\": \"Indonesia\", \"showlegend\": true, \"type\": \"scatter\", \"x\": [319.0], \"xaxis\": \"x2\", \"y\": [2.7860067], \"yaxis\": \"y2\"}, {\"hoverlabel\": {\"namelength\": 0}, \"hovertemplate\": \"<b>%{hovertext}</b><br><br>Country=Myanmar<br>Year=2017<br>Tuberculosis=%{x}<br>Expected_Value_Water=%{y}<br>population=%{marker.size}\", \"hovertext\": [\"Myanmar\"], \"legendgroup\": \"Myanmar\", \"marker\": {\"color\": \"#00cc96\", \"size\": [81.0], \"sizemode\": \"area\", \"sizeref\": 0.17382716049382715, \"symbol\": \"circle\"}, \"mode\": \"markers\", \"name\": \"Myanmar\", \"showlegend\": true, \"type\": \"scatter\", \"x\": [355.0], \"xaxis\": \"x3\", \"y\": [2.5471306], \"yaxis\": \"y3\"}, {\"hoverlabel\": {\"namelength\": 0}, \"hovertemplate\": \"<b>%{hovertext}</b><br><br>Country=Philippines<br>Year=2017<br>Tuberculosis=%{x}<br>Expected_Value_Water=%{y}<br>population=%{marker.size}\", \"hovertext\": [\"Philippines\"], \"legendgroup\": \"Philippines\", \"marker\": {\"color\": \"#ab63fa\", \"size\": [352.0], \"sizemode\": \"area\", \"sizeref\": 0.17382716049382715, \"symbol\": \"circle\"}, \"mode\": \"markers\", \"name\": \"Philippines\", \"showlegend\": true, \"type\": \"scatter\", \"x\": [554.0], \"xaxis\": \"x4\", \"y\": [2.8899471], \"yaxis\": \"y4\"}, {\"hoverlabel\": {\"namelength\": 0}, \"hovertemplate\": \"<b>%{hovertext}</b><br><br>Country=Thailand<br>Year=2017<br>Tuberculosis=%{x}<br>Expected_Value_Water=%{y}<br>population=%{marker.size}\", \"hovertext\": [\"Thailand\"], \"legendgroup\": \"Thailand\", \"marker\": {\"color\": \"#FFA15A\", \"size\": [135.0], \"sizemode\": \"area\", \"sizeref\": 0.17382716049382715, \"symbol\": \"circle\"}, \"mode\": \"markers\", \"name\": \"Thailand\", \"showlegend\": true, \"type\": \"scatter\", \"x\": [156.0], \"xaxis\": \"x5\", \"y\": [2.9993071], \"yaxis\": \"y5\"}],\n",
       "                        {\"annotations\": [{\"font\": {}, \"showarrow\": false, \"text\": \"Country=Cambodia\", \"x\": 0.09200000000000001, \"xanchor\": \"center\", \"xref\": \"paper\", \"y\": 1.0, \"yanchor\": \"bottom\", \"yref\": \"paper\"}, {\"font\": {}, \"showarrow\": false, \"text\": \"Country=Indonesia\", \"x\": 0.29600000000000004, \"xanchor\": \"center\", \"xref\": \"paper\", \"y\": 1.0, \"yanchor\": \"bottom\", \"yref\": \"paper\"}, {\"font\": {}, \"showarrow\": false, \"text\": \"Country=Myanmar\", \"x\": 0.5, \"xanchor\": \"center\", \"xref\": \"paper\", \"y\": 1.0, \"yanchor\": \"bottom\", \"yref\": \"paper\"}, {\"font\": {}, \"showarrow\": false, \"text\": \"Country=Philippines\", \"x\": 0.7040000000000002, \"xanchor\": \"center\", \"xref\": \"paper\", \"y\": 1.0, \"yanchor\": \"bottom\", \"yref\": \"paper\"}, {\"font\": {}, \"showarrow\": false, \"text\": \"Country=Thailand\", \"x\": 0.908, \"xanchor\": \"center\", \"xref\": \"paper\", \"y\": 1.0, \"yanchor\": \"bottom\", \"yref\": \"paper\"}], \"legend\": {\"itemsizing\": \"constant\", \"title\": {\"text\": \"Country\"}, \"tracegroupgap\": 0}, \"margin\": {\"t\": 60}, \"sliders\": [{\"active\": 0, \"currentvalue\": {\"prefix\": \"Year=\"}, \"len\": 0.9, \"pad\": {\"b\": 10, \"t\": 60}, \"steps\": [{\"args\": [[\"2017\"], {\"frame\": {\"duration\": 0, \"redraw\": false}, \"fromcurrent\": true, \"mode\": \"immediate\", \"transition\": {\"duration\": 0, \"easing\": \"linear\"}}], \"label\": \"2017\", \"method\": \"animate\"}, {\"args\": [[\"2016\"], {\"frame\": {\"duration\": 0, \"redraw\": false}, \"fromcurrent\": true, \"mode\": \"immediate\", \"transition\": {\"duration\": 0, \"easing\": \"linear\"}}], \"label\": \"2016\", \"method\": \"animate\"}, {\"args\": [[\"2014\"], {\"frame\": {\"duration\": 0, \"redraw\": false}, \"fromcurrent\": true, \"mode\": \"immediate\", \"transition\": {\"duration\": 0, \"easing\": \"linear\"}}], \"label\": \"2014\", \"method\": \"animate\"}, {\"args\": [[\"2013\"], {\"frame\": {\"duration\": 0, \"redraw\": false}, \"fromcurrent\": true, \"mode\": \"immediate\", \"transition\": {\"duration\": 0, \"easing\": \"linear\"}}], \"label\": \"2013\", \"method\": \"animate\"}, {\"args\": [[\"2012\"], {\"frame\": {\"duration\": 0, \"redraw\": false}, \"fromcurrent\": true, \"mode\": \"immediate\", \"transition\": {\"duration\": 0, \"easing\": \"linear\"}}], \"label\": \"2012\", \"method\": \"animate\"}, {\"args\": [[\"2011\"], {\"frame\": {\"duration\": 0, \"redraw\": false}, \"fromcurrent\": true, \"mode\": \"immediate\", \"transition\": {\"duration\": 0, \"easing\": \"linear\"}}], \"label\": \"2011\", \"method\": \"animate\"}, {\"args\": [[\"2010\"], {\"frame\": {\"duration\": 0, \"redraw\": false}, \"fromcurrent\": true, \"mode\": \"immediate\", \"transition\": {\"duration\": 0, \"easing\": \"linear\"}}], \"label\": \"2010\", \"method\": \"animate\"}], \"x\": 0.1, \"xanchor\": \"left\", \"y\": 0, \"yanchor\": \"top\"}], \"template\": {\"data\": {\"bar\": [{\"error_x\": {\"color\": \"#2a3f5f\"}, \"error_y\": {\"color\": \"#2a3f5f\"}, \"marker\": {\"line\": {\"color\": \"#E5ECF6\", \"width\": 0.5}}, \"type\": \"bar\"}], \"barpolar\": [{\"marker\": {\"line\": {\"color\": \"#E5ECF6\", \"width\": 0.5}}, \"type\": \"barpolar\"}], \"carpet\": [{\"aaxis\": {\"endlinecolor\": \"#2a3f5f\", \"gridcolor\": \"white\", \"linecolor\": \"white\", \"minorgridcolor\": \"white\", \"startlinecolor\": \"#2a3f5f\"}, \"baxis\": {\"endlinecolor\": \"#2a3f5f\", \"gridcolor\": \"white\", \"linecolor\": \"white\", \"minorgridcolor\": \"white\", \"startlinecolor\": \"#2a3f5f\"}, \"type\": \"carpet\"}], \"choropleth\": [{\"colorbar\": {\"outlinewidth\": 0, \"ticks\": \"\"}, \"type\": \"choropleth\"}], \"contour\": [{\"colorbar\": {\"outlinewidth\": 0, \"ticks\": \"\"}, \"colorscale\": [[0.0, \"#0d0887\"], [0.1111111111111111, \"#46039f\"], [0.2222222222222222, \"#7201a8\"], [0.3333333333333333, \"#9c179e\"], [0.4444444444444444, \"#bd3786\"], [0.5555555555555556, \"#d8576b\"], [0.6666666666666666, \"#ed7953\"], [0.7777777777777778, \"#fb9f3a\"], [0.8888888888888888, \"#fdca26\"], [1.0, \"#f0f921\"]], \"type\": \"contour\"}], \"contourcarpet\": [{\"colorbar\": {\"outlinewidth\": 0, \"ticks\": \"\"}, \"type\": \"contourcarpet\"}], \"heatmap\": [{\"colorbar\": {\"outlinewidth\": 0, \"ticks\": \"\"}, \"colorscale\": [[0.0, \"#0d0887\"], [0.1111111111111111, \"#46039f\"], [0.2222222222222222, \"#7201a8\"], [0.3333333333333333, \"#9c179e\"], [0.4444444444444444, \"#bd3786\"], [0.5555555555555556, \"#d8576b\"], [0.6666666666666666, \"#ed7953\"], [0.7777777777777778, \"#fb9f3a\"], [0.8888888888888888, \"#fdca26\"], [1.0, \"#f0f921\"]], \"type\": \"heatmap\"}], \"heatmapgl\": [{\"colorbar\": {\"outlinewidth\": 0, \"ticks\": \"\"}, \"colorscale\": [[0.0, \"#0d0887\"], [0.1111111111111111, \"#46039f\"], [0.2222222222222222, \"#7201a8\"], [0.3333333333333333, \"#9c179e\"], [0.4444444444444444, \"#bd3786\"], [0.5555555555555556, \"#d8576b\"], [0.6666666666666666, \"#ed7953\"], [0.7777777777777778, \"#fb9f3a\"], [0.8888888888888888, \"#fdca26\"], [1.0, \"#f0f921\"]], \"type\": \"heatmapgl\"}], \"histogram\": [{\"marker\": {\"colorbar\": {\"outlinewidth\": 0, \"ticks\": \"\"}}, \"type\": \"histogram\"}], \"histogram2d\": [{\"colorbar\": {\"outlinewidth\": 0, \"ticks\": \"\"}, \"colorscale\": [[0.0, \"#0d0887\"], [0.1111111111111111, \"#46039f\"], [0.2222222222222222, \"#7201a8\"], [0.3333333333333333, \"#9c179e\"], [0.4444444444444444, \"#bd3786\"], [0.5555555555555556, \"#d8576b\"], [0.6666666666666666, \"#ed7953\"], [0.7777777777777778, \"#fb9f3a\"], [0.8888888888888888, \"#fdca26\"], [1.0, \"#f0f921\"]], \"type\": \"histogram2d\"}], \"histogram2dcontour\": [{\"colorbar\": {\"outlinewidth\": 0, \"ticks\": \"\"}, \"colorscale\": [[0.0, \"#0d0887\"], [0.1111111111111111, \"#46039f\"], [0.2222222222222222, \"#7201a8\"], [0.3333333333333333, \"#9c179e\"], [0.4444444444444444, \"#bd3786\"], [0.5555555555555556, \"#d8576b\"], [0.6666666666666666, \"#ed7953\"], [0.7777777777777778, \"#fb9f3a\"], [0.8888888888888888, \"#fdca26\"], [1.0, \"#f0f921\"]], \"type\": \"histogram2dcontour\"}], \"mesh3d\": [{\"colorbar\": {\"outlinewidth\": 0, \"ticks\": \"\"}, \"type\": \"mesh3d\"}], \"parcoords\": [{\"line\": {\"colorbar\": {\"outlinewidth\": 0, \"ticks\": \"\"}}, \"type\": \"parcoords\"}], \"pie\": [{\"automargin\": true, \"type\": \"pie\"}], \"scatter\": [{\"marker\": {\"colorbar\": {\"outlinewidth\": 0, \"ticks\": \"\"}}, \"type\": \"scatter\"}], \"scatter3d\": [{\"line\": {\"colorbar\": {\"outlinewidth\": 0, \"ticks\": \"\"}}, \"marker\": {\"colorbar\": {\"outlinewidth\": 0, \"ticks\": \"\"}}, \"type\": \"scatter3d\"}], \"scattercarpet\": [{\"marker\": {\"colorbar\": {\"outlinewidth\": 0, \"ticks\": \"\"}}, \"type\": \"scattercarpet\"}], \"scattergeo\": [{\"marker\": {\"colorbar\": {\"outlinewidth\": 0, \"ticks\": \"\"}}, \"type\": \"scattergeo\"}], \"scattergl\": [{\"marker\": {\"colorbar\": {\"outlinewidth\": 0, \"ticks\": \"\"}}, \"type\": \"scattergl\"}], \"scattermapbox\": [{\"marker\": {\"colorbar\": {\"outlinewidth\": 0, \"ticks\": \"\"}}, \"type\": \"scattermapbox\"}], \"scatterpolar\": [{\"marker\": {\"colorbar\": {\"outlinewidth\": 0, \"ticks\": \"\"}}, \"type\": \"scatterpolar\"}], \"scatterpolargl\": [{\"marker\": {\"colorbar\": {\"outlinewidth\": 0, \"ticks\": \"\"}}, \"type\": \"scatterpolargl\"}], \"scatterternary\": [{\"marker\": {\"colorbar\": {\"outlinewidth\": 0, \"ticks\": \"\"}}, \"type\": \"scatterternary\"}], \"surface\": [{\"colorbar\": {\"outlinewidth\": 0, \"ticks\": \"\"}, \"colorscale\": [[0.0, \"#0d0887\"], [0.1111111111111111, \"#46039f\"], [0.2222222222222222, \"#7201a8\"], [0.3333333333333333, \"#9c179e\"], [0.4444444444444444, \"#bd3786\"], [0.5555555555555556, \"#d8576b\"], [0.6666666666666666, \"#ed7953\"], [0.7777777777777778, \"#fb9f3a\"], [0.8888888888888888, \"#fdca26\"], [1.0, \"#f0f921\"]], \"type\": \"surface\"}], \"table\": [{\"cells\": {\"fill\": {\"color\": \"#EBF0F8\"}, \"line\": {\"color\": \"white\"}}, \"header\": {\"fill\": {\"color\": \"#C8D4E3\"}, \"line\": {\"color\": \"white\"}}, \"type\": \"table\"}]}, \"layout\": {\"annotationdefaults\": {\"arrowcolor\": \"#2a3f5f\", \"arrowhead\": 0, \"arrowwidth\": 1}, \"coloraxis\": {\"colorbar\": {\"outlinewidth\": 0, \"ticks\": \"\"}}, \"colorscale\": {\"diverging\": [[0, \"#8e0152\"], [0.1, \"#c51b7d\"], [0.2, \"#de77ae\"], [0.3, \"#f1b6da\"], [0.4, \"#fde0ef\"], [0.5, \"#f7f7f7\"], [0.6, \"#e6f5d0\"], [0.7, \"#b8e186\"], [0.8, \"#7fbc41\"], [0.9, \"#4d9221\"], [1, \"#276419\"]], \"sequential\": [[0.0, \"#0d0887\"], [0.1111111111111111, \"#46039f\"], [0.2222222222222222, \"#7201a8\"], [0.3333333333333333, \"#9c179e\"], [0.4444444444444444, \"#bd3786\"], [0.5555555555555556, \"#d8576b\"], [0.6666666666666666, \"#ed7953\"], [0.7777777777777778, \"#fb9f3a\"], [0.8888888888888888, \"#fdca26\"], [1.0, \"#f0f921\"]], \"sequentialminus\": [[0.0, \"#0d0887\"], [0.1111111111111111, \"#46039f\"], [0.2222222222222222, \"#7201a8\"], [0.3333333333333333, \"#9c179e\"], [0.4444444444444444, \"#bd3786\"], [0.5555555555555556, \"#d8576b\"], [0.6666666666666666, \"#ed7953\"], [0.7777777777777778, \"#fb9f3a\"], [0.8888888888888888, \"#fdca26\"], [1.0, \"#f0f921\"]]}, \"colorway\": [\"#636efa\", \"#EF553B\", \"#00cc96\", \"#ab63fa\", \"#FFA15A\", \"#19d3f3\", \"#FF6692\", \"#B6E880\", \"#FF97FF\", \"#FECB52\"], \"font\": {\"color\": \"#2a3f5f\"}, \"geo\": {\"bgcolor\": \"white\", \"lakecolor\": \"white\", \"landcolor\": \"#E5ECF6\", \"showlakes\": true, \"showland\": true, \"subunitcolor\": \"white\"}, \"hoverlabel\": {\"align\": \"left\"}, \"hovermode\": \"closest\", \"mapbox\": {\"style\": \"light\"}, \"paper_bgcolor\": \"white\", \"plot_bgcolor\": \"#E5ECF6\", \"polar\": {\"angularaxis\": {\"gridcolor\": \"white\", \"linecolor\": \"white\", \"ticks\": \"\"}, \"bgcolor\": \"#E5ECF6\", \"radialaxis\": {\"gridcolor\": \"white\", \"linecolor\": \"white\", \"ticks\": \"\"}}, \"scene\": {\"xaxis\": {\"backgroundcolor\": \"#E5ECF6\", \"gridcolor\": \"white\", \"gridwidth\": 2, \"linecolor\": \"white\", \"showbackground\": true, \"ticks\": \"\", \"zerolinecolor\": \"white\"}, \"yaxis\": {\"backgroundcolor\": \"#E5ECF6\", \"gridcolor\": \"white\", \"gridwidth\": 2, \"linecolor\": \"white\", \"showbackground\": true, \"ticks\": \"\", \"zerolinecolor\": \"white\"}, \"zaxis\": {\"backgroundcolor\": \"#E5ECF6\", \"gridcolor\": \"white\", \"gridwidth\": 2, \"linecolor\": \"white\", \"showbackground\": true, \"ticks\": \"\", \"zerolinecolor\": \"white\"}}, \"shapedefaults\": {\"line\": {\"color\": \"#2a3f5f\"}}, \"ternary\": {\"aaxis\": {\"gridcolor\": \"white\", \"linecolor\": \"white\", \"ticks\": \"\"}, \"baxis\": {\"gridcolor\": \"white\", \"linecolor\": \"white\", \"ticks\": \"\"}, \"bgcolor\": \"#E5ECF6\", \"caxis\": {\"gridcolor\": \"white\", \"linecolor\": \"white\", \"ticks\": \"\"}}, \"title\": {\"x\": 0.05}, \"xaxis\": {\"automargin\": true, \"gridcolor\": \"white\", \"linecolor\": \"white\", \"ticks\": \"\", \"title\": {\"standoff\": 15}, \"zerolinecolor\": \"white\", \"zerolinewidth\": 2}, \"yaxis\": {\"automargin\": true, \"gridcolor\": \"white\", \"linecolor\": \"white\", \"ticks\": \"\", \"title\": {\"standoff\": 15}, \"zerolinecolor\": \"white\", \"zerolinewidth\": 2}}}, \"updatemenus\": [{\"buttons\": [{\"args\": [null, {\"frame\": {\"duration\": 500, \"redraw\": false}, \"fromcurrent\": true, \"mode\": \"immediate\", \"transition\": {\"duration\": 500, \"easing\": \"linear\"}}], \"label\": \"&#9654;\", \"method\": \"animate\"}, {\"args\": [[null], {\"frame\": {\"duration\": 0, \"redraw\": false}, \"fromcurrent\": true, \"mode\": \"immediate\", \"transition\": {\"duration\": 0, \"easing\": \"linear\"}}], \"label\": \"&#9724;\", \"method\": \"animate\"}], \"direction\": \"left\", \"pad\": {\"r\": 10, \"t\": 70}, \"showactive\": false, \"type\": \"buttons\", \"x\": 0.1, \"xanchor\": \"right\", \"y\": 0, \"yanchor\": \"top\"}], \"xaxis\": {\"anchor\": \"y\", \"domain\": [0.0, 0.18400000000000002], \"title\": {\"text\": \"Tuberculosis\"}, \"type\": \"log\"}, \"xaxis2\": {\"anchor\": \"y2\", \"domain\": [0.20400000000000001, 0.388], \"matches\": \"x\", \"title\": {\"text\": \"Tuberculosis\"}, \"type\": \"log\"}, \"xaxis3\": {\"anchor\": \"y3\", \"domain\": [0.40800000000000003, 0.5920000000000001], \"matches\": \"x\", \"title\": {\"text\": \"Tuberculosis\"}, \"type\": \"log\"}, \"xaxis4\": {\"anchor\": \"y4\", \"domain\": [0.6120000000000001, 0.7960000000000002], \"matches\": \"x\", \"title\": {\"text\": \"Tuberculosis\"}, \"type\": \"log\"}, \"xaxis5\": {\"anchor\": \"y5\", \"domain\": [0.8160000000000001, 1.0], \"matches\": \"x\", \"title\": {\"text\": \"Tuberculosis\"}, \"type\": \"log\"}, \"yaxis\": {\"anchor\": \"x\", \"domain\": [0.0, 1.0], \"title\": {\"text\": \"Expected_Value_Water\"}}, \"yaxis2\": {\"anchor\": \"x2\", \"domain\": [0.0, 1.0], \"matches\": \"y\", \"showticklabels\": false}, \"yaxis3\": {\"anchor\": \"x3\", \"domain\": [0.0, 1.0], \"matches\": \"y\", \"showticklabels\": false}, \"yaxis4\": {\"anchor\": \"x4\", \"domain\": [0.0, 1.0], \"matches\": \"y\", \"showticklabels\": false}, \"yaxis5\": {\"anchor\": \"x5\", \"domain\": [0.0, 1.0], \"matches\": \"y\", \"showticklabels\": false}},\n",
       "                        {\"responsive\": true}\n",
       "                    ).then(function(){\n",
       "                            Plotly.addFrames('70369b47-1dc1-4050-91f7-fa0244df51a4', [{\"data\": [{\"hoverlabel\": {\"namelength\": 0}, \"hovertemplate\": \"<b>%{hovertext}</b><br><br>Country=Cambodia<br>Year=2017<br>Tuberculosis=%{x}<br>Expected_Value_Water=%{y}<br>population=%{marker.size}\", \"hovertext\": [\"Cambodia\"], \"legendgroup\": \"Cambodia\", \"marker\": {\"color\": \"#636efa\", \"size\": [90.0], \"sizemode\": \"area\", \"sizeref\": 0.17382716049382715, \"symbol\": \"circle\"}, \"mode\": \"markers\", \"name\": \"Cambodia\", \"showlegend\": true, \"x\": [326.0], \"xaxis\": \"x\", \"y\": [2.4659253000000003], \"yaxis\": \"y\", \"type\": \"scatter\"}, {\"hoverlabel\": {\"namelength\": 0}, \"hovertemplate\": \"<b>%{hovertext}</b><br><br>Country=Indonesia<br>Year=2017<br>Tuberculosis=%{x}<br>Expected_Value_Water=%{y}<br>population=%{marker.size}\", \"hovertext\": [\"Indonesia\"], \"legendgroup\": \"Indonesia\", \"marker\": {\"color\": \"#EF553B\", \"size\": [146.0], \"sizemode\": \"area\", \"sizeref\": 0.17382716049382715, \"symbol\": \"circle\"}, \"mode\": \"markers\", \"name\": \"Indonesia\", \"showlegend\": true, \"x\": [319.0], \"xaxis\": \"x2\", \"y\": [2.7860067], \"yaxis\": \"y2\", \"type\": \"scatter\"}, {\"hoverlabel\": {\"namelength\": 0}, \"hovertemplate\": \"<b>%{hovertext}</b><br><br>Country=Myanmar<br>Year=2017<br>Tuberculosis=%{x}<br>Expected_Value_Water=%{y}<br>population=%{marker.size}\", \"hovertext\": [\"Myanmar\"], \"legendgroup\": \"Myanmar\", \"marker\": {\"color\": \"#00cc96\", \"size\": [81.0], \"sizemode\": \"area\", \"sizeref\": 0.17382716049382715, \"symbol\": \"circle\"}, \"mode\": \"markers\", \"name\": \"Myanmar\", \"showlegend\": true, \"x\": [355.0], \"xaxis\": \"x3\", \"y\": [2.5471306], \"yaxis\": \"y3\", \"type\": \"scatter\"}, {\"hoverlabel\": {\"namelength\": 0}, \"hovertemplate\": \"<b>%{hovertext}</b><br><br>Country=Philippines<br>Year=2017<br>Tuberculosis=%{x}<br>Expected_Value_Water=%{y}<br>population=%{marker.size}\", \"hovertext\": [\"Philippines\"], \"legendgroup\": \"Philippines\", \"marker\": {\"color\": \"#ab63fa\", \"size\": [352.0], \"sizemode\": \"area\", \"sizeref\": 0.17382716049382715, \"symbol\": \"circle\"}, \"mode\": \"markers\", \"name\": \"Philippines\", \"showlegend\": true, \"x\": [554.0], \"xaxis\": \"x4\", \"y\": [2.8899471], \"yaxis\": \"y4\", \"type\": \"scatter\"}, {\"hoverlabel\": {\"namelength\": 0}, \"hovertemplate\": \"<b>%{hovertext}</b><br><br>Country=Thailand<br>Year=2017<br>Tuberculosis=%{x}<br>Expected_Value_Water=%{y}<br>population=%{marker.size}\", \"hovertext\": [\"Thailand\"], \"legendgroup\": \"Thailand\", \"marker\": {\"color\": \"#FFA15A\", \"size\": [135.0], \"sizemode\": \"area\", \"sizeref\": 0.17382716049382715, \"symbol\": \"circle\"}, \"mode\": \"markers\", \"name\": \"Thailand\", \"showlegend\": true, \"x\": [156.0], \"xaxis\": \"x5\", \"y\": [2.9993071], \"yaxis\": \"y5\", \"type\": \"scatter\"}], \"name\": \"2017\"}, {\"data\": [{\"hoverlabel\": {\"namelength\": 0}, \"hovertemplate\": \"<b>%{hovertext}</b><br><br>Country=Cambodia<br>Year=2016<br>Tuberculosis=%{x}<br>Expected_Value_Water=%{y}<br>population=%{marker.size}\", \"hovertext\": [\"Cambodia\"], \"legendgroup\": \"Cambodia\", \"marker\": {\"color\": \"#636efa\", \"size\": [89.0], \"sizemode\": \"area\", \"sizeref\": 0.17382716049382715, \"symbol\": \"circle\"}, \"mode\": \"markers\", \"name\": \"Cambodia\", \"showlegend\": true, \"x\": [347.0], \"xaxis\": \"x\", \"y\": [2.4254701], \"yaxis\": \"y\", \"type\": \"scatter\"}, {\"hoverlabel\": {\"namelength\": 0}, \"hovertemplate\": \"<b>%{hovertext}</b><br><br>Country=Indonesia<br>Year=2016<br>Tuberculosis=%{x}<br>Expected_Value_Water=%{y}<br>population=%{marker.size}\", \"hovertext\": [\"Indonesia\"], \"legendgroup\": \"Indonesia\", \"marker\": {\"color\": \"#EF553B\", \"size\": [144.0], \"sizemode\": \"area\", \"sizeref\": 0.17382716049382715, \"symbol\": \"circle\"}, \"mode\": \"markers\", \"name\": \"Indonesia\", \"showlegend\": true, \"x\": [322.0], \"xaxis\": \"x2\", \"y\": [2.7701849999999997], \"yaxis\": \"y2\", \"type\": \"scatter\"}, {\"hoverlabel\": {\"namelength\": 0}, \"hovertemplate\": \"<b>%{hovertext}</b><br><br>Country=Myanmar<br>Year=2016<br>Tuberculosis=%{x}<br>Expected_Value_Water=%{y}<br>population=%{marker.size}\", \"hovertext\": [\"Myanmar\"], \"legendgroup\": \"Myanmar\", \"marker\": {\"color\": \"#00cc96\", \"size\": [81.0], \"sizemode\": \"area\", \"sizeref\": 0.17382716049382715, \"symbol\": \"circle\"}, \"mode\": \"markers\", \"name\": \"Myanmar\", \"showlegend\": true, \"x\": [372.0], \"xaxis\": \"x3\", \"y\": [2.5235738], \"yaxis\": \"y3\", \"type\": \"scatter\"}, {\"hoverlabel\": {\"namelength\": 0}, \"hovertemplate\": \"<b>%{hovertext}</b><br><br>Country=Philippines<br>Year=2016<br>Tuberculosis=%{x}<br>Expected_Value_Water=%{y}<br>population=%{marker.size}\", \"hovertext\": [\"Philippines\"], \"legendgroup\": \"Philippines\", \"marker\": {\"color\": \"#ab63fa\", \"size\": [347.0], \"sizemode\": \"area\", \"sizeref\": 0.17382716049382715, \"symbol\": \"circle\"}, \"mode\": \"markers\", \"name\": \"Philippines\", \"showlegend\": true, \"x\": [554.0], \"xaxis\": \"x4\", \"y\": [2.8802756], \"yaxis\": \"y4\", \"type\": \"scatter\"}, {\"hoverlabel\": {\"namelength\": 0}, \"hovertemplate\": \"<b>%{hovertext}</b><br><br>Country=Thailand<br>Year=2016<br>Tuberculosis=%{x}<br>Expected_Value_Water=%{y}<br>population=%{marker.size}\", \"hovertext\": [\"Thailand\"], \"legendgroup\": \"Thailand\", \"marker\": {\"color\": \"#FFA15A\", \"size\": [135.0], \"sizemode\": \"area\", \"sizeref\": 0.17382716049382715, \"symbol\": \"circle\"}, \"mode\": \"markers\", \"name\": \"Thailand\", \"showlegend\": true, \"x\": [160.0], \"xaxis\": \"x5\", \"y\": [2.9855317], \"yaxis\": \"y5\", \"type\": \"scatter\"}], \"name\": \"2016\"}, {\"data\": [{\"hoverlabel\": {\"namelength\": 0}, \"hovertemplate\": \"<b>%{hovertext}</b><br><br>Country=Cambodia<br>Year=2014<br>Tuberculosis=%{x}<br>Expected_Value_Water=%{y}<br>population=%{marker.size}\", \"hovertext\": [\"Cambodia\"], \"legendgroup\": \"Cambodia\", \"marker\": {\"color\": \"#636efa\", \"size\": [86.0], \"sizemode\": \"area\", \"sizeref\": 0.17382716049382715, \"symbol\": \"circle\"}, \"mode\": \"markers\", \"name\": \"Cambodia\", \"showlegend\": true, \"x\": [384.0], \"xaxis\": \"x\", \"y\": [2.3445594], \"yaxis\": \"y\", \"type\": \"scatter\"}, {\"hoverlabel\": {\"namelength\": 0}, \"hovertemplate\": \"<b>%{hovertext}</b><br><br>Country=Indonesia<br>Year=2014<br>Tuberculosis=%{x}<br>Expected_Value_Water=%{y}<br>population=%{marker.size}\", \"hovertext\": [\"Indonesia\"], \"legendgroup\": \"Indonesia\", \"marker\": {\"color\": \"#EF553B\", \"size\": [140.0], \"sizemode\": \"area\", \"sizeref\": 0.17382716049382715, \"symbol\": \"circle\"}, \"mode\": \"markers\", \"name\": \"Indonesia\", \"showlegend\": true, \"x\": [329.0], \"xaxis\": \"x2\", \"y\": [2.7378854], \"yaxis\": \"y2\", \"type\": \"scatter\"}, {\"hoverlabel\": {\"namelength\": 0}, \"hovertemplate\": \"<b>%{hovertext}</b><br><br>Country=Myanmar<br>Year=2014<br>Tuberculosis=%{x}<br>Expected_Value_Water=%{y}<br>population=%{marker.size}\", \"hovertext\": [\"Myanmar\"], \"legendgroup\": \"Myanmar\", \"marker\": {\"color\": \"#00cc96\", \"size\": [80.0], \"sizemode\": \"area\", \"sizeref\": 0.17382716049382715, \"symbol\": \"circle\"}, \"mode\": \"markers\", \"name\": \"Myanmar\", \"showlegend\": true, \"x\": [411.0], \"xaxis\": \"x3\", \"y\": [2.4694287999999998], \"yaxis\": \"y3\", \"type\": \"scatter\"}, {\"hoverlabel\": {\"namelength\": 0}, \"hovertemplate\": \"<b>%{hovertext}</b><br><br>Country=Philippines<br>Year=2014<br>Tuberculosis=%{x}<br>Expected_Value_Water=%{y}<br>population=%{marker.size}\", \"hovertext\": [\"Philippines\"], \"legendgroup\": \"Philippines\", \"marker\": {\"color\": \"#ab63fa\", \"size\": [337.0], \"sizemode\": \"area\", \"sizeref\": 0.17382716049382715, \"symbol\": \"circle\"}, \"mode\": \"markers\", \"name\": \"Philippines\", \"showlegend\": true, \"x\": [546.0], \"xaxis\": \"x4\", \"y\": [2.8588037999999996], \"yaxis\": \"y4\", \"type\": \"scatter\"}, {\"hoverlabel\": {\"namelength\": 0}, \"hovertemplate\": \"<b>%{hovertext}</b><br><br>Country=Thailand<br>Year=2014<br>Tuberculosis=%{x}<br>Expected_Value_Water=%{y}<br>population=%{marker.size}\", \"hovertext\": [\"Thailand\"], \"legendgroup\": \"Thailand\", \"marker\": {\"color\": \"#FFA15A\", \"size\": [133.0], \"sizemode\": \"area\", \"sizeref\": 0.17382716049382715, \"symbol\": \"circle\"}, \"mode\": \"markers\", \"name\": \"Thailand\", \"showlegend\": true, \"x\": [167.0], \"xaxis\": \"x5\", \"y\": [2.9800976], \"yaxis\": \"y5\", \"type\": \"scatter\"}], \"name\": \"2014\"}, {\"data\": [{\"hoverlabel\": {\"namelength\": 0}, \"hovertemplate\": \"<b>%{hovertext}</b><br><br>Country=Cambodia<br>Year=2013<br>Tuberculosis=%{x}<br>Expected_Value_Water=%{y}<br>population=%{marker.size}\", \"hovertext\": [\"Cambodia\"], \"legendgroup\": \"Cambodia\", \"marker\": {\"color\": \"#636efa\", \"size\": [85.0], \"sizemode\": \"area\", \"sizeref\": 0.17382716049382715, \"symbol\": \"circle\"}, \"mode\": \"markers\", \"name\": \"Cambodia\", \"showlegend\": true, \"x\": [399.0], \"xaxis\": \"x\", \"y\": [2.3040924999999994], \"yaxis\": \"y\", \"type\": \"scatter\"}, {\"hoverlabel\": {\"namelength\": 0}, \"hovertemplate\": \"<b>%{hovertext}</b><br><br>Country=Indonesia<br>Year=2013<br>Tuberculosis=%{x}<br>Expected_Value_Water=%{y}<br>population=%{marker.size}\", \"hovertext\": [\"Indonesia\"], \"legendgroup\": \"Indonesia\", \"marker\": {\"color\": \"#EF553B\", \"size\": [138.0], \"sizemode\": \"area\", \"sizeref\": 0.17382716049382715, \"symbol\": \"circle\"}, \"mode\": \"markers\", \"name\": \"Indonesia\", \"showlegend\": true, \"x\": [332.0], \"xaxis\": \"x2\", \"y\": [2.7214165], \"yaxis\": \"y2\", \"type\": \"scatter\"}, {\"hoverlabel\": {\"namelength\": 0}, \"hovertemplate\": \"<b>%{hovertext}</b><br><br>Country=Myanmar<br>Year=2013<br>Tuberculosis=%{x}<br>Expected_Value_Water=%{y}<br>population=%{marker.size}\", \"hovertext\": [\"Myanmar\"], \"legendgroup\": \"Myanmar\", \"marker\": {\"color\": \"#00cc96\", \"size\": [79.0], \"sizemode\": \"area\", \"sizeref\": 0.17382716049382715, \"symbol\": \"circle\"}, \"mode\": \"markers\", \"name\": \"Myanmar\", \"showlegend\": true, \"x\": [431.0], \"xaxis\": \"x3\", \"y\": [2.4298954000000004], \"yaxis\": \"y3\", \"type\": \"scatter\"}, {\"hoverlabel\": {\"namelength\": 0}, \"hovertemplate\": \"<b>%{hovertext}</b><br><br>Country=Philippines<br>Year=2013<br>Tuberculosis=%{x}<br>Expected_Value_Water=%{y}<br>population=%{marker.size}\", \"hovertext\": [\"Philippines\"], \"legendgroup\": \"Philippines\", \"marker\": {\"color\": \"#ab63fa\", \"size\": [331.0], \"sizemode\": \"area\", \"sizeref\": 0.17382716049382715, \"symbol\": \"circle\"}, \"mode\": \"markers\", \"name\": \"Philippines\", \"showlegend\": true, \"x\": [543.0], \"xaxis\": \"x4\", \"y\": [2.8480252999999998], \"yaxis\": \"y4\", \"type\": \"scatter\"}, {\"hoverlabel\": {\"namelength\": 0}, \"hovertemplate\": \"<b>%{hovertext}</b><br><br>Country=Thailand<br>Year=2013<br>Tuberculosis=%{x}<br>Expected_Value_Water=%{y}<br>population=%{marker.size}\", \"hovertext\": [\"Thailand\"], \"legendgroup\": \"Thailand\", \"marker\": {\"color\": \"#FFA15A\", \"size\": [133.0], \"sizemode\": \"area\", \"sizeref\": 0.17382716049382715, \"symbol\": \"circle\"}, \"mode\": \"markers\", \"name\": \"Thailand\", \"showlegend\": true, \"x\": [170.0], \"xaxis\": \"x5\", \"y\": [2.9734893], \"yaxis\": \"y5\", \"type\": \"scatter\"}], \"name\": \"2013\"}, {\"data\": [{\"hoverlabel\": {\"namelength\": 0}, \"hovertemplate\": \"<b>%{hovertext}</b><br><br>Country=Cambodia<br>Year=2012<br>Tuberculosis=%{x}<br>Expected_Value_Water=%{y}<br>population=%{marker.size}\", \"hovertext\": [\"Cambodia\"], \"legendgroup\": \"Cambodia\", \"marker\": {\"color\": \"#636efa\", \"size\": [83.0], \"sizemode\": \"area\", \"sizeref\": 0.17382716049382715, \"symbol\": \"circle\"}, \"mode\": \"markers\", \"name\": \"Cambodia\", \"showlegend\": true, \"x\": [412.0], \"xaxis\": \"x\", \"y\": [2.2636252], \"yaxis\": \"y\", \"type\": \"scatter\"}, {\"hoverlabel\": {\"namelength\": 0}, \"hovertemplate\": \"<b>%{hovertext}</b><br><br>Country=Indonesia<br>Year=2012<br>Tuberculosis=%{x}<br>Expected_Value_Water=%{y}<br>population=%{marker.size}\", \"hovertext\": [\"Indonesia\"], \"legendgroup\": \"Indonesia\", \"marker\": {\"color\": \"#EF553B\", \"size\": [137.0], \"sizemode\": \"area\", \"sizeref\": 0.17382716049382715, \"symbol\": \"circle\"}, \"mode\": \"markers\", \"name\": \"Indonesia\", \"showlegend\": true, \"x\": [335.0], \"xaxis\": \"x2\", \"y\": [2.7047441], \"yaxis\": \"y2\", \"type\": \"scatter\"}, {\"hoverlabel\": {\"namelength\": 0}, \"hovertemplate\": \"<b>%{hovertext}</b><br><br>Country=Myanmar<br>Year=2012<br>Tuberculosis=%{x}<br>Expected_Value_Water=%{y}<br>population=%{marker.size}\", \"hovertext\": [\"Myanmar\"], \"legendgroup\": \"Myanmar\", \"marker\": {\"color\": \"#00cc96\", \"size\": [78.0], \"sizemode\": \"area\", \"sizeref\": 0.17382716049382715, \"symbol\": \"circle\"}, \"mode\": \"markers\", \"name\": \"Myanmar\", \"showlegend\": true, \"x\": [453.0], \"xaxis\": \"x3\", \"y\": [2.3907001999999995], \"yaxis\": \"y3\", \"type\": \"scatter\"}, {\"hoverlabel\": {\"namelength\": 0}, \"hovertemplate\": \"<b>%{hovertext}</b><br><br>Country=Philippines<br>Year=2012<br>Tuberculosis=%{x}<br>Expected_Value_Water=%{y}<br>population=%{marker.size}\", \"hovertext\": [\"Philippines\"], \"legendgroup\": \"Philippines\", \"marker\": {\"color\": \"#ab63fa\", \"size\": [326.0], \"sizemode\": \"area\", \"sizeref\": 0.17382716049382715, \"symbol\": \"circle\"}, \"mode\": \"markers\", \"name\": \"Philippines\", \"showlegend\": true, \"x\": [539.0], \"xaxis\": \"x4\", \"y\": [2.8372159], \"yaxis\": \"y4\", \"type\": \"scatter\"}, {\"hoverlabel\": {\"namelength\": 0}, \"hovertemplate\": \"<b>%{hovertext}</b><br><br>Country=Thailand<br>Year=2012<br>Tuberculosis=%{x}<br>Expected_Value_Water=%{y}<br>population=%{marker.size}\", \"hovertext\": [\"Thailand\"], \"legendgroup\": \"Thailand\", \"marker\": {\"color\": \"#FFA15A\", \"size\": [132.0], \"sizemode\": \"area\", \"sizeref\": 0.17382716049382715, \"symbol\": \"circle\"}, \"mode\": \"markers\", \"name\": \"Thailand\", \"showlegend\": true, \"x\": [172.0], \"xaxis\": \"x5\", \"y\": [2.9667181], \"yaxis\": \"y5\", \"type\": \"scatter\"}], \"name\": \"2012\"}, {\"data\": [{\"hoverlabel\": {\"namelength\": 0}, \"hovertemplate\": \"<b>%{hovertext}</b><br><br>Country=Cambodia<br>Year=2011<br>Tuberculosis=%{x}<br>Expected_Value_Water=%{y}<br>population=%{marker.size}\", \"hovertext\": [\"Cambodia\"], \"legendgroup\": \"Cambodia\", \"marker\": {\"color\": \"#636efa\", \"size\": [82.0], \"sizemode\": \"area\", \"sizeref\": 0.17382716049382715, \"symbol\": \"circle\"}, \"mode\": \"markers\", \"name\": \"Cambodia\", \"showlegend\": true, \"x\": [425.0], \"xaxis\": \"x\", \"y\": [2.2231467], \"yaxis\": \"y\", \"type\": \"scatter\"}, {\"hoverlabel\": {\"namelength\": 0}, \"hovertemplate\": \"<b>%{hovertext}</b><br><br>Country=Indonesia<br>Year=2011<br>Tuberculosis=%{x}<br>Expected_Value_Water=%{y}<br>population=%{marker.size}\", \"hovertext\": [\"Indonesia\"], \"legendgroup\": \"Indonesia\", \"marker\": {\"color\": \"#EF553B\", \"size\": [135.0], \"sizemode\": \"area\", \"sizeref\": 0.17382716049382715, \"symbol\": \"circle\"}, \"mode\": \"markers\", \"name\": \"Indonesia\", \"showlegend\": true, \"x\": [338.0], \"xaxis\": \"x2\", \"y\": [2.6878567], \"yaxis\": \"y2\", \"type\": \"scatter\"}, {\"hoverlabel\": {\"namelength\": 0}, \"hovertemplate\": \"<b>%{hovertext}</b><br><br>Country=Philippines<br>Year=2011<br>Tuberculosis=%{x}<br>Expected_Value_Water=%{y}<br>population=%{marker.size}\", \"hovertext\": [\"Philippines\"], \"legendgroup\": \"Philippines\", \"marker\": {\"color\": \"#ab63fa\", \"size\": [320.0], \"sizemode\": \"area\", \"sizeref\": 0.17382716049382715, \"symbol\": \"circle\"}, \"mode\": \"markers\", \"name\": \"Philippines\", \"showlegend\": true, \"x\": [535.0], \"xaxis\": \"x4\", \"y\": [2.8263787], \"yaxis\": \"y4\", \"type\": \"scatter\"}], \"name\": \"2011\"}, {\"data\": [{\"hoverlabel\": {\"namelength\": 0}, \"hovertemplate\": \"<b>%{hovertext}</b><br><br>Country=Cambodia<br>Year=2010<br>Tuberculosis=%{x}<br>Expected_Value_Water=%{y}<br>population=%{marker.size}\", \"hovertext\": [\"Cambodia\"], \"legendgroup\": \"Cambodia\", \"marker\": {\"color\": \"#636efa\", \"size\": [81.0], \"sizemode\": \"area\", \"sizeref\": 0.17382716049382715, \"symbol\": \"circle\"}, \"mode\": \"markers\", \"name\": \"Cambodia\", \"showlegend\": true, \"x\": [438.0], \"xaxis\": \"x\", \"y\": [2.1826637000000004], \"yaxis\": \"y\", \"type\": \"scatter\"}, {\"hoverlabel\": {\"namelength\": 0}, \"hovertemplate\": \"<b>%{hovertext}</b><br><br>Country=Indonesia<br>Year=2010<br>Tuberculosis=%{x}<br>Expected_Value_Water=%{y}<br>population=%{marker.size}\", \"hovertext\": [\"Indonesia\"], \"legendgroup\": \"Indonesia\", \"marker\": {\"color\": \"#EF553B\", \"size\": [133.0], \"sizemode\": \"area\", \"sizeref\": 0.17382716049382715, \"symbol\": \"circle\"}, \"mode\": \"markers\", \"name\": \"Indonesia\", \"showlegend\": true, \"x\": [342.0], \"xaxis\": \"x2\", \"y\": [2.6707609], \"yaxis\": \"y2\", \"type\": \"scatter\"}], \"name\": \"2010\"}]);\n",
       "                        }).then(function(){\n",
       "                            \n",
       "var gd = document.getElementById('70369b47-1dc1-4050-91f7-fa0244df51a4');\n",
       "var x = new MutationObserver(function (mutations, observer) {{\n",
       "        var display = window.getComputedStyle(gd).display;\n",
       "        if (!display || display === 'none') {{\n",
       "            console.log([gd, 'removed!']);\n",
       "            Plotly.purge(gd);\n",
       "            observer.disconnect();\n",
       "        }}\n",
       "}});\n",
       "\n",
       "// Listen for the removal of the full notebook cells\n",
       "var notebookContainer = gd.closest('#notebook-container');\n",
       "if (notebookContainer) {{\n",
       "    x.observe(notebookContainer, {childList: true});\n",
       "}}\n",
       "\n",
       "// Listen for the clearing of the current output cell\n",
       "var outputEl = gd.closest('.output');\n",
       "if (outputEl) {{\n",
       "    x.observe(outputEl, {childList: true});\n",
       "}}\n",
       "\n",
       "                        })\n",
       "                };\n",
       "                });\n",
       "            </script>\n",
       "        </div>"
      ]
     },
     "metadata": {},
     "output_type": "display_data"
    }
   ],
   "source": [
    "import plotly.express as px\n",
    "fig = px.scatter(seatbmergepd, x=\"Tuberculosis\", y=\"Expected_Value_Water\", animation_frame=\"Year\",\n",
    "        size=\"population\", color=\"Country\", hover_name=\"Country\", facet_col=\"Country\"\n",
    "           ,log_x=True, size_max=45)\n",
    "fig.show()\n"
   ]
  },
  {
   "cell_type": "code",
   "execution_count": 200,
   "metadata": {
    "scrolled": true
   },
   "outputs": [
    {
     "data": {
      "application/vnd.plotly.v1+json": {
       "config": {
        "plotlyServerURL": "https://plot.ly"
       },
       "data": [
        {
         "hoverlabel": {
          "namelength": 0
         },
         "hovertemplate": "<b>%{hovertext}</b><br><br>Country=Cambodia<br>Tuberculosis=%{x}<br>Expected_Value_Water=%{y}<br>population=%{marker.size}",
         "hovertext": [
          "Cambodia"
         ],
         "legendgroup": "Cambodia",
         "marker": {
          "color": "#636efa",
          "size": [
           90
          ],
          "sizemode": "area",
          "sizeref": 0.09777777777777778,
          "symbol": "circle"
         },
         "mode": "markers",
         "name": "Cambodia",
         "showlegend": true,
         "type": "scatter",
         "x": [
          326
         ],
         "xaxis": "x",
         "y": [
          2.4659253000000003
         ],
         "yaxis": "y"
        },
        {
         "hoverlabel": {
          "namelength": 0
         },
         "hovertemplate": "<b>%{hovertext}</b><br><br>Country=Indonesia<br>Tuberculosis=%{x}<br>Expected_Value_Water=%{y}<br>population=%{marker.size}",
         "hovertext": [
          "Indonesia"
         ],
         "legendgroup": "Indonesia",
         "marker": {
          "color": "#EF553B",
          "size": [
           146
          ],
          "sizemode": "area",
          "sizeref": 0.09777777777777778,
          "symbol": "circle"
         },
         "mode": "markers",
         "name": "Indonesia",
         "showlegend": true,
         "type": "scatter",
         "x": [
          319
         ],
         "xaxis": "x",
         "y": [
          2.7860067
         ],
         "yaxis": "y"
        },
        {
         "hoverlabel": {
          "namelength": 0
         },
         "hovertemplate": "<b>%{hovertext}</b><br><br>Country=Myanmar<br>Tuberculosis=%{x}<br>Expected_Value_Water=%{y}<br>population=%{marker.size}",
         "hovertext": [
          "Myanmar"
         ],
         "legendgroup": "Myanmar",
         "marker": {
          "color": "#00cc96",
          "size": [
           81
          ],
          "sizemode": "area",
          "sizeref": 0.09777777777777778,
          "symbol": "circle"
         },
         "mode": "markers",
         "name": "Myanmar",
         "showlegend": true,
         "type": "scatter",
         "x": [
          355
         ],
         "xaxis": "x",
         "y": [
          2.5471306
         ],
         "yaxis": "y"
        },
        {
         "hoverlabel": {
          "namelength": 0
         },
         "hovertemplate": "<b>%{hovertext}</b><br><br>Country=Philippines<br>Tuberculosis=%{x}<br>Expected_Value_Water=%{y}<br>population=%{marker.size}",
         "hovertext": [
          "Philippines"
         ],
         "legendgroup": "Philippines",
         "marker": {
          "color": "#ab63fa",
          "size": [
           352
          ],
          "sizemode": "area",
          "sizeref": 0.09777777777777778,
          "symbol": "circle"
         },
         "mode": "markers",
         "name": "Philippines",
         "showlegend": true,
         "type": "scatter",
         "x": [
          554
         ],
         "xaxis": "x",
         "y": [
          2.8899471
         ],
         "yaxis": "y"
        },
        {
         "hoverlabel": {
          "namelength": 0
         },
         "hovertemplate": "<b>%{hovertext}</b><br><br>Country=Thailand<br>Tuberculosis=%{x}<br>Expected_Value_Water=%{y}<br>population=%{marker.size}",
         "hovertext": [
          "Thailand"
         ],
         "legendgroup": "Thailand",
         "marker": {
          "color": "#FFA15A",
          "size": [
           135
          ],
          "sizemode": "area",
          "sizeref": 0.09777777777777778,
          "symbol": "circle"
         },
         "mode": "markers",
         "name": "Thailand",
         "showlegend": true,
         "type": "scatter",
         "x": [
          156
         ],
         "xaxis": "x",
         "y": [
          2.9993071
         ],
         "yaxis": "y"
        }
       ],
       "layout": {
        "legend": {
         "itemsizing": "constant",
         "title": {
          "text": "Country"
         },
         "tracegroupgap": 0
        },
        "margin": {
         "t": 60
        },
        "template": {
         "data": {
          "bar": [
           {
            "error_x": {
             "color": "#2a3f5f"
            },
            "error_y": {
             "color": "#2a3f5f"
            },
            "marker": {
             "line": {
              "color": "#E5ECF6",
              "width": 0.5
             }
            },
            "type": "bar"
           }
          ],
          "barpolar": [
           {
            "marker": {
             "line": {
              "color": "#E5ECF6",
              "width": 0.5
             }
            },
            "type": "barpolar"
           }
          ],
          "carpet": [
           {
            "aaxis": {
             "endlinecolor": "#2a3f5f",
             "gridcolor": "white",
             "linecolor": "white",
             "minorgridcolor": "white",
             "startlinecolor": "#2a3f5f"
            },
            "baxis": {
             "endlinecolor": "#2a3f5f",
             "gridcolor": "white",
             "linecolor": "white",
             "minorgridcolor": "white",
             "startlinecolor": "#2a3f5f"
            },
            "type": "carpet"
           }
          ],
          "choropleth": [
           {
            "colorbar": {
             "outlinewidth": 0,
             "ticks": ""
            },
            "type": "choropleth"
           }
          ],
          "contour": [
           {
            "colorbar": {
             "outlinewidth": 0,
             "ticks": ""
            },
            "colorscale": [
             [
              0,
              "#0d0887"
             ],
             [
              0.1111111111111111,
              "#46039f"
             ],
             [
              0.2222222222222222,
              "#7201a8"
             ],
             [
              0.3333333333333333,
              "#9c179e"
             ],
             [
              0.4444444444444444,
              "#bd3786"
             ],
             [
              0.5555555555555556,
              "#d8576b"
             ],
             [
              0.6666666666666666,
              "#ed7953"
             ],
             [
              0.7777777777777778,
              "#fb9f3a"
             ],
             [
              0.8888888888888888,
              "#fdca26"
             ],
             [
              1,
              "#f0f921"
             ]
            ],
            "type": "contour"
           }
          ],
          "contourcarpet": [
           {
            "colorbar": {
             "outlinewidth": 0,
             "ticks": ""
            },
            "type": "contourcarpet"
           }
          ],
          "heatmap": [
           {
            "colorbar": {
             "outlinewidth": 0,
             "ticks": ""
            },
            "colorscale": [
             [
              0,
              "#0d0887"
             ],
             [
              0.1111111111111111,
              "#46039f"
             ],
             [
              0.2222222222222222,
              "#7201a8"
             ],
             [
              0.3333333333333333,
              "#9c179e"
             ],
             [
              0.4444444444444444,
              "#bd3786"
             ],
             [
              0.5555555555555556,
              "#d8576b"
             ],
             [
              0.6666666666666666,
              "#ed7953"
             ],
             [
              0.7777777777777778,
              "#fb9f3a"
             ],
             [
              0.8888888888888888,
              "#fdca26"
             ],
             [
              1,
              "#f0f921"
             ]
            ],
            "type": "heatmap"
           }
          ],
          "heatmapgl": [
           {
            "colorbar": {
             "outlinewidth": 0,
             "ticks": ""
            },
            "colorscale": [
             [
              0,
              "#0d0887"
             ],
             [
              0.1111111111111111,
              "#46039f"
             ],
             [
              0.2222222222222222,
              "#7201a8"
             ],
             [
              0.3333333333333333,
              "#9c179e"
             ],
             [
              0.4444444444444444,
              "#bd3786"
             ],
             [
              0.5555555555555556,
              "#d8576b"
             ],
             [
              0.6666666666666666,
              "#ed7953"
             ],
             [
              0.7777777777777778,
              "#fb9f3a"
             ],
             [
              0.8888888888888888,
              "#fdca26"
             ],
             [
              1,
              "#f0f921"
             ]
            ],
            "type": "heatmapgl"
           }
          ],
          "histogram": [
           {
            "marker": {
             "colorbar": {
              "outlinewidth": 0,
              "ticks": ""
             }
            },
            "type": "histogram"
           }
          ],
          "histogram2d": [
           {
            "colorbar": {
             "outlinewidth": 0,
             "ticks": ""
            },
            "colorscale": [
             [
              0,
              "#0d0887"
             ],
             [
              0.1111111111111111,
              "#46039f"
             ],
             [
              0.2222222222222222,
              "#7201a8"
             ],
             [
              0.3333333333333333,
              "#9c179e"
             ],
             [
              0.4444444444444444,
              "#bd3786"
             ],
             [
              0.5555555555555556,
              "#d8576b"
             ],
             [
              0.6666666666666666,
              "#ed7953"
             ],
             [
              0.7777777777777778,
              "#fb9f3a"
             ],
             [
              0.8888888888888888,
              "#fdca26"
             ],
             [
              1,
              "#f0f921"
             ]
            ],
            "type": "histogram2d"
           }
          ],
          "histogram2dcontour": [
           {
            "colorbar": {
             "outlinewidth": 0,
             "ticks": ""
            },
            "colorscale": [
             [
              0,
              "#0d0887"
             ],
             [
              0.1111111111111111,
              "#46039f"
             ],
             [
              0.2222222222222222,
              "#7201a8"
             ],
             [
              0.3333333333333333,
              "#9c179e"
             ],
             [
              0.4444444444444444,
              "#bd3786"
             ],
             [
              0.5555555555555556,
              "#d8576b"
             ],
             [
              0.6666666666666666,
              "#ed7953"
             ],
             [
              0.7777777777777778,
              "#fb9f3a"
             ],
             [
              0.8888888888888888,
              "#fdca26"
             ],
             [
              1,
              "#f0f921"
             ]
            ],
            "type": "histogram2dcontour"
           }
          ],
          "mesh3d": [
           {
            "colorbar": {
             "outlinewidth": 0,
             "ticks": ""
            },
            "type": "mesh3d"
           }
          ],
          "parcoords": [
           {
            "line": {
             "colorbar": {
              "outlinewidth": 0,
              "ticks": ""
             }
            },
            "type": "parcoords"
           }
          ],
          "pie": [
           {
            "automargin": true,
            "type": "pie"
           }
          ],
          "scatter": [
           {
            "marker": {
             "colorbar": {
              "outlinewidth": 0,
              "ticks": ""
             }
            },
            "type": "scatter"
           }
          ],
          "scatter3d": [
           {
            "line": {
             "colorbar": {
              "outlinewidth": 0,
              "ticks": ""
             }
            },
            "marker": {
             "colorbar": {
              "outlinewidth": 0,
              "ticks": ""
             }
            },
            "type": "scatter3d"
           }
          ],
          "scattercarpet": [
           {
            "marker": {
             "colorbar": {
              "outlinewidth": 0,
              "ticks": ""
             }
            },
            "type": "scattercarpet"
           }
          ],
          "scattergeo": [
           {
            "marker": {
             "colorbar": {
              "outlinewidth": 0,
              "ticks": ""
             }
            },
            "type": "scattergeo"
           }
          ],
          "scattergl": [
           {
            "marker": {
             "colorbar": {
              "outlinewidth": 0,
              "ticks": ""
             }
            },
            "type": "scattergl"
           }
          ],
          "scattermapbox": [
           {
            "marker": {
             "colorbar": {
              "outlinewidth": 0,
              "ticks": ""
             }
            },
            "type": "scattermapbox"
           }
          ],
          "scatterpolar": [
           {
            "marker": {
             "colorbar": {
              "outlinewidth": 0,
              "ticks": ""
             }
            },
            "type": "scatterpolar"
           }
          ],
          "scatterpolargl": [
           {
            "marker": {
             "colorbar": {
              "outlinewidth": 0,
              "ticks": ""
             }
            },
            "type": "scatterpolargl"
           }
          ],
          "scatterternary": [
           {
            "marker": {
             "colorbar": {
              "outlinewidth": 0,
              "ticks": ""
             }
            },
            "type": "scatterternary"
           }
          ],
          "surface": [
           {
            "colorbar": {
             "outlinewidth": 0,
             "ticks": ""
            },
            "colorscale": [
             [
              0,
              "#0d0887"
             ],
             [
              0.1111111111111111,
              "#46039f"
             ],
             [
              0.2222222222222222,
              "#7201a8"
             ],
             [
              0.3333333333333333,
              "#9c179e"
             ],
             [
              0.4444444444444444,
              "#bd3786"
             ],
             [
              0.5555555555555556,
              "#d8576b"
             ],
             [
              0.6666666666666666,
              "#ed7953"
             ],
             [
              0.7777777777777778,
              "#fb9f3a"
             ],
             [
              0.8888888888888888,
              "#fdca26"
             ],
             [
              1,
              "#f0f921"
             ]
            ],
            "type": "surface"
           }
          ],
          "table": [
           {
            "cells": {
             "fill": {
              "color": "#EBF0F8"
             },
             "line": {
              "color": "white"
             }
            },
            "header": {
             "fill": {
              "color": "#C8D4E3"
             },
             "line": {
              "color": "white"
             }
            },
            "type": "table"
           }
          ]
         },
         "layout": {
          "annotationdefaults": {
           "arrowcolor": "#2a3f5f",
           "arrowhead": 0,
           "arrowwidth": 1
          },
          "coloraxis": {
           "colorbar": {
            "outlinewidth": 0,
            "ticks": ""
           }
          },
          "colorscale": {
           "diverging": [
            [
             0,
             "#8e0152"
            ],
            [
             0.1,
             "#c51b7d"
            ],
            [
             0.2,
             "#de77ae"
            ],
            [
             0.3,
             "#f1b6da"
            ],
            [
             0.4,
             "#fde0ef"
            ],
            [
             0.5,
             "#f7f7f7"
            ],
            [
             0.6,
             "#e6f5d0"
            ],
            [
             0.7,
             "#b8e186"
            ],
            [
             0.8,
             "#7fbc41"
            ],
            [
             0.9,
             "#4d9221"
            ],
            [
             1,
             "#276419"
            ]
           ],
           "sequential": [
            [
             0,
             "#0d0887"
            ],
            [
             0.1111111111111111,
             "#46039f"
            ],
            [
             0.2222222222222222,
             "#7201a8"
            ],
            [
             0.3333333333333333,
             "#9c179e"
            ],
            [
             0.4444444444444444,
             "#bd3786"
            ],
            [
             0.5555555555555556,
             "#d8576b"
            ],
            [
             0.6666666666666666,
             "#ed7953"
            ],
            [
             0.7777777777777778,
             "#fb9f3a"
            ],
            [
             0.8888888888888888,
             "#fdca26"
            ],
            [
             1,
             "#f0f921"
            ]
           ],
           "sequentialminus": [
            [
             0,
             "#0d0887"
            ],
            [
             0.1111111111111111,
             "#46039f"
            ],
            [
             0.2222222222222222,
             "#7201a8"
            ],
            [
             0.3333333333333333,
             "#9c179e"
            ],
            [
             0.4444444444444444,
             "#bd3786"
            ],
            [
             0.5555555555555556,
             "#d8576b"
            ],
            [
             0.6666666666666666,
             "#ed7953"
            ],
            [
             0.7777777777777778,
             "#fb9f3a"
            ],
            [
             0.8888888888888888,
             "#fdca26"
            ],
            [
             1,
             "#f0f921"
            ]
           ]
          },
          "colorway": [
           "#636efa",
           "#EF553B",
           "#00cc96",
           "#ab63fa",
           "#FFA15A",
           "#19d3f3",
           "#FF6692",
           "#B6E880",
           "#FF97FF",
           "#FECB52"
          ],
          "font": {
           "color": "#2a3f5f"
          },
          "geo": {
           "bgcolor": "white",
           "lakecolor": "white",
           "landcolor": "#E5ECF6",
           "showlakes": true,
           "showland": true,
           "subunitcolor": "white"
          },
          "hoverlabel": {
           "align": "left"
          },
          "hovermode": "closest",
          "mapbox": {
           "style": "light"
          },
          "paper_bgcolor": "white",
          "plot_bgcolor": "#E5ECF6",
          "polar": {
           "angularaxis": {
            "gridcolor": "white",
            "linecolor": "white",
            "ticks": ""
           },
           "bgcolor": "#E5ECF6",
           "radialaxis": {
            "gridcolor": "white",
            "linecolor": "white",
            "ticks": ""
           }
          },
          "scene": {
           "xaxis": {
            "backgroundcolor": "#E5ECF6",
            "gridcolor": "white",
            "gridwidth": 2,
            "linecolor": "white",
            "showbackground": true,
            "ticks": "",
            "zerolinecolor": "white"
           },
           "yaxis": {
            "backgroundcolor": "#E5ECF6",
            "gridcolor": "white",
            "gridwidth": 2,
            "linecolor": "white",
            "showbackground": true,
            "ticks": "",
            "zerolinecolor": "white"
           },
           "zaxis": {
            "backgroundcolor": "#E5ECF6",
            "gridcolor": "white",
            "gridwidth": 2,
            "linecolor": "white",
            "showbackground": true,
            "ticks": "",
            "zerolinecolor": "white"
           }
          },
          "shapedefaults": {
           "line": {
            "color": "#2a3f5f"
           }
          },
          "ternary": {
           "aaxis": {
            "gridcolor": "white",
            "linecolor": "white",
            "ticks": ""
           },
           "baxis": {
            "gridcolor": "white",
            "linecolor": "white",
            "ticks": ""
           },
           "bgcolor": "#E5ECF6",
           "caxis": {
            "gridcolor": "white",
            "linecolor": "white",
            "ticks": ""
           }
          },
          "title": {
           "x": 0.05
          },
          "xaxis": {
           "automargin": true,
           "gridcolor": "white",
           "linecolor": "white",
           "ticks": "",
           "title": {
            "standoff": 15
           },
           "zerolinecolor": "white",
           "zerolinewidth": 2
          },
          "yaxis": {
           "automargin": true,
           "gridcolor": "white",
           "linecolor": "white",
           "ticks": "",
           "title": {
            "standoff": 15
           },
           "zerolinecolor": "white",
           "zerolinewidth": 2
          }
         }
        },
        "xaxis": {
         "anchor": "y",
         "domain": [
          0,
          1
         ],
         "title": {
          "text": "Tuberculosis"
         },
         "type": "log"
        },
        "yaxis": {
         "anchor": "x",
         "domain": [
          0,
          1
         ],
         "title": {
          "text": "Expected_Value_Water"
         }
        }
       }
      },
      "text/html": [
       "<div>\n",
       "        \n",
       "        \n",
       "            <div id=\"dfbff420-f99f-4e57-bf4b-26f9e16a5f48\" class=\"plotly-graph-div\" style=\"height:525px; width:100%;\"></div>\n",
       "            <script type=\"text/javascript\">\n",
       "                require([\"plotly\"], function(Plotly) {\n",
       "                    window.PLOTLYENV=window.PLOTLYENV || {};\n",
       "                    \n",
       "                if (document.getElementById(\"dfbff420-f99f-4e57-bf4b-26f9e16a5f48\")) {\n",
       "                    Plotly.newPlot(\n",
       "                        'dfbff420-f99f-4e57-bf4b-26f9e16a5f48',\n",
       "                        [{\"hoverlabel\": {\"namelength\": 0}, \"hovertemplate\": \"<b>%{hovertext}</b><br><br>Country=Cambodia<br>Tuberculosis=%{x}<br>Expected_Value_Water=%{y}<br>population=%{marker.size}\", \"hovertext\": [\"Cambodia\"], \"legendgroup\": \"Cambodia\", \"marker\": {\"color\": \"#636efa\", \"size\": [90.0], \"sizemode\": \"area\", \"sizeref\": 0.09777777777777778, \"symbol\": \"circle\"}, \"mode\": \"markers\", \"name\": \"Cambodia\", \"showlegend\": true, \"type\": \"scatter\", \"x\": [326.0], \"xaxis\": \"x\", \"y\": [2.4659253000000003], \"yaxis\": \"y\"}, {\"hoverlabel\": {\"namelength\": 0}, \"hovertemplate\": \"<b>%{hovertext}</b><br><br>Country=Indonesia<br>Tuberculosis=%{x}<br>Expected_Value_Water=%{y}<br>population=%{marker.size}\", \"hovertext\": [\"Indonesia\"], \"legendgroup\": \"Indonesia\", \"marker\": {\"color\": \"#EF553B\", \"size\": [146.0], \"sizemode\": \"area\", \"sizeref\": 0.09777777777777778, \"symbol\": \"circle\"}, \"mode\": \"markers\", \"name\": \"Indonesia\", \"showlegend\": true, \"type\": \"scatter\", \"x\": [319.0], \"xaxis\": \"x\", \"y\": [2.7860067], \"yaxis\": \"y\"}, {\"hoverlabel\": {\"namelength\": 0}, \"hovertemplate\": \"<b>%{hovertext}</b><br><br>Country=Myanmar<br>Tuberculosis=%{x}<br>Expected_Value_Water=%{y}<br>population=%{marker.size}\", \"hovertext\": [\"Myanmar\"], \"legendgroup\": \"Myanmar\", \"marker\": {\"color\": \"#00cc96\", \"size\": [81.0], \"sizemode\": \"area\", \"sizeref\": 0.09777777777777778, \"symbol\": \"circle\"}, \"mode\": \"markers\", \"name\": \"Myanmar\", \"showlegend\": true, \"type\": \"scatter\", \"x\": [355.0], \"xaxis\": \"x\", \"y\": [2.5471306], \"yaxis\": \"y\"}, {\"hoverlabel\": {\"namelength\": 0}, \"hovertemplate\": \"<b>%{hovertext}</b><br><br>Country=Philippines<br>Tuberculosis=%{x}<br>Expected_Value_Water=%{y}<br>population=%{marker.size}\", \"hovertext\": [\"Philippines\"], \"legendgroup\": \"Philippines\", \"marker\": {\"color\": \"#ab63fa\", \"size\": [352.0], \"sizemode\": \"area\", \"sizeref\": 0.09777777777777778, \"symbol\": \"circle\"}, \"mode\": \"markers\", \"name\": \"Philippines\", \"showlegend\": true, \"type\": \"scatter\", \"x\": [554.0], \"xaxis\": \"x\", \"y\": [2.8899471], \"yaxis\": \"y\"}, {\"hoverlabel\": {\"namelength\": 0}, \"hovertemplate\": \"<b>%{hovertext}</b><br><br>Country=Thailand<br>Tuberculosis=%{x}<br>Expected_Value_Water=%{y}<br>population=%{marker.size}\", \"hovertext\": [\"Thailand\"], \"legendgroup\": \"Thailand\", \"marker\": {\"color\": \"#FFA15A\", \"size\": [135.0], \"sizemode\": \"area\", \"sizeref\": 0.09777777777777778, \"symbol\": \"circle\"}, \"mode\": \"markers\", \"name\": \"Thailand\", \"showlegend\": true, \"type\": \"scatter\", \"x\": [156.0], \"xaxis\": \"x\", \"y\": [2.9993071], \"yaxis\": \"y\"}],\n",
       "                        {\"legend\": {\"itemsizing\": \"constant\", \"title\": {\"text\": \"Country\"}, \"tracegroupgap\": 0}, \"margin\": {\"t\": 60}, \"template\": {\"data\": {\"bar\": [{\"error_x\": {\"color\": \"#2a3f5f\"}, \"error_y\": {\"color\": \"#2a3f5f\"}, \"marker\": {\"line\": {\"color\": \"#E5ECF6\", \"width\": 0.5}}, \"type\": \"bar\"}], \"barpolar\": [{\"marker\": {\"line\": {\"color\": \"#E5ECF6\", \"width\": 0.5}}, \"type\": \"barpolar\"}], \"carpet\": [{\"aaxis\": {\"endlinecolor\": \"#2a3f5f\", \"gridcolor\": \"white\", \"linecolor\": \"white\", \"minorgridcolor\": \"white\", \"startlinecolor\": \"#2a3f5f\"}, \"baxis\": {\"endlinecolor\": \"#2a3f5f\", \"gridcolor\": \"white\", \"linecolor\": \"white\", \"minorgridcolor\": \"white\", \"startlinecolor\": \"#2a3f5f\"}, \"type\": \"carpet\"}], \"choropleth\": [{\"colorbar\": {\"outlinewidth\": 0, \"ticks\": \"\"}, \"type\": \"choropleth\"}], \"contour\": [{\"colorbar\": {\"outlinewidth\": 0, \"ticks\": \"\"}, \"colorscale\": [[0.0, \"#0d0887\"], [0.1111111111111111, \"#46039f\"], [0.2222222222222222, \"#7201a8\"], [0.3333333333333333, \"#9c179e\"], [0.4444444444444444, \"#bd3786\"], [0.5555555555555556, \"#d8576b\"], [0.6666666666666666, \"#ed7953\"], [0.7777777777777778, \"#fb9f3a\"], [0.8888888888888888, \"#fdca26\"], [1.0, \"#f0f921\"]], \"type\": \"contour\"}], \"contourcarpet\": [{\"colorbar\": {\"outlinewidth\": 0, \"ticks\": \"\"}, \"type\": \"contourcarpet\"}], \"heatmap\": [{\"colorbar\": {\"outlinewidth\": 0, \"ticks\": \"\"}, \"colorscale\": [[0.0, \"#0d0887\"], [0.1111111111111111, \"#46039f\"], [0.2222222222222222, \"#7201a8\"], [0.3333333333333333, \"#9c179e\"], [0.4444444444444444, \"#bd3786\"], [0.5555555555555556, \"#d8576b\"], [0.6666666666666666, \"#ed7953\"], [0.7777777777777778, \"#fb9f3a\"], [0.8888888888888888, \"#fdca26\"], [1.0, \"#f0f921\"]], \"type\": \"heatmap\"}], \"heatmapgl\": [{\"colorbar\": {\"outlinewidth\": 0, \"ticks\": \"\"}, \"colorscale\": [[0.0, \"#0d0887\"], [0.1111111111111111, \"#46039f\"], [0.2222222222222222, \"#7201a8\"], [0.3333333333333333, \"#9c179e\"], [0.4444444444444444, \"#bd3786\"], [0.5555555555555556, \"#d8576b\"], [0.6666666666666666, \"#ed7953\"], [0.7777777777777778, \"#fb9f3a\"], [0.8888888888888888, \"#fdca26\"], [1.0, \"#f0f921\"]], \"type\": \"heatmapgl\"}], \"histogram\": [{\"marker\": {\"colorbar\": {\"outlinewidth\": 0, \"ticks\": \"\"}}, \"type\": \"histogram\"}], \"histogram2d\": [{\"colorbar\": {\"outlinewidth\": 0, \"ticks\": \"\"}, \"colorscale\": [[0.0, \"#0d0887\"], [0.1111111111111111, \"#46039f\"], [0.2222222222222222, \"#7201a8\"], [0.3333333333333333, \"#9c179e\"], [0.4444444444444444, \"#bd3786\"], [0.5555555555555556, \"#d8576b\"], [0.6666666666666666, \"#ed7953\"], [0.7777777777777778, \"#fb9f3a\"], [0.8888888888888888, \"#fdca26\"], [1.0, \"#f0f921\"]], \"type\": \"histogram2d\"}], \"histogram2dcontour\": [{\"colorbar\": {\"outlinewidth\": 0, \"ticks\": \"\"}, \"colorscale\": [[0.0, \"#0d0887\"], [0.1111111111111111, \"#46039f\"], [0.2222222222222222, \"#7201a8\"], [0.3333333333333333, \"#9c179e\"], [0.4444444444444444, \"#bd3786\"], [0.5555555555555556, \"#d8576b\"], [0.6666666666666666, \"#ed7953\"], [0.7777777777777778, \"#fb9f3a\"], [0.8888888888888888, \"#fdca26\"], [1.0, \"#f0f921\"]], \"type\": \"histogram2dcontour\"}], \"mesh3d\": [{\"colorbar\": {\"outlinewidth\": 0, \"ticks\": \"\"}, \"type\": \"mesh3d\"}], \"parcoords\": [{\"line\": {\"colorbar\": {\"outlinewidth\": 0, \"ticks\": \"\"}}, \"type\": \"parcoords\"}], \"pie\": [{\"automargin\": true, \"type\": \"pie\"}], \"scatter\": [{\"marker\": {\"colorbar\": {\"outlinewidth\": 0, \"ticks\": \"\"}}, \"type\": \"scatter\"}], \"scatter3d\": [{\"line\": {\"colorbar\": {\"outlinewidth\": 0, \"ticks\": \"\"}}, \"marker\": {\"colorbar\": {\"outlinewidth\": 0, \"ticks\": \"\"}}, \"type\": \"scatter3d\"}], \"scattercarpet\": [{\"marker\": {\"colorbar\": {\"outlinewidth\": 0, \"ticks\": \"\"}}, \"type\": \"scattercarpet\"}], \"scattergeo\": [{\"marker\": {\"colorbar\": {\"outlinewidth\": 0, \"ticks\": \"\"}}, \"type\": \"scattergeo\"}], \"scattergl\": [{\"marker\": {\"colorbar\": {\"outlinewidth\": 0, \"ticks\": \"\"}}, \"type\": \"scattergl\"}], \"scattermapbox\": [{\"marker\": {\"colorbar\": {\"outlinewidth\": 0, \"ticks\": \"\"}}, \"type\": \"scattermapbox\"}], \"scatterpolar\": [{\"marker\": {\"colorbar\": {\"outlinewidth\": 0, \"ticks\": \"\"}}, \"type\": \"scatterpolar\"}], \"scatterpolargl\": [{\"marker\": {\"colorbar\": {\"outlinewidth\": 0, \"ticks\": \"\"}}, \"type\": \"scatterpolargl\"}], \"scatterternary\": [{\"marker\": {\"colorbar\": {\"outlinewidth\": 0, \"ticks\": \"\"}}, \"type\": \"scatterternary\"}], \"surface\": [{\"colorbar\": {\"outlinewidth\": 0, \"ticks\": \"\"}, \"colorscale\": [[0.0, \"#0d0887\"], [0.1111111111111111, \"#46039f\"], [0.2222222222222222, \"#7201a8\"], [0.3333333333333333, \"#9c179e\"], [0.4444444444444444, \"#bd3786\"], [0.5555555555555556, \"#d8576b\"], [0.6666666666666666, \"#ed7953\"], [0.7777777777777778, \"#fb9f3a\"], [0.8888888888888888, \"#fdca26\"], [1.0, \"#f0f921\"]], \"type\": \"surface\"}], \"table\": [{\"cells\": {\"fill\": {\"color\": \"#EBF0F8\"}, \"line\": {\"color\": \"white\"}}, \"header\": {\"fill\": {\"color\": \"#C8D4E3\"}, \"line\": {\"color\": \"white\"}}, \"type\": \"table\"}]}, \"layout\": {\"annotationdefaults\": {\"arrowcolor\": \"#2a3f5f\", \"arrowhead\": 0, \"arrowwidth\": 1}, \"coloraxis\": {\"colorbar\": {\"outlinewidth\": 0, \"ticks\": \"\"}}, \"colorscale\": {\"diverging\": [[0, \"#8e0152\"], [0.1, \"#c51b7d\"], [0.2, \"#de77ae\"], [0.3, \"#f1b6da\"], [0.4, \"#fde0ef\"], [0.5, \"#f7f7f7\"], [0.6, \"#e6f5d0\"], [0.7, \"#b8e186\"], [0.8, \"#7fbc41\"], [0.9, \"#4d9221\"], [1, \"#276419\"]], \"sequential\": [[0.0, \"#0d0887\"], [0.1111111111111111, \"#46039f\"], [0.2222222222222222, \"#7201a8\"], [0.3333333333333333, \"#9c179e\"], [0.4444444444444444, \"#bd3786\"], [0.5555555555555556, \"#d8576b\"], [0.6666666666666666, \"#ed7953\"], [0.7777777777777778, \"#fb9f3a\"], [0.8888888888888888, \"#fdca26\"], [1.0, \"#f0f921\"]], \"sequentialminus\": [[0.0, \"#0d0887\"], [0.1111111111111111, \"#46039f\"], [0.2222222222222222, \"#7201a8\"], [0.3333333333333333, \"#9c179e\"], [0.4444444444444444, \"#bd3786\"], [0.5555555555555556, \"#d8576b\"], [0.6666666666666666, \"#ed7953\"], [0.7777777777777778, \"#fb9f3a\"], [0.8888888888888888, \"#fdca26\"], [1.0, \"#f0f921\"]]}, \"colorway\": [\"#636efa\", \"#EF553B\", \"#00cc96\", \"#ab63fa\", \"#FFA15A\", \"#19d3f3\", \"#FF6692\", \"#B6E880\", \"#FF97FF\", \"#FECB52\"], \"font\": {\"color\": \"#2a3f5f\"}, \"geo\": {\"bgcolor\": \"white\", \"lakecolor\": \"white\", \"landcolor\": \"#E5ECF6\", \"showlakes\": true, \"showland\": true, \"subunitcolor\": \"white\"}, \"hoverlabel\": {\"align\": \"left\"}, \"hovermode\": \"closest\", \"mapbox\": {\"style\": \"light\"}, \"paper_bgcolor\": \"white\", \"plot_bgcolor\": \"#E5ECF6\", \"polar\": {\"angularaxis\": {\"gridcolor\": \"white\", \"linecolor\": \"white\", \"ticks\": \"\"}, \"bgcolor\": \"#E5ECF6\", \"radialaxis\": {\"gridcolor\": \"white\", \"linecolor\": \"white\", \"ticks\": \"\"}}, \"scene\": {\"xaxis\": {\"backgroundcolor\": \"#E5ECF6\", \"gridcolor\": \"white\", \"gridwidth\": 2, \"linecolor\": \"white\", \"showbackground\": true, \"ticks\": \"\", \"zerolinecolor\": \"white\"}, \"yaxis\": {\"backgroundcolor\": \"#E5ECF6\", \"gridcolor\": \"white\", \"gridwidth\": 2, \"linecolor\": \"white\", \"showbackground\": true, \"ticks\": \"\", \"zerolinecolor\": \"white\"}, \"zaxis\": {\"backgroundcolor\": \"#E5ECF6\", \"gridcolor\": \"white\", \"gridwidth\": 2, \"linecolor\": \"white\", \"showbackground\": true, \"ticks\": \"\", \"zerolinecolor\": \"white\"}}, \"shapedefaults\": {\"line\": {\"color\": \"#2a3f5f\"}}, \"ternary\": {\"aaxis\": {\"gridcolor\": \"white\", \"linecolor\": \"white\", \"ticks\": \"\"}, \"baxis\": {\"gridcolor\": \"white\", \"linecolor\": \"white\", \"ticks\": \"\"}, \"bgcolor\": \"#E5ECF6\", \"caxis\": {\"gridcolor\": \"white\", \"linecolor\": \"white\", \"ticks\": \"\"}}, \"title\": {\"x\": 0.05}, \"xaxis\": {\"automargin\": true, \"gridcolor\": \"white\", \"linecolor\": \"white\", \"ticks\": \"\", \"title\": {\"standoff\": 15}, \"zerolinecolor\": \"white\", \"zerolinewidth\": 2}, \"yaxis\": {\"automargin\": true, \"gridcolor\": \"white\", \"linecolor\": \"white\", \"ticks\": \"\", \"title\": {\"standoff\": 15}, \"zerolinecolor\": \"white\", \"zerolinewidth\": 2}}}, \"xaxis\": {\"anchor\": \"y\", \"domain\": [0.0, 1.0], \"title\": {\"text\": \"Tuberculosis\"}, \"type\": \"log\"}, \"yaxis\": {\"anchor\": \"x\", \"domain\": [0.0, 1.0], \"title\": {\"text\": \"Expected_Value_Water\"}}},\n",
       "                        {\"responsive\": true}\n",
       "                    ).then(function(){\n",
       "                            \n",
       "var gd = document.getElementById('dfbff420-f99f-4e57-bf4b-26f9e16a5f48');\n",
       "var x = new MutationObserver(function (mutations, observer) {{\n",
       "        var display = window.getComputedStyle(gd).display;\n",
       "        if (!display || display === 'none') {{\n",
       "            console.log([gd, 'removed!']);\n",
       "            Plotly.purge(gd);\n",
       "            observer.disconnect();\n",
       "        }}\n",
       "}});\n",
       "\n",
       "// Listen for the removal of the full notebook cells\n",
       "var notebookContainer = gd.closest('#notebook-container');\n",
       "if (notebookContainer) {{\n",
       "    x.observe(notebookContainer, {childList: true});\n",
       "}}\n",
       "\n",
       "// Listen for the clearing of the current output cell\n",
       "var outputEl = gd.closest('.output');\n",
       "if (outputEl) {{\n",
       "    x.observe(outputEl, {childList: true});\n",
       "}}\n",
       "\n",
       "                        })\n",
       "                };\n",
       "                });\n",
       "            </script>\n",
       "        </div>"
      ]
     },
     "metadata": {},
     "output_type": "display_data"
    }
   ],
   "source": [
    "import plotly.express as px\n",
    "fig = px.scatter(seatbmergepd.query(\"Year==2017\"), x=\"Tuberculosis\", y=\"Expected_Value_Water\", size=\"population\", color=\"Country\",\n",
    "           hover_name=\"Country\", log_x=True, size_max=60)\n",
    "fig.show()"
   ]
  },
  {
   "cell_type": "markdown",
   "metadata": {},
   "source": [
    "## ADDING CHE\n"
   ]
  },
  {
   "cell_type": "code",
   "execution_count": 203,
   "metadata": {},
   "outputs": [
    {
     "data": {
      "text/plain": [
       "Unnamed: 0              int64\n",
       "Country Name           object\n",
       "2010                   object\n",
       "2011                   object\n",
       "2012                   object\n",
       "2013                   object\n",
       "2014                   object\n",
       "CHE per capita 2015    object\n",
       "CHE per capita 2016    object\n",
       "dtype: object"
      ]
     },
     "execution_count": 203,
     "metadata": {},
     "output_type": "execute_result"
    }
   ],
   "source": [
    "che=pd.read_csv('CHE_Cleaned.csv')\n",
    "che.dtypes"
   ]
  },
  {
   "cell_type": "markdown",
   "metadata": {},
   "source": [
    "## Adding immunization"
   ]
  },
  {
   "cell_type": "code",
   "execution_count": null,
   "metadata": {},
   "outputs": [],
   "source": []
  }
 ],
 "metadata": {
  "kernelspec": {
   "display_name": "Python 3",
   "language": "python",
   "name": "python3"
  },
  "language_info": {
   "codemirror_mode": {
    "name": "ipython",
    "version": 3
   },
   "file_extension": ".py",
   "mimetype": "text/x-python",
   "name": "python",
   "nbconvert_exporter": "python",
   "pygments_lexer": "ipython3",
   "version": "3.6.9"
  }
 },
 "nbformat": 4,
 "nbformat_minor": 4
}
